{
 "cells": [
  {
   "cell_type": "markdown",
   "source": [
    "**Import Libs**"
   ],
   "metadata": {
    "collapsed": false
   }
  },
  {
   "cell_type": "code",
   "execution_count": 29,
   "outputs": [],
   "source": [
    "#Import libraries\n",
    "import tensorflow as tf\n",
    "import pandas as pd"
   ],
   "metadata": {
    "collapsed": false
   }
  },
  {
   "cell_type": "markdown",
   "source": [
    "**Creating DataFrames**"
   ],
   "metadata": {
    "collapsed": false
   }
  },
  {
   "cell_type": "code",
   "execution_count": 30,
   "outputs": [],
   "source": [
    "goodreads_train = pd.read_csv(\"../../../kaggle/input/goodreads_train.csv\")\n",
    "goodreads_test = pd.read_csv(\"../../../kaggle/input/goodreads_test.csv\")"
   ],
   "metadata": {
    "collapsed": false
   }
  },
  {
   "cell_type": "code",
   "execution_count": 31,
   "outputs": [
    {
     "data": {
      "text/plain": "                                 user_id   book_id  \\\n656218  d108571e77aa604ba35091445bd0ca87   6871616   \n369391  0c0e920301135fd335774ddc77a94105  22914373   \n265144  6079cf8b963518fdf7539a289e72e5b6   6715235   \n562855  85545f10990121d567843376a190647d  15801353   \n663929  2bb93dbd4c5ac4eed74be1177ea6de67     18373   \n\n                               review_id  rating  \\\n656218  fbd7918db230d8c6c3cdfad3190355a6       2   \n369391  a131445cb82f3a22a7679c95fad8bd77       3   \n265144  ad80680780a8a200322246b0075e8cd9       4   \n562855  604242dfb1da2927669b3d707c00bfce       5   \n663929  373a8b6792dd6bc5d60b6064efa3ad5d       4   \n\n                                              review_text  \\\n656218  It was okay for what it's supposed to be - jus...   \n369391  Midnights by Rainbow Rowell - 4.5 stars \\n Lik...   \n265144  I love stories set in Victorian London and thi...   \n562855  This review can also be found on my blog schak...   \n663929  The premise of the novel was what drew me in a...   \n\n                            date_added                    date_updated  \\\n656218  Sat May 26 05:53:05 -0700 2012  Wed Jun 27 19:32:49 -0700 2012   \n369391  Wed Jun 04 04:04:48 -0700 2014  Sun Feb 12 17:16:16 -0800 2017   \n265144  Sun Sep 25 12:05:27 -0700 2011  Tue Oct 25 18:34:14 -0700 2011   \n562855  Thu Jan 15 03:19:55 -0800 2015  Fri Mar 17 02:10:12 -0700 2017   \n663929  Thu Mar 02 17:46:38 -0800 2017  Mon Sep 11 05:29:21 -0700 2017   \n\n                               read_at                      started_at  \\\n656218  Fri Jun 22 00:00:00 -0700 2012  Thu Jun 21 00:00:00 -0700 2012   \n369391  Wed Dec 24 00:00:00 -0800 2014  Sat Dec 13 00:00:00 -0800 2014   \n265144  Tue Oct 18 00:00:00 -0700 2011                             NaN   \n562855  Fri Jan 16 00:00:00 -0800 2015  Thu Jan 15 00:00:00 -0800 2015   \n663929  Mon Sep 11 05:53:09 -0700 2017  Thu Sep 07 17:33:11 -0700 2017   \n\n        n_votes  n_comments  \n656218        6          21  \n369391       22           4  \n265144        0           0  \n562855        0           0  \n663929        2           0  ",
      "text/html": "<div>\n<style scoped>\n    .dataframe tbody tr th:only-of-type {\n        vertical-align: middle;\n    }\n\n    .dataframe tbody tr th {\n        vertical-align: top;\n    }\n\n    .dataframe thead th {\n        text-align: right;\n    }\n</style>\n<table border=\"1\" class=\"dataframe\">\n  <thead>\n    <tr style=\"text-align: right;\">\n      <th></th>\n      <th>user_id</th>\n      <th>book_id</th>\n      <th>review_id</th>\n      <th>rating</th>\n      <th>review_text</th>\n      <th>date_added</th>\n      <th>date_updated</th>\n      <th>read_at</th>\n      <th>started_at</th>\n      <th>n_votes</th>\n      <th>n_comments</th>\n    </tr>\n  </thead>\n  <tbody>\n    <tr>\n      <th>656218</th>\n      <td>d108571e77aa604ba35091445bd0ca87</td>\n      <td>6871616</td>\n      <td>fbd7918db230d8c6c3cdfad3190355a6</td>\n      <td>2</td>\n      <td>It was okay for what it's supposed to be - jus...</td>\n      <td>Sat May 26 05:53:05 -0700 2012</td>\n      <td>Wed Jun 27 19:32:49 -0700 2012</td>\n      <td>Fri Jun 22 00:00:00 -0700 2012</td>\n      <td>Thu Jun 21 00:00:00 -0700 2012</td>\n      <td>6</td>\n      <td>21</td>\n    </tr>\n    <tr>\n      <th>369391</th>\n      <td>0c0e920301135fd335774ddc77a94105</td>\n      <td>22914373</td>\n      <td>a131445cb82f3a22a7679c95fad8bd77</td>\n      <td>3</td>\n      <td>Midnights by Rainbow Rowell - 4.5 stars \\n Lik...</td>\n      <td>Wed Jun 04 04:04:48 -0700 2014</td>\n      <td>Sun Feb 12 17:16:16 -0800 2017</td>\n      <td>Wed Dec 24 00:00:00 -0800 2014</td>\n      <td>Sat Dec 13 00:00:00 -0800 2014</td>\n      <td>22</td>\n      <td>4</td>\n    </tr>\n    <tr>\n      <th>265144</th>\n      <td>6079cf8b963518fdf7539a289e72e5b6</td>\n      <td>6715235</td>\n      <td>ad80680780a8a200322246b0075e8cd9</td>\n      <td>4</td>\n      <td>I love stories set in Victorian London and thi...</td>\n      <td>Sun Sep 25 12:05:27 -0700 2011</td>\n      <td>Tue Oct 25 18:34:14 -0700 2011</td>\n      <td>Tue Oct 18 00:00:00 -0700 2011</td>\n      <td>NaN</td>\n      <td>0</td>\n      <td>0</td>\n    </tr>\n    <tr>\n      <th>562855</th>\n      <td>85545f10990121d567843376a190647d</td>\n      <td>15801353</td>\n      <td>604242dfb1da2927669b3d707c00bfce</td>\n      <td>5</td>\n      <td>This review can also be found on my blog schak...</td>\n      <td>Thu Jan 15 03:19:55 -0800 2015</td>\n      <td>Fri Mar 17 02:10:12 -0700 2017</td>\n      <td>Fri Jan 16 00:00:00 -0800 2015</td>\n      <td>Thu Jan 15 00:00:00 -0800 2015</td>\n      <td>0</td>\n      <td>0</td>\n    </tr>\n    <tr>\n      <th>663929</th>\n      <td>2bb93dbd4c5ac4eed74be1177ea6de67</td>\n      <td>18373</td>\n      <td>373a8b6792dd6bc5d60b6064efa3ad5d</td>\n      <td>4</td>\n      <td>The premise of the novel was what drew me in a...</td>\n      <td>Thu Mar 02 17:46:38 -0800 2017</td>\n      <td>Mon Sep 11 05:29:21 -0700 2017</td>\n      <td>Mon Sep 11 05:53:09 -0700 2017</td>\n      <td>Thu Sep 07 17:33:11 -0700 2017</td>\n      <td>2</td>\n      <td>0</td>\n    </tr>\n  </tbody>\n</table>\n</div>"
     },
     "execution_count": 31,
     "metadata": {},
     "output_type": "execute_result"
    }
   ],
   "source": [
    "goodreads_train.sample(5)"
   ],
   "metadata": {
    "collapsed": false
   }
  },
  {
   "cell_type": "code",
   "execution_count": 32,
   "outputs": [
    {
     "data": {
      "text/plain": "                                 user_id   book_id  \\\n88104   c805cb21c23d78cfb118c98734d1eb85  12287209   \n125018  2bad38f1598af95cb87ea6e518c27b3d  25074849   \n387821  c78a9fbd8ca324ae8cffa630f48a0c6c  13047090   \n428577  6c5752c51fce7dcff3ddba0c71e4a0ea      5907   \n297988  0c7429f150417a1af3c7045fc89a3f4e  16002136   \n\n                               review_id  \\\n88104   dff946091e0807dfb30b56d9326bbb4b   \n125018  2903db91605269af7bc340bcf5c5dd54   \n387821  9dcec3f29dea738c25dc3159faaf66b7   \n428577  16b1f5098d701c8cb904d9ad5c15095c   \n297988  8ac2fdc9a71f71551d506d6d8d04d43f   \n\n                                              review_text  \\\n88104   Very, very cool concept. \\n Not really-but-kin...   \n125018  I absolutely loved how unapologetic and in-you...   \n387821  I couldn't get into this. The first one was al...   \n428577  Mediocre. Spoilers below! \\n Bilbo and friends...   \n297988  ohmygosh, Clint, I love you and your dogs. \\n ...   \n\n                            date_added                    date_updated  \\\n88104   Thu May 24 15:13:19 -0700 2012  Thu May 24 15:14:38 -0700 2012   \n125018  Mon May 11 13:24:01 -0700 2015  Mon Oct 17 17:41:03 -0700 2016   \n387821  Sat Feb 25 22:18:01 -0800 2017  Mon Feb 27 23:03:50 -0800 2017   \n428577  Sun Dec 29 02:52:43 -0800 2013  Sun Mar 02 04:42:54 -0800 2014   \n297988  Tue Dec 03 18:51:35 -0800 2013  Wed Sep 06 12:49:07 -0700 2017   \n\n                               read_at                      started_at  \\\n88104   Thu May 24 15:14:38 -0700 2012                             NaN   \n125018  Tue Feb 16 00:00:00 -0800 2016                             NaN   \n387821  Mon Feb 27 00:00:00 -0800 2017  Sat Feb 25 00:00:00 -0800 2017   \n428577  Sun Mar 02 04:42:54 -0800 2014  Wed Feb 05 00:00:00 -0800 2014   \n297988  Thu Jul 02 06:24:17 -0700 2015  Wed Jul 01 00:00:00 -0700 2015   \n\n        n_votes  n_comments  \n88104         1           0  \n125018        5           0  \n387821        0           0  \n428577        0           0  \n297988        1           0  ",
      "text/html": "<div>\n<style scoped>\n    .dataframe tbody tr th:only-of-type {\n        vertical-align: middle;\n    }\n\n    .dataframe tbody tr th {\n        vertical-align: top;\n    }\n\n    .dataframe thead th {\n        text-align: right;\n    }\n</style>\n<table border=\"1\" class=\"dataframe\">\n  <thead>\n    <tr style=\"text-align: right;\">\n      <th></th>\n      <th>user_id</th>\n      <th>book_id</th>\n      <th>review_id</th>\n      <th>review_text</th>\n      <th>date_added</th>\n      <th>date_updated</th>\n      <th>read_at</th>\n      <th>started_at</th>\n      <th>n_votes</th>\n      <th>n_comments</th>\n    </tr>\n  </thead>\n  <tbody>\n    <tr>\n      <th>88104</th>\n      <td>c805cb21c23d78cfb118c98734d1eb85</td>\n      <td>12287209</td>\n      <td>dff946091e0807dfb30b56d9326bbb4b</td>\n      <td>Very, very cool concept. \\n Not really-but-kin...</td>\n      <td>Thu May 24 15:13:19 -0700 2012</td>\n      <td>Thu May 24 15:14:38 -0700 2012</td>\n      <td>Thu May 24 15:14:38 -0700 2012</td>\n      <td>NaN</td>\n      <td>1</td>\n      <td>0</td>\n    </tr>\n    <tr>\n      <th>125018</th>\n      <td>2bad38f1598af95cb87ea6e518c27b3d</td>\n      <td>25074849</td>\n      <td>2903db91605269af7bc340bcf5c5dd54</td>\n      <td>I absolutely loved how unapologetic and in-you...</td>\n      <td>Mon May 11 13:24:01 -0700 2015</td>\n      <td>Mon Oct 17 17:41:03 -0700 2016</td>\n      <td>Tue Feb 16 00:00:00 -0800 2016</td>\n      <td>NaN</td>\n      <td>5</td>\n      <td>0</td>\n    </tr>\n    <tr>\n      <th>387821</th>\n      <td>c78a9fbd8ca324ae8cffa630f48a0c6c</td>\n      <td>13047090</td>\n      <td>9dcec3f29dea738c25dc3159faaf66b7</td>\n      <td>I couldn't get into this. The first one was al...</td>\n      <td>Sat Feb 25 22:18:01 -0800 2017</td>\n      <td>Mon Feb 27 23:03:50 -0800 2017</td>\n      <td>Mon Feb 27 00:00:00 -0800 2017</td>\n      <td>Sat Feb 25 00:00:00 -0800 2017</td>\n      <td>0</td>\n      <td>0</td>\n    </tr>\n    <tr>\n      <th>428577</th>\n      <td>6c5752c51fce7dcff3ddba0c71e4a0ea</td>\n      <td>5907</td>\n      <td>16b1f5098d701c8cb904d9ad5c15095c</td>\n      <td>Mediocre. Spoilers below! \\n Bilbo and friends...</td>\n      <td>Sun Dec 29 02:52:43 -0800 2013</td>\n      <td>Sun Mar 02 04:42:54 -0800 2014</td>\n      <td>Sun Mar 02 04:42:54 -0800 2014</td>\n      <td>Wed Feb 05 00:00:00 -0800 2014</td>\n      <td>0</td>\n      <td>0</td>\n    </tr>\n    <tr>\n      <th>297988</th>\n      <td>0c7429f150417a1af3c7045fc89a3f4e</td>\n      <td>16002136</td>\n      <td>8ac2fdc9a71f71551d506d6d8d04d43f</td>\n      <td>ohmygosh, Clint, I love you and your dogs. \\n ...</td>\n      <td>Tue Dec 03 18:51:35 -0800 2013</td>\n      <td>Wed Sep 06 12:49:07 -0700 2017</td>\n      <td>Thu Jul 02 06:24:17 -0700 2015</td>\n      <td>Wed Jul 01 00:00:00 -0700 2015</td>\n      <td>1</td>\n      <td>0</td>\n    </tr>\n  </tbody>\n</table>\n</div>"
     },
     "execution_count": 32,
     "metadata": {},
     "output_type": "execute_result"
    }
   ],
   "source": [
    "goodreads_test.sample(5)"
   ],
   "metadata": {
    "collapsed": false
   }
  },
  {
   "cell_type": "markdown",
   "source": [
    "**Cleaning Data**"
   ],
   "metadata": {
    "collapsed": false
   }
  },
  {
   "cell_type": "code",
   "execution_count": 33,
   "outputs": [
    {
     "data": {
      "text/plain": "                          review_id  rating  \\\n0  dfdbb7b0eb5a7e4c26d59a937e2e5feb       5   \n1  a5d2c3628987712d0e05c4f90798eb67       3   \n2  2ede853b14dc4583f96cf5d120af636f       3   \n3  ced5675e55cd9d38a524743f5c40996e       0   \n4  332732725863131279a8e345b63ac33e       4   \n\n                                         review_text  n_votes  n_comments  \n0  This is a special book. It started slow for ab...       28           1  \n1  Recommended by Don Katz. Avail for free in Dec...        1           0  \n2  A fun, fast paced science fiction thriller. I ...       22           0  \n3  Recommended reading to understand what is goin...        5           1  \n4  I really enjoyed this book, and there is a lot...        9           1  ",
      "text/html": "<div>\n<style scoped>\n    .dataframe tbody tr th:only-of-type {\n        vertical-align: middle;\n    }\n\n    .dataframe tbody tr th {\n        vertical-align: top;\n    }\n\n    .dataframe thead th {\n        text-align: right;\n    }\n</style>\n<table border=\"1\" class=\"dataframe\">\n  <thead>\n    <tr style=\"text-align: right;\">\n      <th></th>\n      <th>review_id</th>\n      <th>rating</th>\n      <th>review_text</th>\n      <th>n_votes</th>\n      <th>n_comments</th>\n    </tr>\n  </thead>\n  <tbody>\n    <tr>\n      <th>0</th>\n      <td>dfdbb7b0eb5a7e4c26d59a937e2e5feb</td>\n      <td>5</td>\n      <td>This is a special book. It started slow for ab...</td>\n      <td>28</td>\n      <td>1</td>\n    </tr>\n    <tr>\n      <th>1</th>\n      <td>a5d2c3628987712d0e05c4f90798eb67</td>\n      <td>3</td>\n      <td>Recommended by Don Katz. Avail for free in Dec...</td>\n      <td>1</td>\n      <td>0</td>\n    </tr>\n    <tr>\n      <th>2</th>\n      <td>2ede853b14dc4583f96cf5d120af636f</td>\n      <td>3</td>\n      <td>A fun, fast paced science fiction thriller. I ...</td>\n      <td>22</td>\n      <td>0</td>\n    </tr>\n    <tr>\n      <th>3</th>\n      <td>ced5675e55cd9d38a524743f5c40996e</td>\n      <td>0</td>\n      <td>Recommended reading to understand what is goin...</td>\n      <td>5</td>\n      <td>1</td>\n    </tr>\n    <tr>\n      <th>4</th>\n      <td>332732725863131279a8e345b63ac33e</td>\n      <td>4</td>\n      <td>I really enjoyed this book, and there is a lot...</td>\n      <td>9</td>\n      <td>1</td>\n    </tr>\n  </tbody>\n</table>\n</div>"
     },
     "execution_count": 33,
     "metadata": {},
     "output_type": "execute_result"
    }
   ],
   "source": [
    "train_ds = goodreads_train.drop(columns=['user_id', 'book_id' ,'date_added', 'date_updated', 'read_at', 'started_at'], axis=0)\n",
    "train_ds.head()"
   ],
   "metadata": {
    "collapsed": false
   }
  },
  {
   "cell_type": "code",
   "execution_count": 34,
   "outputs": [],
   "source": [
    "x = train_ds.drop('rating', axis=1)\n",
    "y = train_ds['rating']"
   ],
   "metadata": {
    "collapsed": false
   }
  },
  {
   "cell_type": "code",
   "execution_count": 35,
   "outputs": [
    {
     "data": {
      "text/plain": "                          review_id  \\\n0  dfdbb7b0eb5a7e4c26d59a937e2e5feb   \n1  a5d2c3628987712d0e05c4f90798eb67   \n2  2ede853b14dc4583f96cf5d120af636f   \n3  ced5675e55cd9d38a524743f5c40996e   \n4  332732725863131279a8e345b63ac33e   \n\n                                         review_text  n_votes  n_comments  \n0  This is a special book. It started slow for ab...       28           1  \n1  Recommended by Don Katz. Avail for free in Dec...        1           0  \n2  A fun, fast paced science fiction thriller. I ...       22           0  \n3  Recommended reading to understand what is goin...        5           1  \n4  I really enjoyed this book, and there is a lot...        9           1  ",
      "text/html": "<div>\n<style scoped>\n    .dataframe tbody tr th:only-of-type {\n        vertical-align: middle;\n    }\n\n    .dataframe tbody tr th {\n        vertical-align: top;\n    }\n\n    .dataframe thead th {\n        text-align: right;\n    }\n</style>\n<table border=\"1\" class=\"dataframe\">\n  <thead>\n    <tr style=\"text-align: right;\">\n      <th></th>\n      <th>review_id</th>\n      <th>review_text</th>\n      <th>n_votes</th>\n      <th>n_comments</th>\n    </tr>\n  </thead>\n  <tbody>\n    <tr>\n      <th>0</th>\n      <td>dfdbb7b0eb5a7e4c26d59a937e2e5feb</td>\n      <td>This is a special book. It started slow for ab...</td>\n      <td>28</td>\n      <td>1</td>\n    </tr>\n    <tr>\n      <th>1</th>\n      <td>a5d2c3628987712d0e05c4f90798eb67</td>\n      <td>Recommended by Don Katz. Avail for free in Dec...</td>\n      <td>1</td>\n      <td>0</td>\n    </tr>\n    <tr>\n      <th>2</th>\n      <td>2ede853b14dc4583f96cf5d120af636f</td>\n      <td>A fun, fast paced science fiction thriller. I ...</td>\n      <td>22</td>\n      <td>0</td>\n    </tr>\n    <tr>\n      <th>3</th>\n      <td>ced5675e55cd9d38a524743f5c40996e</td>\n      <td>Recommended reading to understand what is goin...</td>\n      <td>5</td>\n      <td>1</td>\n    </tr>\n    <tr>\n      <th>4</th>\n      <td>332732725863131279a8e345b63ac33e</td>\n      <td>I really enjoyed this book, and there is a lot...</td>\n      <td>9</td>\n      <td>1</td>\n    </tr>\n  </tbody>\n</table>\n</div>"
     },
     "execution_count": 35,
     "metadata": {},
     "output_type": "execute_result"
    }
   ],
   "source": [
    "x.head()"
   ],
   "metadata": {
    "collapsed": false
   }
  },
  {
   "cell_type": "code",
   "execution_count": 36,
   "outputs": [
    {
     "data": {
      "text/plain": "0    5\n1    3\n2    3\n3    0\n4    4\nName: rating, dtype: int64"
     },
     "execution_count": 36,
     "metadata": {},
     "output_type": "execute_result"
    }
   ],
   "source": [
    "y.head()"
   ],
   "metadata": {
    "collapsed": false
   }
  },
  {
   "cell_type": "markdown",
   "source": [
    "**NLP**"
   ],
   "metadata": {
    "collapsed": false
   }
  },
  {
   "cell_type": "code",
   "execution_count": 44,
   "outputs": [],
   "source": [
    "target_scaler = MinMaxScaler()"
   ],
   "metadata": {
    "collapsed": false
   }
  },
  {
   "cell_type": "code",
   "execution_count": 45,
   "outputs": [
    {
     "ename": "ValueError",
     "evalue": "Exception encountered when calling layer \"category_encoding_2\" \"                 f\"(type CategoryEncoding).\n\nFailed to convert a NumPy array to a Tensor (Unsupported object type int).\n\nCall arguments received by layer \"category_encoding_2\" \"                 f\"(type CategoryEncoding):\n  • inputs=                               review_id  \\\n0       dfdbb7b0eb5a7e4c26d59a937e2e5feb   \n1       a5d2c3628987712d0e05c4f90798eb67   \n2       2ede853b14dc4583f96cf5d120af636f   \n3       ced5675e55cd9d38a524743f5c40996e   \n4       332732725863131279a8e345b63ac33e   \n...                                  ...   \n899995  7c34c15ad8cb28a4afca32946e2016ea   \n899996  e979c735276431915d089cfaf446d64f   \n899997  feb9fe6439f9fbba8a1cce36020ad977   \n899998  741e29369f70531bfffbd02add86f228   \n899999  d55f3a967230940e75a314700caec9a5   \n\n                                              review_text  n_votes  n_comments  \n0       This is a special book. It started slow for ab...       28           1  \n1       Recommended by Don Katz. Avail for free in Dec...        1           0  \n2       A fun, fast paced science fiction thriller. I ...       22           0  \n3       Recommended reading to understand what is goin...        5           1  \n4       I really enjoyed this book, and there is a lot...        9           1  \n...                                                   ...      ...         ...  \n899995  3.5 stars. \\n Jenna is a popular YA author and...        0           0  \n899996  This was a quick read for me. I have read a lo...        1           1  \n899997  ** spoiler alert ** \\n 3.5 stars. \\n This book...        1           0  \n899998  ** spoiler alert ** \\n Another fun read from M...        0           0  \n899999  ** spoiler alert ** \\n 3.5 stars \\n I liked it...        0           0  \n\n[900000 rows x 4 columns]\n  • count_weights=None",
     "output_type": "error",
     "traceback": [
      "\u001B[1;31m---------------------------------------------------------------------------\u001B[0m",
      "\u001B[1;31mValueError\u001B[0m                                Traceback (most recent call last)",
      "Input \u001B[1;32mIn [45]\u001B[0m, in \u001B[0;36m<cell line: 1>\u001B[1;34m()\u001B[0m\n\u001B[1;32m----> 1\u001B[0m \u001B[43mlayer\u001B[49m\u001B[43m(\u001B[49m\u001B[43mx\u001B[49m\u001B[43m)\u001B[49m\n",
      "File \u001B[1;32m~\\anaconda3\\envs\\4IABD1_DL\\lib\\site-packages\\keras\\utils\\traceback_utils.py:70\u001B[0m, in \u001B[0;36mfilter_traceback.<locals>.error_handler\u001B[1;34m(*args, **kwargs)\u001B[0m\n\u001B[0;32m     67\u001B[0m     filtered_tb \u001B[38;5;241m=\u001B[39m _process_traceback_frames(e\u001B[38;5;241m.\u001B[39m__traceback__)\n\u001B[0;32m     68\u001B[0m     \u001B[38;5;66;03m# To get the full stack trace, call:\u001B[39;00m\n\u001B[0;32m     69\u001B[0m     \u001B[38;5;66;03m# `tf.debugging.disable_traceback_filtering()`\u001B[39;00m\n\u001B[1;32m---> 70\u001B[0m     \u001B[38;5;28;01mraise\u001B[39;00m e\u001B[38;5;241m.\u001B[39mwith_traceback(filtered_tb) \u001B[38;5;28;01mfrom\u001B[39;00m \u001B[38;5;28mNone\u001B[39m\n\u001B[0;32m     71\u001B[0m \u001B[38;5;28;01mfinally\u001B[39;00m:\n\u001B[0;32m     72\u001B[0m     \u001B[38;5;28;01mdel\u001B[39;00m filtered_tb\n",
      "File \u001B[1;32m~\\anaconda3\\envs\\4IABD1_DL\\lib\\site-packages\\tensorflow\\python\\framework\\constant_op.py:102\u001B[0m, in \u001B[0;36mconvert_to_eager_tensor\u001B[1;34m(value, ctx, dtype)\u001B[0m\n\u001B[0;32m    100\u001B[0m     dtype \u001B[38;5;241m=\u001B[39m dtypes\u001B[38;5;241m.\u001B[39mas_dtype(dtype)\u001B[38;5;241m.\u001B[39mas_datatype_enum\n\u001B[0;32m    101\u001B[0m ctx\u001B[38;5;241m.\u001B[39mensure_initialized()\n\u001B[1;32m--> 102\u001B[0m \u001B[38;5;28;01mreturn\u001B[39;00m \u001B[43mops\u001B[49m\u001B[38;5;241;43m.\u001B[39;49m\u001B[43mEagerTensor\u001B[49m\u001B[43m(\u001B[49m\u001B[43mvalue\u001B[49m\u001B[43m,\u001B[49m\u001B[43m \u001B[49m\u001B[43mctx\u001B[49m\u001B[38;5;241;43m.\u001B[39;49m\u001B[43mdevice_name\u001B[49m\u001B[43m,\u001B[49m\u001B[43m \u001B[49m\u001B[43mdtype\u001B[49m\u001B[43m)\u001B[49m\n",
      "\u001B[1;31mValueError\u001B[0m: Exception encountered when calling layer \"category_encoding_2\" \"                 f\"(type CategoryEncoding).\n\nFailed to convert a NumPy array to a Tensor (Unsupported object type int).\n\nCall arguments received by layer \"category_encoding_2\" \"                 f\"(type CategoryEncoding):\n  • inputs=                               review_id  \\\n0       dfdbb7b0eb5a7e4c26d59a937e2e5feb   \n1       a5d2c3628987712d0e05c4f90798eb67   \n2       2ede853b14dc4583f96cf5d120af636f   \n3       ced5675e55cd9d38a524743f5c40996e   \n4       332732725863131279a8e345b63ac33e   \n...                                  ...   \n899995  7c34c15ad8cb28a4afca32946e2016ea   \n899996  e979c735276431915d089cfaf446d64f   \n899997  feb9fe6439f9fbba8a1cce36020ad977   \n899998  741e29369f70531bfffbd02add86f228   \n899999  d55f3a967230940e75a314700caec9a5   \n\n                                              review_text  n_votes  n_comments  \n0       This is a special book. It started slow for ab...       28           1  \n1       Recommended by Don Katz. Avail for free in Dec...        1           0  \n2       A fun, fast paced science fiction thriller. I ...       22           0  \n3       Recommended reading to understand what is goin...        5           1  \n4       I really enjoyed this book, and there is a lot...        9           1  \n...                                                   ...      ...         ...  \n899995  3.5 stars. \\n Jenna is a popular YA author and...        0           0  \n899996  This was a quick read for me. I have read a lo...        1           1  \n899997  ** spoiler alert ** \\n 3.5 stars. \\n This book...        1           0  \n899998  ** spoiler alert ** \\n Another fun read from M...        0           0  \n899999  ** spoiler alert ** \\n 3.5 stars \\n I liked it...        0           0  \n\n[900000 rows x 4 columns]\n  • count_weights=None"
     ]
    }
   ],
   "source": [
    "layer(x)"
   ],
   "metadata": {
    "collapsed": false
   }
  },
  {
   "cell_type": "markdown",
   "source": [
    "MLP Training"
   ],
   "metadata": {
    "collapsed": false
   }
  },
  {
   "cell_type": "code",
   "execution_count": null,
   "outputs": [],
   "source": [
    "def mlp(x_train: Any):\n",
    "    model = tf.keras.Sequential([\n",
    "        tf.keras.layers.Dense(256, activation='sigmoid'),\n",
    "        tf.keras.layers.Dense(128, activation='sigmoid'),\n",
    "        tf.keras.layers.Dense(10, activation='sigmoid')\n",
    "    ])\n",
    "\n",
    "    model.compile(loss=tf.keras.losses.BinaryCrossentropy(from_logits=True),\n",
    "                  optimizer='adam',\n",
    "                  metrics=tf.metrics.BinaryAccuracy(threshold=0.0))\n",
    "\n",
    "    history = model.fit(\n",
    "        x_train,\n",
    "        y_train,\n",
    "        epochs=10,\n",
    "        callbacks=[\n",
    "            tf.keras.callbacks.TensorBoard(log_dir=\"tensorboard_logs/ML/MLP\")\n",
    "        ],\n",
    "        batch_size=256\n",
    "    )"
   ],
   "metadata": {
    "collapsed": false
   }
  },
  {
   "cell_type": "code",
   "execution_count": null,
   "outputs": [],
   "source": [
    "mlp(x_train, y_train)"
   ],
   "metadata": {
    "collapsed": false
   }
  },
  {
   "cell_type": "code",
   "execution_count": null,
   "outputs": [],
   "source": [
    "% load_ext tensorboard"
   ],
   "metadata": {
    "collapsed": false
   }
  },
  {
   "cell_type": "code",
   "execution_count": null,
   "outputs": [],
   "source": [
    "% tensorboard --logdir tensorboard_logs / ML / MLP"
   ],
   "metadata": {
    "collapsed": false
   }
  }
 ],
 "metadata": {
  "kernelspec": {
   "display_name": "Python 3",
   "language": "python",
   "name": "python3"
  },
  "language_info": {
   "codemirror_mode": {
    "name": "ipython",
    "version": 2
   },
   "file_extension": ".py",
   "mimetype": "text/x-python",
   "name": "python",
   "nbconvert_exporter": "python",
   "pygments_lexer": "ipython2",
   "version": "2.7.6"
  }
 },
 "nbformat": 4,
 "nbformat_minor": 0
}
