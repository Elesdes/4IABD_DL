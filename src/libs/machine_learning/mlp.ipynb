{
 "cells": [
  {
   "cell_type": "markdown",
   "source": [
    "**Import Libs**"
   ],
   "metadata": {
    "collapsed": false
   }
  },
  {
   "cell_type": "code",
   "execution_count": 5,
   "outputs": [],
   "source": [
    "#Import libraries\n",
    "import tensorflow as tf\n",
    "import pandas as pd"
   ],
   "metadata": {
    "collapsed": false
   }
  },
  {
   "cell_type": "markdown",
   "source": [
    "**Creating DataFrames**"
   ],
   "metadata": {
    "collapsed": false
   }
  },
  {
   "cell_type": "code",
   "execution_count": 6,
   "outputs": [],
   "source": [
    "goodreads_train = pd.read_csv(\"../../../kaggle/input/goodreads_train.csv\")\n",
    "goodreads_test = pd.read_csv(\"../../../kaggle/input/goodreads_test.csv\")"
   ],
   "metadata": {
    "collapsed": false
   }
  },
  {
   "cell_type": "code",
   "execution_count": 7,
   "outputs": [
    {
     "data": {
      "text/plain": "                                 user_id   book_id  \\\n446533  514f5e2e6c18219483d89d71a9745c97  11861815   \n310874  d9cfab35a87e32084b1817dfb0e98748      4136   \n188739  09a81ba8eb89a4e86330005a02abb447  29415084   \n241839  8913e53623e2e49eb987f48875b1d67c     59810   \n61978   3a6b05f4e9049a575848f1897ab780fc  25573701   \n\n                               review_id  rating  \\\n446533  d91b8d8178dbe6e7e98326c4f0a4d5f3       4   \n310874  5968f119b25a5559403ac3d81ff444a7       2   \n188739  5e84e329717a19c42285a78b83e94a2a       4   \n241839  66e0d774f124080eae0a435019dc3f22       4   \n61978   516d7073bb74b1e59e4507f8159ad12f       4   \n\n                                              review_text  \\\n446533  ** spoiler alert ** \\n Being a woman, whose br...   \n310874  This was just not for me. I've read Sedaris' o...   \n188739  I loved this even though it took me forever to...   \n241839  I don't believe in \"guilty pleasure\" reading b...   \n61978   I'm pretty sure I teared up a little bit readi...   \n\n                            date_added                    date_updated  \\\n446533  Wed May 21 00:04:17 -0700 2014  Fri Oct 07 14:32:38 -0700 2016   \n310874  Mon Dec 31 13:21:15 -0800 2012  Mon Dec 31 20:13:07 -0800 2012   \n188739  Mon Apr 17 14:40:22 -0700 2017  Sun May 07 09:03:32 -0700 2017   \n241839  Tue Nov 04 14:18:49 -0800 2008  Tue Nov 29 03:02:46 -0800 2011   \n61978   Sun Feb 14 21:02:49 -0800 2016  Tue Mar 01 21:01:56 -0800 2016   \n\n                               read_at                      started_at  \\\n446533  Mon Jun 02 00:00:00 -0700 2014  Wed May 21 00:00:00 -0700 2014   \n310874  Mon Dec 31 20:11:13 -0800 2012  Mon Dec 31 00:00:00 -0800 2012   \n188739  Mon May 01 06:41:24 -0700 2017  Mon Apr 17 00:00:00 -0700 2017   \n241839                             NaN                             NaN   \n61978   Thu Feb 18 00:00:00 -0800 2016                             NaN   \n\n        n_votes  n_comments  \n446533        0           0  \n310874        0           0  \n188739        3           0  \n241839        0           0  \n61978         0           0  ",
      "text/html": "<div>\n<style scoped>\n    .dataframe tbody tr th:only-of-type {\n        vertical-align: middle;\n    }\n\n    .dataframe tbody tr th {\n        vertical-align: top;\n    }\n\n    .dataframe thead th {\n        text-align: right;\n    }\n</style>\n<table border=\"1\" class=\"dataframe\">\n  <thead>\n    <tr style=\"text-align: right;\">\n      <th></th>\n      <th>user_id</th>\n      <th>book_id</th>\n      <th>review_id</th>\n      <th>rating</th>\n      <th>review_text</th>\n      <th>date_added</th>\n      <th>date_updated</th>\n      <th>read_at</th>\n      <th>started_at</th>\n      <th>n_votes</th>\n      <th>n_comments</th>\n    </tr>\n  </thead>\n  <tbody>\n    <tr>\n      <th>446533</th>\n      <td>514f5e2e6c18219483d89d71a9745c97</td>\n      <td>11861815</td>\n      <td>d91b8d8178dbe6e7e98326c4f0a4d5f3</td>\n      <td>4</td>\n      <td>** spoiler alert ** \\n Being a woman, whose br...</td>\n      <td>Wed May 21 00:04:17 -0700 2014</td>\n      <td>Fri Oct 07 14:32:38 -0700 2016</td>\n      <td>Mon Jun 02 00:00:00 -0700 2014</td>\n      <td>Wed May 21 00:00:00 -0700 2014</td>\n      <td>0</td>\n      <td>0</td>\n    </tr>\n    <tr>\n      <th>310874</th>\n      <td>d9cfab35a87e32084b1817dfb0e98748</td>\n      <td>4136</td>\n      <td>5968f119b25a5559403ac3d81ff444a7</td>\n      <td>2</td>\n      <td>This was just not for me. I've read Sedaris' o...</td>\n      <td>Mon Dec 31 13:21:15 -0800 2012</td>\n      <td>Mon Dec 31 20:13:07 -0800 2012</td>\n      <td>Mon Dec 31 20:11:13 -0800 2012</td>\n      <td>Mon Dec 31 00:00:00 -0800 2012</td>\n      <td>0</td>\n      <td>0</td>\n    </tr>\n    <tr>\n      <th>188739</th>\n      <td>09a81ba8eb89a4e86330005a02abb447</td>\n      <td>29415084</td>\n      <td>5e84e329717a19c42285a78b83e94a2a</td>\n      <td>4</td>\n      <td>I loved this even though it took me forever to...</td>\n      <td>Mon Apr 17 14:40:22 -0700 2017</td>\n      <td>Sun May 07 09:03:32 -0700 2017</td>\n      <td>Mon May 01 06:41:24 -0700 2017</td>\n      <td>Mon Apr 17 00:00:00 -0700 2017</td>\n      <td>3</td>\n      <td>0</td>\n    </tr>\n    <tr>\n      <th>241839</th>\n      <td>8913e53623e2e49eb987f48875b1d67c</td>\n      <td>59810</td>\n      <td>66e0d774f124080eae0a435019dc3f22</td>\n      <td>4</td>\n      <td>I don't believe in \"guilty pleasure\" reading b...</td>\n      <td>Tue Nov 04 14:18:49 -0800 2008</td>\n      <td>Tue Nov 29 03:02:46 -0800 2011</td>\n      <td>NaN</td>\n      <td>NaN</td>\n      <td>0</td>\n      <td>0</td>\n    </tr>\n    <tr>\n      <th>61978</th>\n      <td>3a6b05f4e9049a575848f1897ab780fc</td>\n      <td>25573701</td>\n      <td>516d7073bb74b1e59e4507f8159ad12f</td>\n      <td>4</td>\n      <td>I'm pretty sure I teared up a little bit readi...</td>\n      <td>Sun Feb 14 21:02:49 -0800 2016</td>\n      <td>Tue Mar 01 21:01:56 -0800 2016</td>\n      <td>Thu Feb 18 00:00:00 -0800 2016</td>\n      <td>NaN</td>\n      <td>0</td>\n      <td>0</td>\n    </tr>\n  </tbody>\n</table>\n</div>"
     },
     "execution_count": 7,
     "metadata": {},
     "output_type": "execute_result"
    }
   ],
   "source": [
    "goodreads_train.sample(5)"
   ],
   "metadata": {
    "collapsed": false
   }
  },
  {
   "cell_type": "code",
   "execution_count": 8,
   "outputs": [
    {
     "data": {
      "text/plain": "                                 user_id   book_id  \\\n8809    5aeeed395f785e774a34c86f05dfbd19  15813668   \n381881  74b5726a925f88114b3edd8d2a4931f0   7747374   \n318755  ba27989b4bbf70d52ba5e3625472e37d  26228034   \n119381  1756eaecebd7f9afe594b826d8432f7d  20652088   \n375322  1c659d3b561ca0e48505b89a61b6b06d  25893709   \n\n                               review_id  \\\n8809    d2c8970a9fda8ce7eedba8f53fd7d2ea   \n381881  19324c577161b499a3e0de2dd0c9c3a6   \n318755  bc91ab90a35ead62fea7c40327d9a2be   \n119381  b262f9314f2ca9a41215eff2c3496262   \n375322  785c38a18a2a28efa98d99aa555c298f   \n\n                                              review_text  \\\n8809    OMG! Guys! I need more now. Right now. Not a y...   \n381881  I love it. I swear its the first book that had...   \n318755  Originally posted here. \\n Unfortunately, the ...   \n119381  DNF at 30%. I won't rate this because it isn't...   \n375322  This was difficult for me to rate. Parts of th...   \n\n                            date_added                    date_updated  \\\n8809    Thu Jul 18 02:49:38 -0700 2013  Thu Jul 18 02:50:48 -0700 2013   \n381881  Mon Mar 19 21:59:38 -0700 2012  Sat Sep 07 23:21:14 -0700 2013   \n318755  Mon Jul 10 06:34:26 -0700 2017  Mon Aug 14 04:14:52 -0700 2017   \n119381  Tue Feb 17 08:34:40 -0800 2015  Wed Feb 03 12:54:39 -0800 2016   \n375322  Mon Jun 06 07:00:50 -0700 2016  Mon Jun 06 09:58:48 -0700 2016   \n\n                               read_at                      started_at  \\\n8809    Thu Jul 18 02:50:48 -0700 2013                             NaN   \n381881  Sun Apr 15 00:00:00 -0700 2012  Mon Apr 09 00:00:00 -0700 2012   \n318755  Thu Aug 10 00:00:00 -0700 2017  Thu Aug 03 00:00:00 -0700 2017   \n119381                             NaN  Sun Aug 09 00:00:00 -0700 2015   \n375322  Mon Jun 06 09:58:48 -0700 2016  Mon Jun 06 00:00:00 -0700 2016   \n\n        n_votes  n_comments  \n8809          1           0  \n381881        0           0  \n318755        3           0  \n119381        0           0  \n375322        0           0  ",
      "text/html": "<div>\n<style scoped>\n    .dataframe tbody tr th:only-of-type {\n        vertical-align: middle;\n    }\n\n    .dataframe tbody tr th {\n        vertical-align: top;\n    }\n\n    .dataframe thead th {\n        text-align: right;\n    }\n</style>\n<table border=\"1\" class=\"dataframe\">\n  <thead>\n    <tr style=\"text-align: right;\">\n      <th></th>\n      <th>user_id</th>\n      <th>book_id</th>\n      <th>review_id</th>\n      <th>review_text</th>\n      <th>date_added</th>\n      <th>date_updated</th>\n      <th>read_at</th>\n      <th>started_at</th>\n      <th>n_votes</th>\n      <th>n_comments</th>\n    </tr>\n  </thead>\n  <tbody>\n    <tr>\n      <th>8809</th>\n      <td>5aeeed395f785e774a34c86f05dfbd19</td>\n      <td>15813668</td>\n      <td>d2c8970a9fda8ce7eedba8f53fd7d2ea</td>\n      <td>OMG! Guys! I need more now. Right now. Not a y...</td>\n      <td>Thu Jul 18 02:49:38 -0700 2013</td>\n      <td>Thu Jul 18 02:50:48 -0700 2013</td>\n      <td>Thu Jul 18 02:50:48 -0700 2013</td>\n      <td>NaN</td>\n      <td>1</td>\n      <td>0</td>\n    </tr>\n    <tr>\n      <th>381881</th>\n      <td>74b5726a925f88114b3edd8d2a4931f0</td>\n      <td>7747374</td>\n      <td>19324c577161b499a3e0de2dd0c9c3a6</td>\n      <td>I love it. I swear its the first book that had...</td>\n      <td>Mon Mar 19 21:59:38 -0700 2012</td>\n      <td>Sat Sep 07 23:21:14 -0700 2013</td>\n      <td>Sun Apr 15 00:00:00 -0700 2012</td>\n      <td>Mon Apr 09 00:00:00 -0700 2012</td>\n      <td>0</td>\n      <td>0</td>\n    </tr>\n    <tr>\n      <th>318755</th>\n      <td>ba27989b4bbf70d52ba5e3625472e37d</td>\n      <td>26228034</td>\n      <td>bc91ab90a35ead62fea7c40327d9a2be</td>\n      <td>Originally posted here. \\n Unfortunately, the ...</td>\n      <td>Mon Jul 10 06:34:26 -0700 2017</td>\n      <td>Mon Aug 14 04:14:52 -0700 2017</td>\n      <td>Thu Aug 10 00:00:00 -0700 2017</td>\n      <td>Thu Aug 03 00:00:00 -0700 2017</td>\n      <td>3</td>\n      <td>0</td>\n    </tr>\n    <tr>\n      <th>119381</th>\n      <td>1756eaecebd7f9afe594b826d8432f7d</td>\n      <td>20652088</td>\n      <td>b262f9314f2ca9a41215eff2c3496262</td>\n      <td>DNF at 30%. I won't rate this because it isn't...</td>\n      <td>Tue Feb 17 08:34:40 -0800 2015</td>\n      <td>Wed Feb 03 12:54:39 -0800 2016</td>\n      <td>NaN</td>\n      <td>Sun Aug 09 00:00:00 -0700 2015</td>\n      <td>0</td>\n      <td>0</td>\n    </tr>\n    <tr>\n      <th>375322</th>\n      <td>1c659d3b561ca0e48505b89a61b6b06d</td>\n      <td>25893709</td>\n      <td>785c38a18a2a28efa98d99aa555c298f</td>\n      <td>This was difficult for me to rate. Parts of th...</td>\n      <td>Mon Jun 06 07:00:50 -0700 2016</td>\n      <td>Mon Jun 06 09:58:48 -0700 2016</td>\n      <td>Mon Jun 06 09:58:48 -0700 2016</td>\n      <td>Mon Jun 06 00:00:00 -0700 2016</td>\n      <td>0</td>\n      <td>0</td>\n    </tr>\n  </tbody>\n</table>\n</div>"
     },
     "execution_count": 8,
     "metadata": {},
     "output_type": "execute_result"
    }
   ],
   "source": [
    "goodreads_test.sample(5)"
   ],
   "metadata": {
    "collapsed": false
   }
  },
  {
   "cell_type": "markdown",
   "source": [
    "**Cleaning Data**"
   ],
   "metadata": {
    "collapsed": false
   }
  },
  {
   "cell_type": "code",
   "execution_count": 65,
   "outputs": [
    {
     "data": {
      "text/plain": "                          review_id  rating  \\\n0  dfdbb7b0eb5a7e4c26d59a937e2e5feb       5   \n1  a5d2c3628987712d0e05c4f90798eb67       3   \n2  2ede853b14dc4583f96cf5d120af636f       3   \n3  ced5675e55cd9d38a524743f5c40996e       0   \n4  332732725863131279a8e345b63ac33e       4   \n\n                                         review_text  n_votes  n_comments  \n0  This is a special book. It started slow for ab...       28           1  \n1  Recommended by Don Katz. Avail for free in Dec...        1           0  \n2  A fun, fast paced science fiction thriller. I ...       22           0  \n3  Recommended reading to understand what is goin...        5           1  \n4  I really enjoyed this book, and there is a lot...        9           1  ",
      "text/html": "<div>\n<style scoped>\n    .dataframe tbody tr th:only-of-type {\n        vertical-align: middle;\n    }\n\n    .dataframe tbody tr th {\n        vertical-align: top;\n    }\n\n    .dataframe thead th {\n        text-align: right;\n    }\n</style>\n<table border=\"1\" class=\"dataframe\">\n  <thead>\n    <tr style=\"text-align: right;\">\n      <th></th>\n      <th>review_id</th>\n      <th>rating</th>\n      <th>review_text</th>\n      <th>n_votes</th>\n      <th>n_comments</th>\n    </tr>\n  </thead>\n  <tbody>\n    <tr>\n      <th>0</th>\n      <td>dfdbb7b0eb5a7e4c26d59a937e2e5feb</td>\n      <td>5</td>\n      <td>This is a special book. It started slow for ab...</td>\n      <td>28</td>\n      <td>1</td>\n    </tr>\n    <tr>\n      <th>1</th>\n      <td>a5d2c3628987712d0e05c4f90798eb67</td>\n      <td>3</td>\n      <td>Recommended by Don Katz. Avail for free in Dec...</td>\n      <td>1</td>\n      <td>0</td>\n    </tr>\n    <tr>\n      <th>2</th>\n      <td>2ede853b14dc4583f96cf5d120af636f</td>\n      <td>3</td>\n      <td>A fun, fast paced science fiction thriller. I ...</td>\n      <td>22</td>\n      <td>0</td>\n    </tr>\n    <tr>\n      <th>3</th>\n      <td>ced5675e55cd9d38a524743f5c40996e</td>\n      <td>0</td>\n      <td>Recommended reading to understand what is goin...</td>\n      <td>5</td>\n      <td>1</td>\n    </tr>\n    <tr>\n      <th>4</th>\n      <td>332732725863131279a8e345b63ac33e</td>\n      <td>4</td>\n      <td>I really enjoyed this book, and there is a lot...</td>\n      <td>9</td>\n      <td>1</td>\n    </tr>\n  </tbody>\n</table>\n</div>"
     },
     "execution_count": 65,
     "metadata": {},
     "output_type": "execute_result"
    }
   ],
   "source": [
    "train_df = goodreads_train.drop(columns=['user_id', 'book_id' ,'date_added', 'date_updated', 'read_at', 'started_at'], axis=0)\n",
    "train_df.head()"
   ],
   "metadata": {
    "collapsed": false
   }
  },
  {
   "cell_type": "code",
   "execution_count": 66,
   "outputs": [
    {
     "data": {
      "text/plain": "review_id      object\nrating          int64\nreview_text    object\nn_votes         int64\nn_comments      int64\ndtype: object"
     },
     "execution_count": 66,
     "metadata": {},
     "output_type": "execute_result"
    }
   ],
   "source": [
    "train_df.dtypes"
   ],
   "metadata": {
    "collapsed": false
   }
  },
  {
   "cell_type": "code",
   "execution_count": 69,
   "outputs": [],
   "source": [
    "y_train = train_df['rating']\n",
    "x_train = train_df.drop('rating', axis=1)"
   ],
   "metadata": {
    "collapsed": false
   }
  },
  {
   "cell_type": "code",
   "execution_count": 70,
   "outputs": [
    {
     "data": {
      "text/plain": "                          review_id  \\\n0  dfdbb7b0eb5a7e4c26d59a937e2e5feb   \n1  a5d2c3628987712d0e05c4f90798eb67   \n2  2ede853b14dc4583f96cf5d120af636f   \n3  ced5675e55cd9d38a524743f5c40996e   \n4  332732725863131279a8e345b63ac33e   \n\n                                         review_text  n_votes  n_comments  \n0  This is a special book. It started slow for ab...       28           1  \n1  Recommended by Don Katz. Avail for free in Dec...        1           0  \n2  A fun, fast paced science fiction thriller. I ...       22           0  \n3  Recommended reading to understand what is goin...        5           1  \n4  I really enjoyed this book, and there is a lot...        9           1  ",
      "text/html": "<div>\n<style scoped>\n    .dataframe tbody tr th:only-of-type {\n        vertical-align: middle;\n    }\n\n    .dataframe tbody tr th {\n        vertical-align: top;\n    }\n\n    .dataframe thead th {\n        text-align: right;\n    }\n</style>\n<table border=\"1\" class=\"dataframe\">\n  <thead>\n    <tr style=\"text-align: right;\">\n      <th></th>\n      <th>review_id</th>\n      <th>review_text</th>\n      <th>n_votes</th>\n      <th>n_comments</th>\n    </tr>\n  </thead>\n  <tbody>\n    <tr>\n      <th>0</th>\n      <td>dfdbb7b0eb5a7e4c26d59a937e2e5feb</td>\n      <td>This is a special book. It started slow for ab...</td>\n      <td>28</td>\n      <td>1</td>\n    </tr>\n    <tr>\n      <th>1</th>\n      <td>a5d2c3628987712d0e05c4f90798eb67</td>\n      <td>Recommended by Don Katz. Avail for free in Dec...</td>\n      <td>1</td>\n      <td>0</td>\n    </tr>\n    <tr>\n      <th>2</th>\n      <td>2ede853b14dc4583f96cf5d120af636f</td>\n      <td>A fun, fast paced science fiction thriller. I ...</td>\n      <td>22</td>\n      <td>0</td>\n    </tr>\n    <tr>\n      <th>3</th>\n      <td>ced5675e55cd9d38a524743f5c40996e</td>\n      <td>Recommended reading to understand what is goin...</td>\n      <td>5</td>\n      <td>1</td>\n    </tr>\n    <tr>\n      <th>4</th>\n      <td>332732725863131279a8e345b63ac33e</td>\n      <td>I really enjoyed this book, and there is a lot...</td>\n      <td>9</td>\n      <td>1</td>\n    </tr>\n  </tbody>\n</table>\n</div>"
     },
     "execution_count": 70,
     "metadata": {},
     "output_type": "execute_result"
    }
   ],
   "source": [
    "x_train.head()"
   ],
   "metadata": {
    "collapsed": false
   }
  },
  {
   "cell_type": "code",
   "execution_count": 71,
   "outputs": [
    {
     "data": {
      "text/plain": "0    5\n1    3\n2    3\n3    0\n4    4\nName: rating, dtype: int64"
     },
     "execution_count": 71,
     "metadata": {},
     "output_type": "execute_result"
    }
   ],
   "source": [
    "y_train.head()"
   ],
   "metadata": {
    "collapsed": false
   }
  },
  {
   "cell_type": "code",
   "execution_count": 73,
   "outputs": [],
   "source": [
    "from sklearn.preprocessing import LabelEncoder\n",
    "le = LabelEncoder()"
   ],
   "metadata": {
    "collapsed": false
   }
  },
  {
   "cell_type": "code",
   "execution_count": 74,
   "outputs": [],
   "source": [
    "x_train['review_id'] = le.fit_transform(x_train['review_id'])"
   ],
   "metadata": {
    "collapsed": false
   }
  },
  {
   "cell_type": "code",
   "execution_count": 75,
   "outputs": [
    {
     "data": {
      "text/plain": "   review_id                                        review_text  n_votes  \\\n0     786842  This is a special book. It started slow for ab...       28   \n1     583423  Recommended by Don Katz. Avail for free in Dec...        1   \n2     165147  A fun, fast paced science fiction thriller. I ...       22   \n3     727692  Recommended reading to understand what is goin...        5   \n4     179941  I really enjoyed this book, and there is a lot...        9   \n\n   n_comments  \n0           1  \n1           0  \n2           0  \n3           1  \n4           1  ",
      "text/html": "<div>\n<style scoped>\n    .dataframe tbody tr th:only-of-type {\n        vertical-align: middle;\n    }\n\n    .dataframe tbody tr th {\n        vertical-align: top;\n    }\n\n    .dataframe thead th {\n        text-align: right;\n    }\n</style>\n<table border=\"1\" class=\"dataframe\">\n  <thead>\n    <tr style=\"text-align: right;\">\n      <th></th>\n      <th>review_id</th>\n      <th>review_text</th>\n      <th>n_votes</th>\n      <th>n_comments</th>\n    </tr>\n  </thead>\n  <tbody>\n    <tr>\n      <th>0</th>\n      <td>786842</td>\n      <td>This is a special book. It started slow for ab...</td>\n      <td>28</td>\n      <td>1</td>\n    </tr>\n    <tr>\n      <th>1</th>\n      <td>583423</td>\n      <td>Recommended by Don Katz. Avail for free in Dec...</td>\n      <td>1</td>\n      <td>0</td>\n    </tr>\n    <tr>\n      <th>2</th>\n      <td>165147</td>\n      <td>A fun, fast paced science fiction thriller. I ...</td>\n      <td>22</td>\n      <td>0</td>\n    </tr>\n    <tr>\n      <th>3</th>\n      <td>727692</td>\n      <td>Recommended reading to understand what is goin...</td>\n      <td>5</td>\n      <td>1</td>\n    </tr>\n    <tr>\n      <th>4</th>\n      <td>179941</td>\n      <td>I really enjoyed this book, and there is a lot...</td>\n      <td>9</td>\n      <td>1</td>\n    </tr>\n  </tbody>\n</table>\n</div>"
     },
     "execution_count": 75,
     "metadata": {},
     "output_type": "execute_result"
    }
   ],
   "source": [
    "x_train.head()"
   ],
   "metadata": {
    "collapsed": false
   }
  },
  {
   "cell_type": "markdown",
   "source": [
    "**NLP**"
   ],
   "metadata": {
    "collapsed": false
   }
  },
  {
   "cell_type": "code",
   "execution_count": 78,
   "outputs": [],
   "source": [
    "from tensorflow.keras.preprocessing.text import Tokenizer\n",
    "from tensorflow.keras.preprocessing.sequence import pad_sequences\n",
    "import random"
   ],
   "metadata": {
    "collapsed": false
   }
  },
  {
   "cell_type": "code",
   "execution_count": 79,
   "outputs": [],
   "source": [
    "tokenizer = Tokenizer(num_words=10000, oov_token='<UNK>')\n",
    "\n",
    "tokenizer.fit_on_texts(x_train['review_text'])"
   ],
   "metadata": {
    "collapsed": false
   }
  },
  {
   "cell_type": "code",
   "execution_count": 80,
   "outputs": [
    {
     "name": "stdout",
     "output_type": "stream",
     "text": [
      "356490\n"
     ]
    }
   ],
   "source": [
    "print(len(tokenizer.word_index))"
   ],
   "metadata": {
    "collapsed": false
   }
  },
  {
   "cell_type": "code",
   "execution_count": 81,
   "outputs": [],
   "source": [
    "def get_sequences(tokenizer, review):\n",
    "    sequences = tokenizer.texts_to_sequences(review)\n",
    "    padded_sequences = pad_sequences(sequences, truncating='post', maxlen=1500, padding='post')\n",
    "    return padded_sequences"
   ],
   "metadata": {
    "collapsed": false
   }
  },
  {
   "cell_type": "code",
   "execution_count": 82,
   "outputs": [
    {
     "data": {
      "text/plain": "13"
     },
     "execution_count": 82,
     "metadata": {},
     "output_type": "execute_result"
    }
   ],
   "source": [
    "x_train['review_text'] = get_sequences(tokenizer, x_train['review_text'])\n",
    "x_train['review_text'][0]"
   ],
   "metadata": {
    "collapsed": false
   }
  },
  {
   "cell_type": "markdown",
   "source": [
    "MLP Training"
   ],
   "metadata": {
    "collapsed": false
   }
  },
  {
   "cell_type": "code",
   "execution_count": 15,
   "outputs": [
    {
     "ename": "NameError",
     "evalue": "name 'Any' is not defined",
     "output_type": "error",
     "traceback": [
      "\u001B[1;31m---------------------------------------------------------------------------\u001B[0m",
      "\u001B[1;31mNameError\u001B[0m                                 Traceback (most recent call last)",
      "Input \u001B[1;32mIn [15]\u001B[0m, in \u001B[0;36m<cell line: 1>\u001B[1;34m()\u001B[0m\n\u001B[1;32m----> 1\u001B[0m \u001B[38;5;28;01mdef\u001B[39;00m \u001B[38;5;21mmlp\u001B[39m(x_train: \u001B[43mAny\u001B[49m):\n\u001B[0;32m      2\u001B[0m     model \u001B[38;5;241m=\u001B[39m tf\u001B[38;5;241m.\u001B[39mkeras\u001B[38;5;241m.\u001B[39mSequential([\n\u001B[0;32m      3\u001B[0m         tf\u001B[38;5;241m.\u001B[39mkeras\u001B[38;5;241m.\u001B[39mlayers\u001B[38;5;241m.\u001B[39mDense(\u001B[38;5;241m256\u001B[39m, activation\u001B[38;5;241m=\u001B[39m\u001B[38;5;124m'\u001B[39m\u001B[38;5;124msigmoid\u001B[39m\u001B[38;5;124m'\u001B[39m),\n\u001B[0;32m      4\u001B[0m         tf\u001B[38;5;241m.\u001B[39mkeras\u001B[38;5;241m.\u001B[39mlayers\u001B[38;5;241m.\u001B[39mDense(\u001B[38;5;241m128\u001B[39m, activation\u001B[38;5;241m=\u001B[39m\u001B[38;5;124m'\u001B[39m\u001B[38;5;124msigmoid\u001B[39m\u001B[38;5;124m'\u001B[39m),\n\u001B[0;32m      5\u001B[0m         tf\u001B[38;5;241m.\u001B[39mkeras\u001B[38;5;241m.\u001B[39mlayers\u001B[38;5;241m.\u001B[39mDense(\u001B[38;5;241m10\u001B[39m, activation\u001B[38;5;241m=\u001B[39m\u001B[38;5;124m'\u001B[39m\u001B[38;5;124msigmoid\u001B[39m\u001B[38;5;124m'\u001B[39m)\n\u001B[0;32m      6\u001B[0m     ])\n\u001B[0;32m      8\u001B[0m     model\u001B[38;5;241m.\u001B[39mcompile(loss\u001B[38;5;241m=\u001B[39mtf\u001B[38;5;241m.\u001B[39mkeras\u001B[38;5;241m.\u001B[39mlosses\u001B[38;5;241m.\u001B[39mBinaryCrossentropy(from_logits\u001B[38;5;241m=\u001B[39m\u001B[38;5;28;01mTrue\u001B[39;00m),\n\u001B[0;32m      9\u001B[0m                   optimizer\u001B[38;5;241m=\u001B[39m\u001B[38;5;124m'\u001B[39m\u001B[38;5;124madam\u001B[39m\u001B[38;5;124m'\u001B[39m,\n\u001B[0;32m     10\u001B[0m                   metrics\u001B[38;5;241m=\u001B[39mtf\u001B[38;5;241m.\u001B[39mmetrics\u001B[38;5;241m.\u001B[39mBinaryAccuracy(threshold\u001B[38;5;241m=\u001B[39m\u001B[38;5;241m0.0\u001B[39m))\n",
      "\u001B[1;31mNameError\u001B[0m: name 'Any' is not defined"
     ]
    }
   ],
   "source": [
    "def mlp(x_train: Any):\n",
    "    model = tf.keras.Sequential([\n",
    "        tf.keras.layers.Dense(256, activation='sigmoid'),\n",
    "        tf.keras.layers.Dense(128, activation='sigmoid'),\n",
    "        tf.keras.layers.Dense(10, activation='sigmoid')\n",
    "    ])\n",
    "\n",
    "    model.compile(loss=tf.keras.losses.BinaryCrossentropy(from_logits=True),\n",
    "                  optimizer='adam',\n",
    "                  metrics=tf.metrics.BinaryAccuracy(threshold=0.0))\n",
    "\n",
    "    history = model.fit(\n",
    "        x_train,\n",
    "        y_train,\n",
    "        epochs=10,\n",
    "        callbacks=[\n",
    "            tf.keras.callbacks.TensorBoard(log_dir=\"tensorboard_logs/ML/MLP\")\n",
    "        ],\n",
    "        batch_size=256\n",
    "    )"
   ],
   "metadata": {
    "collapsed": false
   }
  },
  {
   "cell_type": "code",
   "execution_count": null,
   "outputs": [],
   "source": [
    "mlp(x_train, y_train)"
   ],
   "metadata": {
    "collapsed": false
   }
  },
  {
   "cell_type": "code",
   "execution_count": null,
   "outputs": [],
   "source": [
    "% load_ext tensorboard"
   ],
   "metadata": {
    "collapsed": false
   }
  },
  {
   "cell_type": "code",
   "execution_count": null,
   "outputs": [],
   "source": [
    "% tensorboard --logdir tensorboard_logs / ML / MLP"
   ],
   "metadata": {
    "collapsed": false
   }
  }
 ],
 "metadata": {
  "kernelspec": {
   "display_name": "Python 3",
   "language": "python",
   "name": "python3"
  },
  "language_info": {
   "codemirror_mode": {
    "name": "ipython",
    "version": 2
   },
   "file_extension": ".py",
   "mimetype": "text/x-python",
   "name": "python",
   "nbconvert_exporter": "python",
   "pygments_lexer": "ipython2",
   "version": "2.7.6"
  }
 },
 "nbformat": 4,
 "nbformat_minor": 0
}
