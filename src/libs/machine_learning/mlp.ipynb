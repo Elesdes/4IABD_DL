{
 "cells": [
  {
   "cell_type": "markdown",
   "source": [
    "**Import Libs**"
   ],
   "metadata": {
    "collapsed": false
   }
  },
  {
   "cell_type": "code",
   "execution_count": 170,
   "outputs": [],
   "source": [
    "import pandas as pd\n",
    "import tensorflow as tf"
   ],
   "metadata": {
    "collapsed": false
   }
  },
  {
   "cell_type": "markdown",
   "source": [
    "**Creating DataFrames**"
   ],
   "metadata": {
    "collapsed": false
   }
  },
  {
   "cell_type": "code",
   "execution_count": 171,
   "outputs": [],
   "source": [
    "goodreads_train = pd.read_csv(\"../../../kaggle/input/goodreads_train.csv\")\n",
    "goodreads_test = pd.read_csv(\"../../../kaggle/input/goodreads_test.csv\")"
   ],
   "metadata": {
    "collapsed": false
   }
  },
  {
   "cell_type": "code",
   "execution_count": 172,
   "outputs": [
    {
     "data": {
      "text/plain": "                                 user_id   book_id  \\\n595477  440e3efe142cd205fbcfa87449207ae1  20493997   \n669748  96552d118e02cd2d7c4c22c2b4ae1c62  24719666   \n287946  3e4eb82e9eddfa819b48495e73064902     84979   \n862456  e015e42c539e5bd2198ae4a575655904  23159927   \n509620  543dfc6ae30329049b4cc9be1e14e11e  28204534   \n\n                               review_id  rating  \\\n595477  b23245b5e7b6007db3e27d6849550ab7       2   \n669748  2c7d8f9d7880c35981e88354b5205f45       0   \n287946  f15822561a38eadd5a42cd81ba2ce111       5   \n862456  577377f4232fde0fec4aed85e64504b1       5   \n509620  403a1a2d2bb4d59c4cba202426b1baa7       4   \n\n                                              review_text  \\\n595477  Actual rating: 2.5/5 Stars \\n To be honest, I ...   \n669748  Read this story for free on Wattpad here: \\n h...   \n287946                One of the greatest chick-lit ever!   \n862456  ([?]` . '[?])Oh my God Oh my God! Oh my God!!(...   \n509620  My one regret is reading this when I didn't ha...   \n\n                            date_added                    date_updated  \\\n595477  Sun Jun 08 14:20:35 -0700 2014  Sun Jan 04 17:01:15 -0800 2015   \n669748  Tue Apr 21 11:23:46 -0700 2015  Tue Apr 21 11:24:46 -0700 2015   \n287946  Tue Aug 06 03:02:02 -0700 2013  Mon Aug 26 01:30:18 -0700 2013   \n862456  Thu Sep 24 11:49:54 -0700 2015  Thu Sep 24 12:32:50 -0700 2015   \n509620  Tue Oct 10 09:20:50 -0700 2017  Sat Oct 21 22:42:26 -0700 2017   \n\n                               read_at                      started_at  \\\n595477  Sun Nov 23 00:00:00 -0800 2014  Sun Nov 23 00:00:00 -0800 2014   \n669748                             NaN                             NaN   \n287946  Mon Aug 26 01:30:18 -0700 2013  Tue Aug 06 00:00:00 -0700 2013   \n862456  Thu Sep 24 12:47:15 -0700 2015                             NaN   \n509620  Sat Oct 21 00:00:00 -0700 2017  Sat Oct 21 00:00:00 -0700 2017   \n\n        n_votes  n_comments  \n595477        0           0  \n669748        0           0  \n287946        0           1  \n862456        2           0  \n509620        0           0  ",
      "text/html": "<div>\n<style scoped>\n    .dataframe tbody tr th:only-of-type {\n        vertical-align: middle;\n    }\n\n    .dataframe tbody tr th {\n        vertical-align: top;\n    }\n\n    .dataframe thead th {\n        text-align: right;\n    }\n</style>\n<table border=\"1\" class=\"dataframe\">\n  <thead>\n    <tr style=\"text-align: right;\">\n      <th></th>\n      <th>user_id</th>\n      <th>book_id</th>\n      <th>review_id</th>\n      <th>rating</th>\n      <th>review_text</th>\n      <th>date_added</th>\n      <th>date_updated</th>\n      <th>read_at</th>\n      <th>started_at</th>\n      <th>n_votes</th>\n      <th>n_comments</th>\n    </tr>\n  </thead>\n  <tbody>\n    <tr>\n      <th>595477</th>\n      <td>440e3efe142cd205fbcfa87449207ae1</td>\n      <td>20493997</td>\n      <td>b23245b5e7b6007db3e27d6849550ab7</td>\n      <td>2</td>\n      <td>Actual rating: 2.5/5 Stars \\n To be honest, I ...</td>\n      <td>Sun Jun 08 14:20:35 -0700 2014</td>\n      <td>Sun Jan 04 17:01:15 -0800 2015</td>\n      <td>Sun Nov 23 00:00:00 -0800 2014</td>\n      <td>Sun Nov 23 00:00:00 -0800 2014</td>\n      <td>0</td>\n      <td>0</td>\n    </tr>\n    <tr>\n      <th>669748</th>\n      <td>96552d118e02cd2d7c4c22c2b4ae1c62</td>\n      <td>24719666</td>\n      <td>2c7d8f9d7880c35981e88354b5205f45</td>\n      <td>0</td>\n      <td>Read this story for free on Wattpad here: \\n h...</td>\n      <td>Tue Apr 21 11:23:46 -0700 2015</td>\n      <td>Tue Apr 21 11:24:46 -0700 2015</td>\n      <td>NaN</td>\n      <td>NaN</td>\n      <td>0</td>\n      <td>0</td>\n    </tr>\n    <tr>\n      <th>287946</th>\n      <td>3e4eb82e9eddfa819b48495e73064902</td>\n      <td>84979</td>\n      <td>f15822561a38eadd5a42cd81ba2ce111</td>\n      <td>5</td>\n      <td>One of the greatest chick-lit ever!</td>\n      <td>Tue Aug 06 03:02:02 -0700 2013</td>\n      <td>Mon Aug 26 01:30:18 -0700 2013</td>\n      <td>Mon Aug 26 01:30:18 -0700 2013</td>\n      <td>Tue Aug 06 00:00:00 -0700 2013</td>\n      <td>0</td>\n      <td>1</td>\n    </tr>\n    <tr>\n      <th>862456</th>\n      <td>e015e42c539e5bd2198ae4a575655904</td>\n      <td>23159927</td>\n      <td>577377f4232fde0fec4aed85e64504b1</td>\n      <td>5</td>\n      <td>([?]` . '[?])Oh my God Oh my God! Oh my God!!(...</td>\n      <td>Thu Sep 24 11:49:54 -0700 2015</td>\n      <td>Thu Sep 24 12:32:50 -0700 2015</td>\n      <td>Thu Sep 24 12:47:15 -0700 2015</td>\n      <td>NaN</td>\n      <td>2</td>\n      <td>0</td>\n    </tr>\n    <tr>\n      <th>509620</th>\n      <td>543dfc6ae30329049b4cc9be1e14e11e</td>\n      <td>28204534</td>\n      <td>403a1a2d2bb4d59c4cba202426b1baa7</td>\n      <td>4</td>\n      <td>My one regret is reading this when I didn't ha...</td>\n      <td>Tue Oct 10 09:20:50 -0700 2017</td>\n      <td>Sat Oct 21 22:42:26 -0700 2017</td>\n      <td>Sat Oct 21 00:00:00 -0700 2017</td>\n      <td>Sat Oct 21 00:00:00 -0700 2017</td>\n      <td>0</td>\n      <td>0</td>\n    </tr>\n  </tbody>\n</table>\n</div>"
     },
     "execution_count": 172,
     "metadata": {},
     "output_type": "execute_result"
    }
   ],
   "source": [
    "goodreads_train.sample(5)"
   ],
   "metadata": {
    "collapsed": false
   }
  },
  {
   "cell_type": "code",
   "execution_count": 173,
   "outputs": [
    {
     "data": {
      "text/plain": "                                 user_id   book_id  \\\n39572   8e8f4777c87a041801d5d44996c9085d  23848145   \n346195  c094c50f8adce01b34768a421d775193  20575425   \n453425  6be0a20adc4040e2ca3b17c33db48ae6   7093952   \n351796  038588a5efeb3c60987244e7c431e9c7     41865   \n59956   883e2e0ae9de4c2c46c0fb09d6025fdf  10993282   \n\n                               review_id  \\\n39572   b4ca9f7b0acf42b2cdcef6c4e2f7df8a   \n346195  276bc9457b3df636e6760f36244b66aa   \n453425  554a56d9c1f0fc6648bb4b9aef55760d   \n351796  ec23464880a8a5d651940cc335fc3a0d   \n59956   494143bae0174e8bdcb5af3673419ba4   \n\n                                              review_text  \\\n39572   I LOVED THIS BOOK!! So many went down and I ca...   \n346195  Wow, this was a great book! I'm so glad I foun...   \n453425  as i previously mentioned, i think Tana French...   \n351796  After reading the first book in the series, I'...   \n59956   ** spoiler alert ** \\n I have been dying for t...   \n\n                            date_added                    date_updated  \\\n39572   Fri Apr 22 13:40:27 -0700 2016  Thu Apr 13 03:23:37 -0700 2017   \n346195  Fri Feb 10 06:52:33 -0800 2017  Tue Mar 21 12:23:33 -0700 2017   \n453425  Tue Apr 23 09:59:32 -0700 2013  Sun May 05 09:04:28 -0700 2013   \n351796  Thu Mar 01 14:53:02 -0800 2012  Tue Dec 18 08:52:30 -0800 2012   \n59956   Sat Jun 11 19:56:21 -0700 2011  Tue Apr 03 14:21:35 -0700 2012   \n\n                               read_at                      started_at  \\\n39572   Sat Jan 21 00:00:00 -0800 2017  Fri Jan 20 00:00:00 -0800 2017   \n346195  Tue Mar 21 12:23:33 -0700 2017  Mon Mar 13 05:54:22 -0700 2017   \n453425  Sun Apr 28 00:00:00 -0700 2013  Tue Apr 23 00:00:00 -0700 2013   \n351796  Fri Jan 01 00:00:00 -0800 2010  Fri Jan 01 00:00:00 -0800 2010   \n59956   Tue Apr 03 14:21:35 -0700 2012  Thu Mar 29 00:00:00 -0700 2012   \n\n        n_votes  n_comments  \n39572         1           0  \n346195        0           0  \n453425        0           0  \n351796        0           0  \n59956         0           0  ",
      "text/html": "<div>\n<style scoped>\n    .dataframe tbody tr th:only-of-type {\n        vertical-align: middle;\n    }\n\n    .dataframe tbody tr th {\n        vertical-align: top;\n    }\n\n    .dataframe thead th {\n        text-align: right;\n    }\n</style>\n<table border=\"1\" class=\"dataframe\">\n  <thead>\n    <tr style=\"text-align: right;\">\n      <th></th>\n      <th>user_id</th>\n      <th>book_id</th>\n      <th>review_id</th>\n      <th>review_text</th>\n      <th>date_added</th>\n      <th>date_updated</th>\n      <th>read_at</th>\n      <th>started_at</th>\n      <th>n_votes</th>\n      <th>n_comments</th>\n    </tr>\n  </thead>\n  <tbody>\n    <tr>\n      <th>39572</th>\n      <td>8e8f4777c87a041801d5d44996c9085d</td>\n      <td>23848145</td>\n      <td>b4ca9f7b0acf42b2cdcef6c4e2f7df8a</td>\n      <td>I LOVED THIS BOOK!! So many went down and I ca...</td>\n      <td>Fri Apr 22 13:40:27 -0700 2016</td>\n      <td>Thu Apr 13 03:23:37 -0700 2017</td>\n      <td>Sat Jan 21 00:00:00 -0800 2017</td>\n      <td>Fri Jan 20 00:00:00 -0800 2017</td>\n      <td>1</td>\n      <td>0</td>\n    </tr>\n    <tr>\n      <th>346195</th>\n      <td>c094c50f8adce01b34768a421d775193</td>\n      <td>20575425</td>\n      <td>276bc9457b3df636e6760f36244b66aa</td>\n      <td>Wow, this was a great book! I'm so glad I foun...</td>\n      <td>Fri Feb 10 06:52:33 -0800 2017</td>\n      <td>Tue Mar 21 12:23:33 -0700 2017</td>\n      <td>Tue Mar 21 12:23:33 -0700 2017</td>\n      <td>Mon Mar 13 05:54:22 -0700 2017</td>\n      <td>0</td>\n      <td>0</td>\n    </tr>\n    <tr>\n      <th>453425</th>\n      <td>6be0a20adc4040e2ca3b17c33db48ae6</td>\n      <td>7093952</td>\n      <td>554a56d9c1f0fc6648bb4b9aef55760d</td>\n      <td>as i previously mentioned, i think Tana French...</td>\n      <td>Tue Apr 23 09:59:32 -0700 2013</td>\n      <td>Sun May 05 09:04:28 -0700 2013</td>\n      <td>Sun Apr 28 00:00:00 -0700 2013</td>\n      <td>Tue Apr 23 00:00:00 -0700 2013</td>\n      <td>0</td>\n      <td>0</td>\n    </tr>\n    <tr>\n      <th>351796</th>\n      <td>038588a5efeb3c60987244e7c431e9c7</td>\n      <td>41865</td>\n      <td>ec23464880a8a5d651940cc335fc3a0d</td>\n      <td>After reading the first book in the series, I'...</td>\n      <td>Thu Mar 01 14:53:02 -0800 2012</td>\n      <td>Tue Dec 18 08:52:30 -0800 2012</td>\n      <td>Fri Jan 01 00:00:00 -0800 2010</td>\n      <td>Fri Jan 01 00:00:00 -0800 2010</td>\n      <td>0</td>\n      <td>0</td>\n    </tr>\n    <tr>\n      <th>59956</th>\n      <td>883e2e0ae9de4c2c46c0fb09d6025fdf</td>\n      <td>10993282</td>\n      <td>494143bae0174e8bdcb5af3673419ba4</td>\n      <td>** spoiler alert ** \\n I have been dying for t...</td>\n      <td>Sat Jun 11 19:56:21 -0700 2011</td>\n      <td>Tue Apr 03 14:21:35 -0700 2012</td>\n      <td>Tue Apr 03 14:21:35 -0700 2012</td>\n      <td>Thu Mar 29 00:00:00 -0700 2012</td>\n      <td>0</td>\n      <td>0</td>\n    </tr>\n  </tbody>\n</table>\n</div>"
     },
     "execution_count": 173,
     "metadata": {},
     "output_type": "execute_result"
    }
   ],
   "source": [
    "goodreads_test.sample(5)"
   ],
   "metadata": {
    "collapsed": false
   }
  },
  {
   "cell_type": "markdown",
   "source": [
    "**Cleaning Data**"
   ],
   "metadata": {
    "collapsed": false
   }
  },
  {
   "cell_type": "code",
   "execution_count": 174,
   "outputs": [
    {
     "data": {
      "text/plain": "                          review_id  rating  \\\n0  dfdbb7b0eb5a7e4c26d59a937e2e5feb       5   \n1  a5d2c3628987712d0e05c4f90798eb67       3   \n2  2ede853b14dc4583f96cf5d120af636f       3   \n3  ced5675e55cd9d38a524743f5c40996e       0   \n4  332732725863131279a8e345b63ac33e       4   \n\n                                         review_text  n_votes  n_comments  \n0  This is a special book. It started slow for ab...       28           1  \n1  Recommended by Don Katz. Avail for free in Dec...        1           0  \n2  A fun, fast paced science fiction thriller. I ...       22           0  \n3  Recommended reading to understand what is goin...        5           1  \n4  I really enjoyed this book, and there is a lot...        9           1  ",
      "text/html": "<div>\n<style scoped>\n    .dataframe tbody tr th:only-of-type {\n        vertical-align: middle;\n    }\n\n    .dataframe tbody tr th {\n        vertical-align: top;\n    }\n\n    .dataframe thead th {\n        text-align: right;\n    }\n</style>\n<table border=\"1\" class=\"dataframe\">\n  <thead>\n    <tr style=\"text-align: right;\">\n      <th></th>\n      <th>review_id</th>\n      <th>rating</th>\n      <th>review_text</th>\n      <th>n_votes</th>\n      <th>n_comments</th>\n    </tr>\n  </thead>\n  <tbody>\n    <tr>\n      <th>0</th>\n      <td>dfdbb7b0eb5a7e4c26d59a937e2e5feb</td>\n      <td>5</td>\n      <td>This is a special book. It started slow for ab...</td>\n      <td>28</td>\n      <td>1</td>\n    </tr>\n    <tr>\n      <th>1</th>\n      <td>a5d2c3628987712d0e05c4f90798eb67</td>\n      <td>3</td>\n      <td>Recommended by Don Katz. Avail for free in Dec...</td>\n      <td>1</td>\n      <td>0</td>\n    </tr>\n    <tr>\n      <th>2</th>\n      <td>2ede853b14dc4583f96cf5d120af636f</td>\n      <td>3</td>\n      <td>A fun, fast paced science fiction thriller. I ...</td>\n      <td>22</td>\n      <td>0</td>\n    </tr>\n    <tr>\n      <th>3</th>\n      <td>ced5675e55cd9d38a524743f5c40996e</td>\n      <td>0</td>\n      <td>Recommended reading to understand what is goin...</td>\n      <td>5</td>\n      <td>1</td>\n    </tr>\n    <tr>\n      <th>4</th>\n      <td>332732725863131279a8e345b63ac33e</td>\n      <td>4</td>\n      <td>I really enjoyed this book, and there is a lot...</td>\n      <td>9</td>\n      <td>1</td>\n    </tr>\n  </tbody>\n</table>\n</div>"
     },
     "execution_count": 174,
     "metadata": {},
     "output_type": "execute_result"
    }
   ],
   "source": [
    "train_df = goodreads_train.drop(columns=['user_id', 'book_id', 'date_added', 'date_updated', 'read_at', 'started_at'],\n",
    "                                axis=0)\n",
    "train_df.head()"
   ],
   "metadata": {
    "collapsed": false
   }
  },
  {
   "cell_type": "code",
   "execution_count": 175,
   "outputs": [
    {
     "data": {
      "text/plain": "review_id      object\nrating          int64\nreview_text    object\nn_votes         int64\nn_comments      int64\ndtype: object"
     },
     "execution_count": 175,
     "metadata": {},
     "output_type": "execute_result"
    }
   ],
   "source": [
    "train_df.dtypes"
   ],
   "metadata": {
    "collapsed": false
   }
  },
  {
   "cell_type": "code",
   "execution_count": 176,
   "outputs": [],
   "source": [
    "y_train = train_df['rating']\n",
    "x_train = train_df.drop('rating', axis=1)"
   ],
   "metadata": {
    "collapsed": false
   }
  },
  {
   "cell_type": "code",
   "execution_count": 177,
   "outputs": [
    {
     "data": {
      "text/plain": "                          review_id  \\\n0  dfdbb7b0eb5a7e4c26d59a937e2e5feb   \n1  a5d2c3628987712d0e05c4f90798eb67   \n2  2ede853b14dc4583f96cf5d120af636f   \n3  ced5675e55cd9d38a524743f5c40996e   \n4  332732725863131279a8e345b63ac33e   \n\n                                         review_text  n_votes  n_comments  \n0  This is a special book. It started slow for ab...       28           1  \n1  Recommended by Don Katz. Avail for free in Dec...        1           0  \n2  A fun, fast paced science fiction thriller. I ...       22           0  \n3  Recommended reading to understand what is goin...        5           1  \n4  I really enjoyed this book, and there is a lot...        9           1  ",
      "text/html": "<div>\n<style scoped>\n    .dataframe tbody tr th:only-of-type {\n        vertical-align: middle;\n    }\n\n    .dataframe tbody tr th {\n        vertical-align: top;\n    }\n\n    .dataframe thead th {\n        text-align: right;\n    }\n</style>\n<table border=\"1\" class=\"dataframe\">\n  <thead>\n    <tr style=\"text-align: right;\">\n      <th></th>\n      <th>review_id</th>\n      <th>review_text</th>\n      <th>n_votes</th>\n      <th>n_comments</th>\n    </tr>\n  </thead>\n  <tbody>\n    <tr>\n      <th>0</th>\n      <td>dfdbb7b0eb5a7e4c26d59a937e2e5feb</td>\n      <td>This is a special book. It started slow for ab...</td>\n      <td>28</td>\n      <td>1</td>\n    </tr>\n    <tr>\n      <th>1</th>\n      <td>a5d2c3628987712d0e05c4f90798eb67</td>\n      <td>Recommended by Don Katz. Avail for free in Dec...</td>\n      <td>1</td>\n      <td>0</td>\n    </tr>\n    <tr>\n      <th>2</th>\n      <td>2ede853b14dc4583f96cf5d120af636f</td>\n      <td>A fun, fast paced science fiction thriller. I ...</td>\n      <td>22</td>\n      <td>0</td>\n    </tr>\n    <tr>\n      <th>3</th>\n      <td>ced5675e55cd9d38a524743f5c40996e</td>\n      <td>Recommended reading to understand what is goin...</td>\n      <td>5</td>\n      <td>1</td>\n    </tr>\n    <tr>\n      <th>4</th>\n      <td>332732725863131279a8e345b63ac33e</td>\n      <td>I really enjoyed this book, and there is a lot...</td>\n      <td>9</td>\n      <td>1</td>\n    </tr>\n  </tbody>\n</table>\n</div>"
     },
     "execution_count": 177,
     "metadata": {},
     "output_type": "execute_result"
    }
   ],
   "source": [
    "x_train.head()"
   ],
   "metadata": {
    "collapsed": false
   }
  },
  {
   "cell_type": "code",
   "execution_count": 178,
   "outputs": [
    {
     "data": {
      "text/plain": "0    5\n1    3\n2    3\n3    0\n4    4\nName: rating, dtype: int64"
     },
     "execution_count": 178,
     "metadata": {},
     "output_type": "execute_result"
    }
   ],
   "source": [
    "y_train.head()"
   ],
   "metadata": {
    "collapsed": false
   }
  },
  {
   "cell_type": "code",
   "execution_count": 179,
   "outputs": [],
   "source": [
    "from sklearn.preprocessing import LabelEncoder\n",
    "\n",
    "le = LabelEncoder()"
   ],
   "metadata": {
    "collapsed": false
   }
  },
  {
   "cell_type": "code",
   "execution_count": 180,
   "outputs": [],
   "source": [
    "x_train['review_id'] = le.fit_transform(x_train['review_id'])"
   ],
   "metadata": {
    "collapsed": false
   }
  },
  {
   "cell_type": "code",
   "execution_count": 181,
   "outputs": [
    {
     "data": {
      "text/plain": "   review_id                                        review_text  n_votes  \\\n0     786842  This is a special book. It started slow for ab...       28   \n1     583423  Recommended by Don Katz. Avail for free in Dec...        1   \n2     165147  A fun, fast paced science fiction thriller. I ...       22   \n3     727692  Recommended reading to understand what is goin...        5   \n4     179941  I really enjoyed this book, and there is a lot...        9   \n\n   n_comments  \n0           1  \n1           0  \n2           0  \n3           1  \n4           1  ",
      "text/html": "<div>\n<style scoped>\n    .dataframe tbody tr th:only-of-type {\n        vertical-align: middle;\n    }\n\n    .dataframe tbody tr th {\n        vertical-align: top;\n    }\n\n    .dataframe thead th {\n        text-align: right;\n    }\n</style>\n<table border=\"1\" class=\"dataframe\">\n  <thead>\n    <tr style=\"text-align: right;\">\n      <th></th>\n      <th>review_id</th>\n      <th>review_text</th>\n      <th>n_votes</th>\n      <th>n_comments</th>\n    </tr>\n  </thead>\n  <tbody>\n    <tr>\n      <th>0</th>\n      <td>786842</td>\n      <td>This is a special book. It started slow for ab...</td>\n      <td>28</td>\n      <td>1</td>\n    </tr>\n    <tr>\n      <th>1</th>\n      <td>583423</td>\n      <td>Recommended by Don Katz. Avail for free in Dec...</td>\n      <td>1</td>\n      <td>0</td>\n    </tr>\n    <tr>\n      <th>2</th>\n      <td>165147</td>\n      <td>A fun, fast paced science fiction thriller. I ...</td>\n      <td>22</td>\n      <td>0</td>\n    </tr>\n    <tr>\n      <th>3</th>\n      <td>727692</td>\n      <td>Recommended reading to understand what is goin...</td>\n      <td>5</td>\n      <td>1</td>\n    </tr>\n    <tr>\n      <th>4</th>\n      <td>179941</td>\n      <td>I really enjoyed this book, and there is a lot...</td>\n      <td>9</td>\n      <td>1</td>\n    </tr>\n  </tbody>\n</table>\n</div>"
     },
     "execution_count": 181,
     "metadata": {},
     "output_type": "execute_result"
    }
   ],
   "source": [
    "x_train.head()"
   ],
   "metadata": {
    "collapsed": false
   }
  },
  {
   "cell_type": "markdown",
   "source": [
    "**NLP**"
   ],
   "metadata": {
    "collapsed": false
   }
  },
  {
   "cell_type": "code",
   "execution_count": 182,
   "outputs": [],
   "source": [
    "from tensorflow.keras.preprocessing.text import Tokenizer\n",
    "from tensorflow.keras.preprocessing.sequence import pad_sequences"
   ],
   "metadata": {
    "collapsed": false
   }
  },
  {
   "cell_type": "code",
   "execution_count": 183,
   "outputs": [],
   "source": [
    "tokenizer = Tokenizer(num_words=10000, oov_token='<UNK>')\n",
    "\n",
    "tokenizer.fit_on_texts(x_train['review_text'])"
   ],
   "metadata": {
    "collapsed": false
   }
  },
  {
   "cell_type": "code",
   "execution_count": 184,
   "outputs": [
    {
     "name": "stdout",
     "output_type": "stream",
     "text": [
      "356490\n"
     ]
    }
   ],
   "source": [
    "print(len(tokenizer.word_index))"
   ],
   "metadata": {
    "collapsed": false
   }
  },
  {
   "cell_type": "code",
   "execution_count": 185,
   "outputs": [],
   "source": [
    "def get_sequences(tokenizer, review):\n",
    "    sequences = tokenizer.texts_to_sequences(review)\n",
    "    padded_sequences = pad_sequences(sequences, truncating='post', maxlen=1500, padding='post')\n",
    "    return padded_sequences"
   ],
   "metadata": {
    "collapsed": false
   }
  },
  {
   "cell_type": "code",
   "execution_count": 186,
   "outputs": [
    {
     "data": {
      "text/plain": "13"
     },
     "execution_count": 186,
     "metadata": {},
     "output_type": "execute_result"
    }
   ],
   "source": [
    "x_train['review_text'] = get_sequences(tokenizer, x_train['review_text'])\n",
    "x_train['review_text'][0]"
   ],
   "metadata": {
    "collapsed": false
   }
  },
  {
   "cell_type": "markdown",
   "source": [
    "**MLP Training**"
   ],
   "metadata": {
    "collapsed": false
   }
  },
  {
   "cell_type": "code",
   "execution_count": null,
   "outputs": [
    {
     "name": "stdout",
     "output_type": "stream",
     "text": [
      "Epoch 1/10\n",
      "28125/28125 [==============================] - 515s 18ms/step - loss: 0.9039 - accuracy: 0.0319\n",
      "Epoch 2/10\n",
      "19953/28125 [====================>.........] - ETA: 3:21 - loss: 0.9010 - accuracy: 0.0318"
     ]
    }
   ],
   "source": [
    "model = tf.keras.Sequential([\n",
    "    tf.keras.layers.Dense(64, activation='sigmoid'),\n",
    "    tf.keras.layers.Dense(64, activation='sigmoid'),\n",
    "    tf.keras.layers.Dense(1)\n",
    "])\n",
    "\n",
    "model.compile(loss='mean_absolute_error',\n",
    "              optimizer='adam',\n",
    "              metrics=['accuracy'])\n",
    "\n",
    "model.fit(\n",
    "    x_train['review_text'],\n",
    "    y_train,\n",
    "    epochs=10,\n",
    "    callbacks=[\n",
    "        tf.keras.callbacks.TensorBoard(log_dir='../../../tensorboard_logs/ML/MLP')\n",
    "    ]\n",
    ")\n",
    "\n",
    "# score = ..."
   ],
   "metadata": {
    "collapsed": false,
    "pycharm": {
     "is_executing": true
    }
   }
  },
  {
   "cell_type": "code",
   "execution_count": 195,
   "outputs": [
    {
     "name": "stdout",
     "output_type": "stream",
     "text": [
      "The tensorboard extension is already loaded. To reload it, use:\n",
      "  %reload_ext tensorboard\n"
     ]
    }
   ],
   "source": [
    "%load_ext tensorboard"
   ],
   "metadata": {
    "collapsed": false
   }
  },
  {
   "cell_type": "code",
   "execution_count": 196,
   "outputs": [
    {
     "data": {
      "text/plain": "Launching TensorBoard..."
     },
     "metadata": {},
     "output_type": "display_data"
    }
   ],
   "source": [
    "%tensorboard --logdir ../../../tensorboard_logs/ML/MLP"
   ],
   "metadata": {
    "collapsed": false
   }
  }
 ],
 "metadata": {
  "kernelspec": {
   "display_name": "Python 3",
   "language": "python",
   "name": "python3"
  },
  "language_info": {
   "codemirror_mode": {
    "name": "ipython",
    "version": 2
   },
   "file_extension": ".py",
   "mimetype": "text/x-python",
   "name": "python",
   "nbconvert_exporter": "python",
   "pygments_lexer": "ipython2",
   "version": "2.7.6"
  }
 },
 "nbformat": 4,
 "nbformat_minor": 0
}
