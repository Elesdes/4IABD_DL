{
 "cells": [
  {
   "cell_type": "code",
   "execution_count": 1,
   "outputs": [],
   "source": [
    "import numpy as np\n",
    "import pandas as pd"
   ],
   "metadata": {
    "collapsed": false
   }
  },
  {
   "cell_type": "code",
   "execution_count": 2,
   "outputs": [
    {
     "name": "stdout",
     "output_type": "stream",
     "text": [
      "Requirement already satisfied: tensorflow in c:\\users\\juanm\\.conda\\envs\\deeplearning4iabd\\lib\\site-packages (2.10.0)\n",
      "Requirement already satisfied: numpy in c:\\users\\juanm\\.conda\\envs\\deeplearning4iabd\\lib\\site-packages (1.23.4)\n",
      "Requirement already satisfied: tqdm in c:\\users\\juanm\\.conda\\envs\\deeplearning4iabd\\lib\\site-packages (4.64.1)\n",
      "Requirement already satisfied: pandas in c:\\users\\juanm\\.conda\\envs\\deeplearning4iabd\\lib\\site-packages (1.5.1)\n",
      "Requirement already satisfied: google-pasta>=0.1.1 in c:\\users\\juanm\\.conda\\envs\\deeplearning4iabd\\lib\\site-packages (from tensorflow) (0.2.0)\n",
      "Requirement already satisfied: libclang>=13.0.0 in c:\\users\\juanm\\.conda\\envs\\deeplearning4iabd\\lib\\site-packages (from tensorflow) (14.0.6)\n",
      "Requirement already satisfied: protobuf<3.20,>=3.9.2 in c:\\users\\juanm\\.conda\\envs\\deeplearning4iabd\\lib\\site-packages (from tensorflow) (3.19.6)\n",
      "Requirement already satisfied: typing-extensions>=3.6.6 in c:\\users\\juanm\\.conda\\envs\\deeplearning4iabd\\lib\\site-packages (from tensorflow) (4.4.0)\n",
      "Requirement already satisfied: opt-einsum>=2.3.2 in c:\\users\\juanm\\.conda\\envs\\deeplearning4iabd\\lib\\site-packages (from tensorflow) (3.3.0)\n",
      "Requirement already satisfied: astunparse>=1.6.0 in c:\\users\\juanm\\.conda\\envs\\deeplearning4iabd\\lib\\site-packages (from tensorflow) (1.6.3)\n",
      "Requirement already satisfied: tensorflow-estimator<2.11,>=2.10.0 in c:\\users\\juanm\\.conda\\envs\\deeplearning4iabd\\lib\\site-packages (from tensorflow) (2.10.0)\n",
      "Requirement already satisfied: h5py>=2.9.0 in c:\\users\\juanm\\.conda\\envs\\deeplearning4iabd\\lib\\site-packages (from tensorflow) (3.7.0)\n",
      "Requirement already satisfied: grpcio<2.0,>=1.24.3 in c:\\users\\juanm\\.conda\\envs\\deeplearning4iabd\\lib\\site-packages (from tensorflow) (1.50.0)\n",
      "Requirement already satisfied: six>=1.12.0 in c:\\users\\juanm\\.conda\\envs\\deeplearning4iabd\\lib\\site-packages (from tensorflow) (1.16.0)\n",
      "Requirement already satisfied: gast<=0.4.0,>=0.2.1 in c:\\users\\juanm\\.conda\\envs\\deeplearning4iabd\\lib\\site-packages (from tensorflow) (0.4.0)\n",
      "Requirement already satisfied: packaging in c:\\users\\juanm\\.conda\\envs\\deeplearning4iabd\\lib\\site-packages (from tensorflow) (21.3)\n",
      "Requirement already satisfied: absl-py>=1.0.0 in c:\\users\\juanm\\.conda\\envs\\deeplearning4iabd\\lib\\site-packages (from tensorflow) (1.3.0)\n",
      "Requirement already satisfied: tensorboard<2.11,>=2.10 in c:\\users\\juanm\\.conda\\envs\\deeplearning4iabd\\lib\\site-packages (from tensorflow) (2.10.1)\n",
      "Requirement already satisfied: tensorflow-io-gcs-filesystem>=0.23.1 in c:\\users\\juanm\\.conda\\envs\\deeplearning4iabd\\lib\\site-packages (from tensorflow) (0.27.0)\n",
      "Requirement already satisfied: keras<2.11,>=2.10.0 in c:\\users\\juanm\\.conda\\envs\\deeplearning4iabd\\lib\\site-packages (from tensorflow) (2.10.0)\n",
      "Requirement already satisfied: setuptools in c:\\users\\juanm\\.conda\\envs\\deeplearning4iabd\\lib\\site-packages (from tensorflow) (63.4.1)\n",
      "Requirement already satisfied: flatbuffers>=2.0 in c:\\users\\juanm\\.conda\\envs\\deeplearning4iabd\\lib\\site-packages (from tensorflow) (22.9.24)\n",
      "Requirement already satisfied: termcolor>=1.1.0 in c:\\users\\juanm\\.conda\\envs\\deeplearning4iabd\\lib\\site-packages (from tensorflow) (2.0.1)\n",
      "Requirement already satisfied: wrapt>=1.11.0 in c:\\users\\juanm\\.conda\\envs\\deeplearning4iabd\\lib\\site-packages (from tensorflow) (1.14.1)\n",
      "Requirement already satisfied: keras-preprocessing>=1.1.1 in c:\\users\\juanm\\.conda\\envs\\deeplearning4iabd\\lib\\site-packages (from tensorflow) (1.1.2)\n",
      "Requirement already satisfied: colorama in c:\\users\\juanm\\.conda\\envs\\deeplearning4iabd\\lib\\site-packages (from tqdm) (0.4.5)\n",
      "Requirement already satisfied: python-dateutil>=2.8.1 in c:\\users\\juanm\\.conda\\envs\\deeplearning4iabd\\lib\\site-packages (from pandas) (2.8.2)\n",
      "Requirement already satisfied: pytz>=2020.1 in c:\\users\\juanm\\.conda\\envs\\deeplearning4iabd\\lib\\site-packages (from pandas) (2022.1)\n",
      "Requirement already satisfied: wheel<1.0,>=0.23.0 in c:\\users\\juanm\\.conda\\envs\\deeplearning4iabd\\lib\\site-packages (from astunparse>=1.6.0->tensorflow) (0.37.1)\n",
      "Requirement already satisfied: werkzeug>=1.0.1 in c:\\users\\juanm\\.conda\\envs\\deeplearning4iabd\\lib\\site-packages (from tensorboard<2.11,>=2.10->tensorflow) (2.2.2)\n",
      "Requirement already satisfied: google-auth-oauthlib<0.5,>=0.4.1 in c:\\users\\juanm\\.conda\\envs\\deeplearning4iabd\\lib\\site-packages (from tensorboard<2.11,>=2.10->tensorflow) (0.4.6)\n",
      "Requirement already satisfied: markdown>=2.6.8 in c:\\users\\juanm\\.conda\\envs\\deeplearning4iabd\\lib\\site-packages (from tensorboard<2.11,>=2.10->tensorflow) (3.4.1)\n",
      "Requirement already satisfied: requests<3,>=2.21.0 in c:\\users\\juanm\\.conda\\envs\\deeplearning4iabd\\lib\\site-packages (from tensorboard<2.11,>=2.10->tensorflow) (2.28.1)\n",
      "Requirement already satisfied: google-auth<3,>=1.6.3 in c:\\users\\juanm\\.conda\\envs\\deeplearning4iabd\\lib\\site-packages (from tensorboard<2.11,>=2.10->tensorflow) (2.13.0)\n",
      "Requirement already satisfied: tensorboard-data-server<0.7.0,>=0.6.0 in c:\\users\\juanm\\.conda\\envs\\deeplearning4iabd\\lib\\site-packages (from tensorboard<2.11,>=2.10->tensorflow) (0.6.1)\n",
      "Requirement already satisfied: tensorboard-plugin-wit>=1.6.0 in c:\\users\\juanm\\.conda\\envs\\deeplearning4iabd\\lib\\site-packages (from tensorboard<2.11,>=2.10->tensorflow) (1.8.1)\n",
      "Requirement already satisfied: pyparsing!=3.0.5,>=2.0.2 in c:\\users\\juanm\\.conda\\envs\\deeplearning4iabd\\lib\\site-packages (from packaging->tensorflow) (3.0.9)\n",
      "Requirement already satisfied: rsa<5,>=3.1.4 in c:\\users\\juanm\\.conda\\envs\\deeplearning4iabd\\lib\\site-packages (from google-auth<3,>=1.6.3->tensorboard<2.11,>=2.10->tensorflow) (4.9)\n",
      "Requirement already satisfied: pyasn1-modules>=0.2.1 in c:\\users\\juanm\\.conda\\envs\\deeplearning4iabd\\lib\\site-packages (from google-auth<3,>=1.6.3->tensorboard<2.11,>=2.10->tensorflow) (0.2.8)\n",
      "Requirement already satisfied: cachetools<6.0,>=2.0.0 in c:\\users\\juanm\\.conda\\envs\\deeplearning4iabd\\lib\\site-packages (from google-auth<3,>=1.6.3->tensorboard<2.11,>=2.10->tensorflow) (5.2.0)\n",
      "Requirement already satisfied: requests-oauthlib>=0.7.0 in c:\\users\\juanm\\.conda\\envs\\deeplearning4iabd\\lib\\site-packages (from google-auth-oauthlib<0.5,>=0.4.1->tensorboard<2.11,>=2.10->tensorflow) (1.3.1)\n",
      "Requirement already satisfied: certifi>=2017.4.17 in c:\\users\\juanm\\.conda\\envs\\deeplearning4iabd\\lib\\site-packages (from requests<3,>=2.21.0->tensorboard<2.11,>=2.10->tensorflow) (2022.9.24)\n",
      "Requirement already satisfied: urllib3<1.27,>=1.21.1 in c:\\users\\juanm\\.conda\\envs\\deeplearning4iabd\\lib\\site-packages (from requests<3,>=2.21.0->tensorboard<2.11,>=2.10->tensorflow) (1.26.12)\n",
      "Requirement already satisfied: charset-normalizer<3,>=2 in c:\\users\\juanm\\.conda\\envs\\deeplearning4iabd\\lib\\site-packages (from requests<3,>=2.21.0->tensorboard<2.11,>=2.10->tensorflow) (2.1.1)\n",
      "Requirement already satisfied: idna<4,>=2.5 in c:\\users\\juanm\\.conda\\envs\\deeplearning4iabd\\lib\\site-packages (from requests<3,>=2.21.0->tensorboard<2.11,>=2.10->tensorflow) (3.4)\n",
      "Requirement already satisfied: MarkupSafe>=2.1.1 in c:\\users\\juanm\\.conda\\envs\\deeplearning4iabd\\lib\\site-packages (from werkzeug>=1.0.1->tensorboard<2.11,>=2.10->tensorflow) (2.1.1)\n",
      "Requirement already satisfied: pyasn1<0.5.0,>=0.4.6 in c:\\users\\juanm\\.conda\\envs\\deeplearning4iabd\\lib\\site-packages (from pyasn1-modules>=0.2.1->google-auth<3,>=1.6.3->tensorboard<2.11,>=2.10->tensorflow) (0.4.8)\n",
      "Requirement already satisfied: oauthlib>=3.0.0 in c:\\users\\juanm\\.conda\\envs\\deeplearning4iabd\\lib\\site-packages (from requests-oauthlib>=0.7.0->google-auth-oauthlib<0.5,>=0.4.1->tensorboard<2.11,>=2.10->tensorflow) (3.2.2)\n"
     ]
    }
   ],
   "source": [
    "!pip install tensorflow numpy tqdm pandas"
   ],
   "metadata": {
    "collapsed": false
   }
  },
  {
   "cell_type": "markdown",
   "source": [
    "**Creating DataFrames**"
   ],
   "metadata": {
    "collapsed": false
   }
  },
  {
   "cell_type": "code",
   "execution_count": 4,
   "outputs": [],
   "source": [
    "goodreads_train = pd.read_csv('../kaggle/input/goodreads_train.csv')\n",
    "goodreads_test = pd.read_csv('../kaggle/input/goodreads_test.csv')"
   ],
   "metadata": {
    "collapsed": false
   }
  },
  {
   "cell_type": "code",
   "execution_count": 5,
   "outputs": [
    {
     "data": {
      "text/plain": "(900000, 11)"
     },
     "execution_count": 5,
     "metadata": {},
     "output_type": "execute_result"
    }
   ],
   "source": [
    "goodreads_train.shape"
   ],
   "metadata": {
    "collapsed": false
   }
  },
  {
   "cell_type": "code",
   "execution_count": 6,
   "outputs": [
    {
     "data": {
      "text/plain": "(478033, 10)"
     },
     "execution_count": 6,
     "metadata": {},
     "output_type": "execute_result"
    }
   ],
   "source": [
    "goodreads_test.shape"
   ],
   "metadata": {
    "collapsed": false
   }
  },
  {
   "cell_type": "code",
   "execution_count": 7,
   "outputs": [
    {
     "data": {
      "text/plain": "                                 user_id   book_id  \\\n50896   88210a9e22b08c0f025e0e962a177ba3  17825130   \n797757  c6097973f4c03f4039d0f57a539650da  13092528   \n334860  9db1fd33657796dfee932f86f7b43c2e  29906980   \n793053  56be7da8cf301ae22f8d2ea53a528fe4     12936   \n261968  3af5f535463d79601c920e556286389b  23312692   \n\n                               review_id  rating  \\\n50896   462d0015f95dbfca6111ab68133592f9       4   \n797757  bcdc7748588583a366f7c5580dacec60       3   \n334860  a3e4b8d2c1e404e12a6460a69ed17729       2   \n793053  ab5e10d97dd3d5474e9584d430685559       3   \n261968  768934521b49685d858ad023daa20841       5   \n\n                                              review_text  \\\n50896   TRIGGER WARNING: Hate-crime. \\n So your parent...   \n797757  This series started out with some promise even...   \n334860  2.5 stars. \\n Huh. \\n That ... was one of the ...   \n793053  First off, I *loved* The Giver. I gave it 5 st...   \n261968  I spent a good portion of this book KNOWING th...   \n\n                            date_added                    date_updated  \\\n50896   Thu May 22 21:59:13 -0700 2014  Sat Mar 28 05:46:23 -0700 2015   \n797757  Fri Feb 03 23:18:37 -0800 2017  Fri Feb 03 23:25:29 -0800 2017   \n334860  Mon Mar 20 14:54:24 -0700 2017  Sat May 20 23:51:58 -0700 2017   \n793053  Tue Dec 20 22:09:33 -0800 2011  Mon May 02 22:31:30 -0700 2016   \n261968  Sun May 10 05:37:10 -0700 2015  Tue May 12 06:01:40 -0700 2015   \n\n                               read_at                      started_at  \\\n50896   Sat Mar 28 07:11:38 -0700 2015                             NaN   \n797757  Fri Feb 03 00:00:00 -0800 2017                             NaN   \n334860  Sat May 20 23:47:27 -0700 2017  Sat May 20 23:47:22 -0700 2017   \n793053  Tue Jan 24 21:49:36 -0800 2012  Wed Dec 14 00:00:00 -0800 2011   \n261968                             NaN  Sun May 10 00:00:00 -0700 2015   \n\n        n_votes  n_comments  \n50896         2           0  \n797757        0           0  \n334860        0           0  \n793053        0           3  \n261968        0           0  ",
      "text/html": "<div>\n<style scoped>\n    .dataframe tbody tr th:only-of-type {\n        vertical-align: middle;\n    }\n\n    .dataframe tbody tr th {\n        vertical-align: top;\n    }\n\n    .dataframe thead th {\n        text-align: right;\n    }\n</style>\n<table border=\"1\" class=\"dataframe\">\n  <thead>\n    <tr style=\"text-align: right;\">\n      <th></th>\n      <th>user_id</th>\n      <th>book_id</th>\n      <th>review_id</th>\n      <th>rating</th>\n      <th>review_text</th>\n      <th>date_added</th>\n      <th>date_updated</th>\n      <th>read_at</th>\n      <th>started_at</th>\n      <th>n_votes</th>\n      <th>n_comments</th>\n    </tr>\n  </thead>\n  <tbody>\n    <tr>\n      <th>50896</th>\n      <td>88210a9e22b08c0f025e0e962a177ba3</td>\n      <td>17825130</td>\n      <td>462d0015f95dbfca6111ab68133592f9</td>\n      <td>4</td>\n      <td>TRIGGER WARNING: Hate-crime. \\n So your parent...</td>\n      <td>Thu May 22 21:59:13 -0700 2014</td>\n      <td>Sat Mar 28 05:46:23 -0700 2015</td>\n      <td>Sat Mar 28 07:11:38 -0700 2015</td>\n      <td>NaN</td>\n      <td>2</td>\n      <td>0</td>\n    </tr>\n    <tr>\n      <th>797757</th>\n      <td>c6097973f4c03f4039d0f57a539650da</td>\n      <td>13092528</td>\n      <td>bcdc7748588583a366f7c5580dacec60</td>\n      <td>3</td>\n      <td>This series started out with some promise even...</td>\n      <td>Fri Feb 03 23:18:37 -0800 2017</td>\n      <td>Fri Feb 03 23:25:29 -0800 2017</td>\n      <td>Fri Feb 03 00:00:00 -0800 2017</td>\n      <td>NaN</td>\n      <td>0</td>\n      <td>0</td>\n    </tr>\n    <tr>\n      <th>334860</th>\n      <td>9db1fd33657796dfee932f86f7b43c2e</td>\n      <td>29906980</td>\n      <td>a3e4b8d2c1e404e12a6460a69ed17729</td>\n      <td>2</td>\n      <td>2.5 stars. \\n Huh. \\n That ... was one of the ...</td>\n      <td>Mon Mar 20 14:54:24 -0700 2017</td>\n      <td>Sat May 20 23:51:58 -0700 2017</td>\n      <td>Sat May 20 23:47:27 -0700 2017</td>\n      <td>Sat May 20 23:47:22 -0700 2017</td>\n      <td>0</td>\n      <td>0</td>\n    </tr>\n    <tr>\n      <th>793053</th>\n      <td>56be7da8cf301ae22f8d2ea53a528fe4</td>\n      <td>12936</td>\n      <td>ab5e10d97dd3d5474e9584d430685559</td>\n      <td>3</td>\n      <td>First off, I *loved* The Giver. I gave it 5 st...</td>\n      <td>Tue Dec 20 22:09:33 -0800 2011</td>\n      <td>Mon May 02 22:31:30 -0700 2016</td>\n      <td>Tue Jan 24 21:49:36 -0800 2012</td>\n      <td>Wed Dec 14 00:00:00 -0800 2011</td>\n      <td>0</td>\n      <td>3</td>\n    </tr>\n    <tr>\n      <th>261968</th>\n      <td>3af5f535463d79601c920e556286389b</td>\n      <td>23312692</td>\n      <td>768934521b49685d858ad023daa20841</td>\n      <td>5</td>\n      <td>I spent a good portion of this book KNOWING th...</td>\n      <td>Sun May 10 05:37:10 -0700 2015</td>\n      <td>Tue May 12 06:01:40 -0700 2015</td>\n      <td>NaN</td>\n      <td>Sun May 10 00:00:00 -0700 2015</td>\n      <td>0</td>\n      <td>0</td>\n    </tr>\n  </tbody>\n</table>\n</div>"
     },
     "execution_count": 7,
     "metadata": {},
     "output_type": "execute_result"
    }
   ],
   "source": [
    "goodreads_train.sample(5)"
   ],
   "metadata": {
    "collapsed": false
   }
  },
  {
   "cell_type": "markdown",
   "source": [
    "**Cleaning DataFrames**"
   ],
   "metadata": {
    "collapsed": false
   }
  },
  {
   "cell_type": "code",
   "execution_count": 8,
   "outputs": [
    {
     "data": {
      "text/plain": "4    313688\n5    265007\n3    188972\n2     72627\n0     30988\n1     28718\nName: rating, dtype: int64"
     },
     "execution_count": 8,
     "metadata": {},
     "output_type": "execute_result"
    }
   ],
   "source": [
    "goodreads_train['rating'].value_counts()"
   ],
   "metadata": {
    "collapsed": false
   }
  },
  {
   "cell_type": "code",
   "execution_count": 9,
   "outputs": [],
   "source": [
    "goodreads_train.set_index(\"review_id\", inplace=True)\n",
    "goodreads_test.set_index(\"review_id\", inplace=True)"
   ],
   "metadata": {
    "collapsed": false
   }
  },
  {
   "cell_type": "code",
   "execution_count": 10,
   "outputs": [],
   "source": [
    "books = pd.concat([goodreads_train.drop('rating', axis=1), goodreads_test], axis=0)\n",
    "books_rates = goodreads_train['rating']"
   ],
   "metadata": {
    "collapsed": false
   }
  },
  {
   "cell_type": "code",
   "execution_count": 11,
   "outputs": [
    {
     "data": {
      "text/plain": "(1378033, 9)"
     },
     "execution_count": 11,
     "metadata": {},
     "output_type": "execute_result"
    }
   ],
   "source": [
    "books.shape"
   ],
   "metadata": {
    "collapsed": false
   }
  },
  {
   "cell_type": "code",
   "execution_count": 12,
   "outputs": [
    {
     "data": {
      "text/plain": "                                                           user_id   book_id  \\\nreview_id                                                                      \n280ec1fa4418ca5365a1d69a76d67b7e  708c6f1819d0ffebf9b10f4870053fca  22295304   \ne9a9002c61b8fb4dd503dfaf507dee94  821c1b4a63183de4359ee673748841eb   7230431   \ne55add294854d15e6da41526de219d03  d9af8189dd318aabf18f475e4051df8a  17158513   \nacb8f2e30902167e661350e17349ce5e  9da810ac28645a3d958c525735d92747    107779   \n91d7b44a625d21ad4b0fb304a8cbb17d  57af73411c19a4493ef9bfd6f02b8f7f  17730557   \n\n                                                                        review_text  \\\nreview_id                                                                             \n280ec1fa4418ca5365a1d69a76d67b7e  4.5 stars \\n A book about people that can take...   \ne9a9002c61b8fb4dd503dfaf507dee94  Another very good novel from Cherise Sinclair,...   \ne55add294854d15e6da41526de219d03  That ending... \\n I can't even...I cant... My ...   \nacb8f2e30902167e661350e17349ce5e                            I so enjoyed this book!   \n91d7b44a625d21ad4b0fb304a8cbb17d  Good, but seems like more of a beginning than ...   \n\n                                                      date_added  \\\nreview_id                                                          \n280ec1fa4418ca5365a1d69a76d67b7e  Fri Apr 07 10:20:29 -0700 2017   \ne9a9002c61b8fb4dd503dfaf507dee94  Fri Jan 20 05:33:31 -0800 2012   \ne55add294854d15e6da41526de219d03  Thu Aug 01 10:40:31 -0700 2013   \nacb8f2e30902167e661350e17349ce5e  Mon Oct 07 19:45:21 -0700 2013   \n91d7b44a625d21ad4b0fb304a8cbb17d  Wed Jun 05 11:45:44 -0700 2013   \n\n                                                    date_updated  \\\nreview_id                                                          \n280ec1fa4418ca5365a1d69a76d67b7e  Wed Apr 12 09:11:32 -0700 2017   \ne9a9002c61b8fb4dd503dfaf507dee94  Wed Apr 10 15:28:04 -0700 2013   \ne55add294854d15e6da41526de219d03  Thu Jan 09 17:06:05 -0800 2014   \nacb8f2e30902167e661350e17349ce5e  Fri Oct 18 00:43:57 -0700 2013   \n91d7b44a625d21ad4b0fb304a8cbb17d  Fri Sep 06 21:21:29 -0700 2013   \n\n                                                         read_at  \\\nreview_id                                                          \n280ec1fa4418ca5365a1d69a76d67b7e  Wed Apr 12 09:11:33 -0700 2017   \ne9a9002c61b8fb4dd503dfaf507dee94  Wed Apr 10 15:28:04 -0700 2013   \ne55add294854d15e6da41526de219d03  Thu Aug 01 00:00:00 -0700 2013   \nacb8f2e30902167e661350e17349ce5e                             NaN   \n91d7b44a625d21ad4b0fb304a8cbb17d  Wed Jul 24 00:00:00 -0700 2013   \n\n                                                      started_at  n_votes  \\\nreview_id                                                                   \n280ec1fa4418ca5365a1d69a76d67b7e  Fri Apr 07 00:00:00 -0700 2017        0   \ne9a9002c61b8fb4dd503dfaf507dee94  Mon Apr 01 00:00:00 -0700 2013        0   \ne55add294854d15e6da41526de219d03  Wed Jul 31 00:00:00 -0700 2013        0   \nacb8f2e30902167e661350e17349ce5e                             NaN        0   \n91d7b44a625d21ad4b0fb304a8cbb17d                             NaN        1   \n\n                                  n_comments  \nreview_id                                     \n280ec1fa4418ca5365a1d69a76d67b7e           0  \ne9a9002c61b8fb4dd503dfaf507dee94           0  \ne55add294854d15e6da41526de219d03           0  \nacb8f2e30902167e661350e17349ce5e           2  \n91d7b44a625d21ad4b0fb304a8cbb17d           0  ",
      "text/html": "<div>\n<style scoped>\n    .dataframe tbody tr th:only-of-type {\n        vertical-align: middle;\n    }\n\n    .dataframe tbody tr th {\n        vertical-align: top;\n    }\n\n    .dataframe thead th {\n        text-align: right;\n    }\n</style>\n<table border=\"1\" class=\"dataframe\">\n  <thead>\n    <tr style=\"text-align: right;\">\n      <th></th>\n      <th>user_id</th>\n      <th>book_id</th>\n      <th>review_text</th>\n      <th>date_added</th>\n      <th>date_updated</th>\n      <th>read_at</th>\n      <th>started_at</th>\n      <th>n_votes</th>\n      <th>n_comments</th>\n    </tr>\n    <tr>\n      <th>review_id</th>\n      <th></th>\n      <th></th>\n      <th></th>\n      <th></th>\n      <th></th>\n      <th></th>\n      <th></th>\n      <th></th>\n      <th></th>\n    </tr>\n  </thead>\n  <tbody>\n    <tr>\n      <th>280ec1fa4418ca5365a1d69a76d67b7e</th>\n      <td>708c6f1819d0ffebf9b10f4870053fca</td>\n      <td>22295304</td>\n      <td>4.5 stars \\n A book about people that can take...</td>\n      <td>Fri Apr 07 10:20:29 -0700 2017</td>\n      <td>Wed Apr 12 09:11:32 -0700 2017</td>\n      <td>Wed Apr 12 09:11:33 -0700 2017</td>\n      <td>Fri Apr 07 00:00:00 -0700 2017</td>\n      <td>0</td>\n      <td>0</td>\n    </tr>\n    <tr>\n      <th>e9a9002c61b8fb4dd503dfaf507dee94</th>\n      <td>821c1b4a63183de4359ee673748841eb</td>\n      <td>7230431</td>\n      <td>Another very good novel from Cherise Sinclair,...</td>\n      <td>Fri Jan 20 05:33:31 -0800 2012</td>\n      <td>Wed Apr 10 15:28:04 -0700 2013</td>\n      <td>Wed Apr 10 15:28:04 -0700 2013</td>\n      <td>Mon Apr 01 00:00:00 -0700 2013</td>\n      <td>0</td>\n      <td>0</td>\n    </tr>\n    <tr>\n      <th>e55add294854d15e6da41526de219d03</th>\n      <td>d9af8189dd318aabf18f475e4051df8a</td>\n      <td>17158513</td>\n      <td>That ending... \\n I can't even...I cant... My ...</td>\n      <td>Thu Aug 01 10:40:31 -0700 2013</td>\n      <td>Thu Jan 09 17:06:05 -0800 2014</td>\n      <td>Thu Aug 01 00:00:00 -0700 2013</td>\n      <td>Wed Jul 31 00:00:00 -0700 2013</td>\n      <td>0</td>\n      <td>0</td>\n    </tr>\n    <tr>\n      <th>acb8f2e30902167e661350e17349ce5e</th>\n      <td>9da810ac28645a3d958c525735d92747</td>\n      <td>107779</td>\n      <td>I so enjoyed this book!</td>\n      <td>Mon Oct 07 19:45:21 -0700 2013</td>\n      <td>Fri Oct 18 00:43:57 -0700 2013</td>\n      <td>NaN</td>\n      <td>NaN</td>\n      <td>0</td>\n      <td>2</td>\n    </tr>\n    <tr>\n      <th>91d7b44a625d21ad4b0fb304a8cbb17d</th>\n      <td>57af73411c19a4493ef9bfd6f02b8f7f</td>\n      <td>17730557</td>\n      <td>Good, but seems like more of a beginning than ...</td>\n      <td>Wed Jun 05 11:45:44 -0700 2013</td>\n      <td>Fri Sep 06 21:21:29 -0700 2013</td>\n      <td>Wed Jul 24 00:00:00 -0700 2013</td>\n      <td>NaN</td>\n      <td>1</td>\n      <td>0</td>\n    </tr>\n  </tbody>\n</table>\n</div>"
     },
     "execution_count": 12,
     "metadata": {},
     "output_type": "execute_result"
    }
   ],
   "source": [
    "books.sample(5)"
   ],
   "metadata": {
    "collapsed": false
   }
  },
  {
   "cell_type": "code",
   "execution_count": 13,
   "outputs": [],
   "source": [
    "books.drop(columns=['date_updated', 'read_at', 'started_at'], axis=1, inplace=True)"
   ],
   "metadata": {
    "collapsed": false
   }
  },
  {
   "cell_type": "code",
   "execution_count": 14,
   "outputs": [],
   "source": [
    "# Remove negative notes\n",
    "books = books[(books['n_votes'] >= 0) & (books['n_comments'] >= 0)]"
   ],
   "metadata": {
    "collapsed": false
   }
  },
  {
   "cell_type": "code",
   "execution_count": 15,
   "outputs": [
    {
     "data": {
      "text/plain": "0"
     },
     "execution_count": 15,
     "metadata": {},
     "output_type": "execute_result"
    }
   ],
   "source": [
    "# Checking duplicates\n",
    "sum(books.duplicated())"
   ],
   "metadata": {
    "collapsed": false
   }
  },
  {
   "cell_type": "code",
   "execution_count": 16,
   "outputs": [
    {
     "data": {
      "text/plain": "16130"
     },
     "execution_count": 16,
     "metadata": {},
     "output_type": "execute_result"
    }
   ],
   "source": [
    "sum(books.duplicated(subset=['review_text']))"
   ],
   "metadata": {
    "collapsed": false
   }
  },
  {
   "cell_type": "code",
   "execution_count": 17,
   "outputs": [],
   "source": [
    "books.drop_duplicates(subset=['review_text'], inplace=True)"
   ],
   "metadata": {
    "collapsed": false
   }
  },
  {
   "cell_type": "code",
   "execution_count": 18,
   "outputs": [
    {
     "data": {
      "text/plain": "(1361800,)"
     },
     "execution_count": 18,
     "metadata": {},
     "output_type": "execute_result"
    }
   ],
   "source": [
    "unapp_texts = books['review_text'].apply(lambda txt: np.mean(list(map(len, txt.split())))) > 25\n",
    "unapp_texts.shape"
   ],
   "metadata": {
    "collapsed": false
   }
  },
  {
   "cell_type": "code",
   "execution_count": 19,
   "outputs": [
    {
     "data": {
      "text/plain": "                                                           user_id   book_id  \\\nreview_id                                                                      \nba7e149d70cb858d87d4113dfe0e4091  8092e33e9c50d3e269a8164177d2abdc   6339664   \n90529a603506931b91502b3c65b0564c  308c545182f8b5d332ff71c667fd9b61  12127810   \n7105506d7aa373be892e6d7d29750741  302eb3debfc02e0bdd0fd617d34a2713  10644930   \nba4e577524730630bef88cb4c76c6dd7  de107a99cb0ed2ec5d90d744cc48c310  23723788   \nd9d104943954cc9d975a07d1a724be90  de107a99cb0ed2ec5d90d744cc48c310  23496782   \n\n                                                                        review_text  \\\nreview_id                                                                             \nba7e149d70cb858d87d4113dfe0e4091  IhavetoadmitihavefalleninlovewithPatcicannotwa...   \n90529a603506931b91502b3c65b0564c  the feels for NICO DI ANGELO.....................   \n7105506d7aa373be892e6d7d29750741  \"The past is obdurate.\" \\n rtcrtcrtcrtcrtcrtcr...   \nba4e577524730630bef88cb4c76c6dd7  2.5 it's-a-good-book-as-in-even-after-months-I...   \nd9d104943954cc9d975a07d1a724be90  2.5 It-Was-a-Very-Okay-Book-With-the-Mystery-a...   \n\n                                                      date_added  n_votes  \\\nreview_id                                                                   \nba7e149d70cb858d87d4113dfe0e4091  Sun Sep 30 12:29:48 -0700 2012        1   \n90529a603506931b91502b3c65b0564c  Thu May 16 23:11:00 -0700 2013        0   \n7105506d7aa373be892e6d7d29750741  Fri Mar 18 07:59:13 -0700 2016        0   \nba4e577524730630bef88cb4c76c6dd7  Sun Aug 30 18:18:44 -0700 2015        0   \nd9d104943954cc9d975a07d1a724be90  Thu Apr 09 04:41:42 -0700 2015        3   \n\n                                  n_comments  \nreview_id                                     \nba7e149d70cb858d87d4113dfe0e4091           1  \n90529a603506931b91502b3c65b0564c           0  \n7105506d7aa373be892e6d7d29750741           0  \nba4e577524730630bef88cb4c76c6dd7           0  \nd9d104943954cc9d975a07d1a724be90           0  ",
      "text/html": "<div>\n<style scoped>\n    .dataframe tbody tr th:only-of-type {\n        vertical-align: middle;\n    }\n\n    .dataframe tbody tr th {\n        vertical-align: top;\n    }\n\n    .dataframe thead th {\n        text-align: right;\n    }\n</style>\n<table border=\"1\" class=\"dataframe\">\n  <thead>\n    <tr style=\"text-align: right;\">\n      <th></th>\n      <th>user_id</th>\n      <th>book_id</th>\n      <th>review_text</th>\n      <th>date_added</th>\n      <th>n_votes</th>\n      <th>n_comments</th>\n    </tr>\n    <tr>\n      <th>review_id</th>\n      <th></th>\n      <th></th>\n      <th></th>\n      <th></th>\n      <th></th>\n      <th></th>\n    </tr>\n  </thead>\n  <tbody>\n    <tr>\n      <th>ba7e149d70cb858d87d4113dfe0e4091</th>\n      <td>8092e33e9c50d3e269a8164177d2abdc</td>\n      <td>6339664</td>\n      <td>IhavetoadmitihavefalleninlovewithPatcicannotwa...</td>\n      <td>Sun Sep 30 12:29:48 -0700 2012</td>\n      <td>1</td>\n      <td>1</td>\n    </tr>\n    <tr>\n      <th>90529a603506931b91502b3c65b0564c</th>\n      <td>308c545182f8b5d332ff71c667fd9b61</td>\n      <td>12127810</td>\n      <td>the feels for NICO DI ANGELO.....................</td>\n      <td>Thu May 16 23:11:00 -0700 2013</td>\n      <td>0</td>\n      <td>0</td>\n    </tr>\n    <tr>\n      <th>7105506d7aa373be892e6d7d29750741</th>\n      <td>302eb3debfc02e0bdd0fd617d34a2713</td>\n      <td>10644930</td>\n      <td>\"The past is obdurate.\" \\n rtcrtcrtcrtcrtcrtcr...</td>\n      <td>Fri Mar 18 07:59:13 -0700 2016</td>\n      <td>0</td>\n      <td>0</td>\n    </tr>\n    <tr>\n      <th>ba4e577524730630bef88cb4c76c6dd7</th>\n      <td>de107a99cb0ed2ec5d90d744cc48c310</td>\n      <td>23723788</td>\n      <td>2.5 it's-a-good-book-as-in-even-after-months-I...</td>\n      <td>Sun Aug 30 18:18:44 -0700 2015</td>\n      <td>0</td>\n      <td>0</td>\n    </tr>\n    <tr>\n      <th>d9d104943954cc9d975a07d1a724be90</th>\n      <td>de107a99cb0ed2ec5d90d744cc48c310</td>\n      <td>23496782</td>\n      <td>2.5 It-Was-a-Very-Okay-Book-With-the-Mystery-a...</td>\n      <td>Thu Apr 09 04:41:42 -0700 2015</td>\n      <td>3</td>\n      <td>0</td>\n    </tr>\n  </tbody>\n</table>\n</div>"
     },
     "execution_count": 19,
     "metadata": {},
     "output_type": "execute_result"
    }
   ],
   "source": [
    "books[unapp_texts].head()"
   ],
   "metadata": {
    "collapsed": false
   }
  },
  {
   "cell_type": "code",
   "execution_count": 20,
   "outputs": [],
   "source": [
    "books.drop(books[unapp_texts].index, axis=0, inplace=True)"
   ],
   "metadata": {
    "collapsed": false
   }
  },
  {
   "cell_type": "code",
   "execution_count": 21,
   "outputs": [],
   "source": [
    "spoil_statement = 'spoiler alert'\n",
    "books['spoil'] = [True if spoil_statement in txt else False for txt in books['review_text']]"
   ],
   "metadata": {
    "collapsed": false
   }
  },
  {
   "cell_type": "code",
   "execution_count": 22,
   "outputs": [
    {
     "data": {
      "text/plain": "                                                           user_id   book_id  \\\nreview_id                                                                      \ne23965adda7ce7e7e415a1339e169065  8842281e1d1347389f2ab93d60773d4d     62291   \n0258b3c9a85cecb95f240e43a7642f60  8842281e1d1347389f2ab93d60773d4d   7112495   \nd44b6d28f456dbcc5b1537b4c5572400  8842281e1d1347389f2ab93d60773d4d   6411961   \nd49eb786ef1d8557b9e6e86bcafd4570  8842281e1d1347389f2ab93d60773d4d     77432   \nb8e08587ce1592d69548d0f644cb9893  8842281e1d1347389f2ab93d60773d4d     14497   \n...                                                            ...       ...   \na989c818917a7463089454b356fb6671  5ff0927d425ab1a70d2b2d41fe6b96b5  13239950   \n3736d5ee5904b4b5651912dd28b7ce01  a16fd6b48c6e877042acbe2bda8a0007    115076   \na7777a1c18ab582586a61ad453d91949  692ce8eb4d5490980f6e74f6cb8671e2  12974372   \nb1e1134e7e1e90725ac4237b66657de9  692ce8eb4d5490980f6e74f6cb8671e2     29044   \n31793e9810955194feaed3cc169e52ce  e32792a55ef11527453a96a9df5a4fc2     18512   \n\n                                                                        review_text  \\\nreview_id                                                                             \ne23965adda7ce7e7e415a1339e169065  ** spoiler alert ** \\n Loved it. The epic saga...   \n0258b3c9a85cecb95f240e43a7642f60  ** spoiler alert ** \\n An interesting book in ...   \nd44b6d28f456dbcc5b1537b4c5572400  ** spoiler alert ** \\n Critics aside, Dan Brow...   \nd49eb786ef1d8557b9e6e86bcafd4570  ** spoiler alert ** \\n I equally loved book 2,...   \nb8e08587ce1592d69548d0f644cb9893  ** spoiler alert ** \\n Just finished this and ...   \n...                                                                             ...   \na989c818917a7463089454b356fb6671  ** spoiler alert ** \\n Hills like White Elepha...   \n3736d5ee5904b4b5651912dd28b7ce01  ** spoiler alert ** \\n I was completely engros...   \na7777a1c18ab582586a61ad453d91949  ** spoiler alert ** \\n Hmm...what to say about...   \nb1e1134e7e1e90725ac4237b66657de9  ** spoiler alert ** \\n The first two-thirds of...   \n31793e9810955194feaed3cc169e52ce  The middle was a bit slow for me (that could o...   \n\n                                                      date_added  n_votes  \\\nreview_id                                                                   \ne23965adda7ce7e7e415a1339e169065  Tue Jul 12 12:57:07 -0700 2011        5   \n0258b3c9a85cecb95f240e43a7642f60  Thu Jun 10 14:41:13 -0700 2010        7   \nd44b6d28f456dbcc5b1537b4c5572400  Wed Sep 16 11:09:03 -0700 2009        3   \nd49eb786ef1d8557b9e6e86bcafd4570  Tue May 05 18:08:22 -0700 2009        1   \nb8e08587ce1592d69548d0f644cb9893  Thu Mar 27 17:53:06 -0700 2008        6   \n...                                                          ...      ...   \na989c818917a7463089454b356fb6671  Wed Oct 31 18:22:50 -0700 2012       25   \n3736d5ee5904b4b5651912dd28b7ce01  Mon Jun 04 07:18:34 -0700 2012        0   \na7777a1c18ab582586a61ad453d91949  Wed Nov 04 12:33:22 -0800 2015        1   \nb1e1134e7e1e90725ac4237b66657de9  Mon Nov 24 16:03:39 -0800 2014        1   \n31793e9810955194feaed3cc169e52ce  Wed Jun 11 07:45:03 -0700 2008        0   \n\n                                  n_comments  spoil  \nreview_id                                            \ne23965adda7ce7e7e415a1339e169065           1   True  \n0258b3c9a85cecb95f240e43a7642f60           3   True  \nd44b6d28f456dbcc5b1537b4c5572400           3   True  \nd49eb786ef1d8557b9e6e86bcafd4570           0   True  \nb8e08587ce1592d69548d0f644cb9893           1   True  \n...                                      ...    ...  \na989c818917a7463089454b356fb6671           7   True  \n3736d5ee5904b4b5651912dd28b7ce01           0   True  \na7777a1c18ab582586a61ad453d91949           0   True  \nb1e1134e7e1e90725ac4237b66657de9           3   True  \n31793e9810955194feaed3cc169e52ce           0   True  \n\n[25902 rows x 7 columns]",
      "text/html": "<div>\n<style scoped>\n    .dataframe tbody tr th:only-of-type {\n        vertical-align: middle;\n    }\n\n    .dataframe tbody tr th {\n        vertical-align: top;\n    }\n\n    .dataframe thead th {\n        text-align: right;\n    }\n</style>\n<table border=\"1\" class=\"dataframe\">\n  <thead>\n    <tr style=\"text-align: right;\">\n      <th></th>\n      <th>user_id</th>\n      <th>book_id</th>\n      <th>review_text</th>\n      <th>date_added</th>\n      <th>n_votes</th>\n      <th>n_comments</th>\n      <th>spoil</th>\n    </tr>\n    <tr>\n      <th>review_id</th>\n      <th></th>\n      <th></th>\n      <th></th>\n      <th></th>\n      <th></th>\n      <th></th>\n      <th></th>\n    </tr>\n  </thead>\n  <tbody>\n    <tr>\n      <th>e23965adda7ce7e7e415a1339e169065</th>\n      <td>8842281e1d1347389f2ab93d60773d4d</td>\n      <td>62291</td>\n      <td>** spoiler alert ** \\n Loved it. The epic saga...</td>\n      <td>Tue Jul 12 12:57:07 -0700 2011</td>\n      <td>5</td>\n      <td>1</td>\n      <td>True</td>\n    </tr>\n    <tr>\n      <th>0258b3c9a85cecb95f240e43a7642f60</th>\n      <td>8842281e1d1347389f2ab93d60773d4d</td>\n      <td>7112495</td>\n      <td>** spoiler alert ** \\n An interesting book in ...</td>\n      <td>Thu Jun 10 14:41:13 -0700 2010</td>\n      <td>7</td>\n      <td>3</td>\n      <td>True</td>\n    </tr>\n    <tr>\n      <th>d44b6d28f456dbcc5b1537b4c5572400</th>\n      <td>8842281e1d1347389f2ab93d60773d4d</td>\n      <td>6411961</td>\n      <td>** spoiler alert ** \\n Critics aside, Dan Brow...</td>\n      <td>Wed Sep 16 11:09:03 -0700 2009</td>\n      <td>3</td>\n      <td>3</td>\n      <td>True</td>\n    </tr>\n    <tr>\n      <th>d49eb786ef1d8557b9e6e86bcafd4570</th>\n      <td>8842281e1d1347389f2ab93d60773d4d</td>\n      <td>77432</td>\n      <td>** spoiler alert ** \\n I equally loved book 2,...</td>\n      <td>Tue May 05 18:08:22 -0700 2009</td>\n      <td>1</td>\n      <td>0</td>\n      <td>True</td>\n    </tr>\n    <tr>\n      <th>b8e08587ce1592d69548d0f644cb9893</th>\n      <td>8842281e1d1347389f2ab93d60773d4d</td>\n      <td>14497</td>\n      <td>** spoiler alert ** \\n Just finished this and ...</td>\n      <td>Thu Mar 27 17:53:06 -0700 2008</td>\n      <td>6</td>\n      <td>1</td>\n      <td>True</td>\n    </tr>\n    <tr>\n      <th>...</th>\n      <td>...</td>\n      <td>...</td>\n      <td>...</td>\n      <td>...</td>\n      <td>...</td>\n      <td>...</td>\n      <td>...</td>\n    </tr>\n    <tr>\n      <th>a989c818917a7463089454b356fb6671</th>\n      <td>5ff0927d425ab1a70d2b2d41fe6b96b5</td>\n      <td>13239950</td>\n      <td>** spoiler alert ** \\n Hills like White Elepha...</td>\n      <td>Wed Oct 31 18:22:50 -0700 2012</td>\n      <td>25</td>\n      <td>7</td>\n      <td>True</td>\n    </tr>\n    <tr>\n      <th>3736d5ee5904b4b5651912dd28b7ce01</th>\n      <td>a16fd6b48c6e877042acbe2bda8a0007</td>\n      <td>115076</td>\n      <td>** spoiler alert ** \\n I was completely engros...</td>\n      <td>Mon Jun 04 07:18:34 -0700 2012</td>\n      <td>0</td>\n      <td>0</td>\n      <td>True</td>\n    </tr>\n    <tr>\n      <th>a7777a1c18ab582586a61ad453d91949</th>\n      <td>692ce8eb4d5490980f6e74f6cb8671e2</td>\n      <td>12974372</td>\n      <td>** spoiler alert ** \\n Hmm...what to say about...</td>\n      <td>Wed Nov 04 12:33:22 -0800 2015</td>\n      <td>1</td>\n      <td>0</td>\n      <td>True</td>\n    </tr>\n    <tr>\n      <th>b1e1134e7e1e90725ac4237b66657de9</th>\n      <td>692ce8eb4d5490980f6e74f6cb8671e2</td>\n      <td>29044</td>\n      <td>** spoiler alert ** \\n The first two-thirds of...</td>\n      <td>Mon Nov 24 16:03:39 -0800 2014</td>\n      <td>1</td>\n      <td>3</td>\n      <td>True</td>\n    </tr>\n    <tr>\n      <th>31793e9810955194feaed3cc169e52ce</th>\n      <td>e32792a55ef11527453a96a9df5a4fc2</td>\n      <td>18512</td>\n      <td>The middle was a bit slow for me (that could o...</td>\n      <td>Wed Jun 11 07:45:03 -0700 2008</td>\n      <td>0</td>\n      <td>0</td>\n      <td>True</td>\n    </tr>\n  </tbody>\n</table>\n<p>25902 rows × 7 columns</p>\n</div>"
     },
     "execution_count": 22,
     "metadata": {},
     "output_type": "execute_result"
    }
   ],
   "source": [
    "books[books['spoil'] == True]"
   ],
   "metadata": {
    "collapsed": false
   }
  }
 ],
 "metadata": {
  "kernelspec": {
   "display_name": "Python 3",
   "language": "python",
   "name": "python3"
  },
  "language_info": {
   "codemirror_mode": {
    "name": "ipython",
    "version": 2
   },
   "file_extension": ".py",
   "mimetype": "text/x-python",
   "name": "python",
   "nbconvert_exporter": "python",
   "pygments_lexer": "ipython2",
   "version": "2.7.6"
  }
 },
 "nbformat": 4,
 "nbformat_minor": 0
}
