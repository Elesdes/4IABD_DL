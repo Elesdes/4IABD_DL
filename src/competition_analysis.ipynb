{
 "cells": [
  {
   "cell_type": "code",
   "execution_count": 59,
   "outputs": [],
   "source": [
    "from src.libs.utils.tensorboard import create_tensorboard_log_dir\n",
    "from typing import Any\n",
    "from tqdm import tqdm\n",
    "import numpy as np\n",
    "import pandas as pd\n",
    "import tensorflow as tf\n",
    "import re"
   ],
   "metadata": {
    "collapsed": false
   }
  },
  {
   "cell_type": "code",
   "execution_count": 60,
   "outputs": [
    {
     "name": "stdout",
     "output_type": "stream",
     "text": [
      "Requirement already satisfied: tensorflow in c:\\users\\juanm\\anaconda3\\envs\\4iabd1_dl\\lib\\site-packages (2.10.0)\n",
      "Requirement already satisfied: numpy in c:\\users\\juanm\\anaconda3\\envs\\4iabd1_dl\\lib\\site-packages (1.23.4)\n",
      "Requirement already satisfied: tqdm in c:\\users\\juanm\\anaconda3\\envs\\4iabd1_dl\\lib\\site-packages (4.64.1)\n",
      "Requirement already satisfied: pandas in c:\\users\\juanm\\anaconda3\\envs\\4iabd1_dl\\lib\\site-packages (1.5.1)\n",
      "Requirement already satisfied: six>=1.12.0 in c:\\users\\juanm\\anaconda3\\envs\\4iabd1_dl\\lib\\site-packages (from tensorflow) (1.16.0)\n",
      "Requirement already satisfied: wrapt>=1.11.0 in c:\\users\\juanm\\anaconda3\\envs\\4iabd1_dl\\lib\\site-packages (from tensorflow) (1.14.1)\n",
      "Requirement already satisfied: packaging in c:\\users\\juanm\\anaconda3\\envs\\4iabd1_dl\\lib\\site-packages (from tensorflow) (21.3)\n",
      "Requirement already satisfied: grpcio<2.0,>=1.24.3 in c:\\users\\juanm\\anaconda3\\envs\\4iabd1_dl\\lib\\site-packages (from tensorflow) (1.49.1)\n",
      "Requirement already satisfied: tensorflow-estimator<2.11,>=2.10.0 in c:\\users\\juanm\\anaconda3\\envs\\4iabd1_dl\\lib\\site-packages (from tensorflow) (2.10.0)\n",
      "Requirement already satisfied: keras<2.11,>=2.10.0 in c:\\users\\juanm\\anaconda3\\envs\\4iabd1_dl\\lib\\site-packages (from tensorflow) (2.10.0)\n",
      "Requirement already satisfied: astunparse>=1.6.0 in c:\\users\\juanm\\anaconda3\\envs\\4iabd1_dl\\lib\\site-packages (from tensorflow) (1.6.3)\n",
      "Requirement already satisfied: tensorboard<2.11,>=2.10 in c:\\users\\juanm\\anaconda3\\envs\\4iabd1_dl\\lib\\site-packages (from tensorflow) (2.10.1)\n",
      "Requirement already satisfied: typing-extensions>=3.6.6 in c:\\users\\juanm\\anaconda3\\envs\\4iabd1_dl\\lib\\site-packages (from tensorflow) (4.4.0)\n",
      "Requirement already satisfied: absl-py>=1.0.0 in c:\\users\\juanm\\anaconda3\\envs\\4iabd1_dl\\lib\\site-packages (from tensorflow) (1.3.0)\n",
      "Requirement already satisfied: protobuf<3.20,>=3.9.2 in c:\\users\\juanm\\anaconda3\\envs\\4iabd1_dl\\lib\\site-packages (from tensorflow) (3.19.6)\n",
      "Requirement already satisfied: google-pasta>=0.1.1 in c:\\users\\juanm\\anaconda3\\envs\\4iabd1_dl\\lib\\site-packages (from tensorflow) (0.2.0)\n",
      "Requirement already satisfied: opt-einsum>=2.3.2 in c:\\users\\juanm\\anaconda3\\envs\\4iabd1_dl\\lib\\site-packages (from tensorflow) (3.3.0)\n",
      "Requirement already satisfied: termcolor>=1.1.0 in c:\\users\\juanm\\anaconda3\\envs\\4iabd1_dl\\lib\\site-packages (from tensorflow) (2.0.1)\n",
      "Requirement already satisfied: tensorflow-io-gcs-filesystem>=0.23.1 in c:\\users\\juanm\\anaconda3\\envs\\4iabd1_dl\\lib\\site-packages (from tensorflow) (0.27.0)\n",
      "Requirement already satisfied: libclang>=13.0.0 in c:\\users\\juanm\\anaconda3\\envs\\4iabd1_dl\\lib\\site-packages (from tensorflow) (14.0.6)\n",
      "Requirement already satisfied: keras-preprocessing>=1.1.1 in c:\\users\\juanm\\anaconda3\\envs\\4iabd1_dl\\lib\\site-packages (from tensorflow) (1.1.2)\n",
      "Requirement already satisfied: gast<=0.4.0,>=0.2.1 in c:\\users\\juanm\\anaconda3\\envs\\4iabd1_dl\\lib\\site-packages (from tensorflow) (0.4.0)\n",
      "Requirement already satisfied: flatbuffers>=2.0 in c:\\users\\juanm\\anaconda3\\envs\\4iabd1_dl\\lib\\site-packages (from tensorflow) (22.9.24)\n",
      "Requirement already satisfied: setuptools in c:\\users\\juanm\\anaconda3\\envs\\4iabd1_dl\\lib\\site-packages (from tensorflow) (63.4.1)\n",
      "Requirement already satisfied: h5py>=2.9.0 in c:\\users\\juanm\\anaconda3\\envs\\4iabd1_dl\\lib\\site-packages (from tensorflow) (3.7.0)\n",
      "Requirement already satisfied: colorama in c:\\users\\juanm\\anaconda3\\envs\\4iabd1_dl\\lib\\site-packages (from tqdm) (0.4.5)\n",
      "Requirement already satisfied: pytz>=2020.1 in c:\\users\\juanm\\anaconda3\\envs\\4iabd1_dl\\lib\\site-packages (from pandas) (2022.1)\n",
      "Requirement already satisfied: python-dateutil>=2.8.1 in c:\\users\\juanm\\anaconda3\\envs\\4iabd1_dl\\lib\\site-packages (from pandas) (2.8.2)\n",
      "Requirement already satisfied: wheel<1.0,>=0.23.0 in c:\\users\\juanm\\anaconda3\\envs\\4iabd1_dl\\lib\\site-packages (from astunparse>=1.6.0->tensorflow) (0.37.1)\n",
      "Requirement already satisfied: markdown>=2.6.8 in c:\\users\\juanm\\anaconda3\\envs\\4iabd1_dl\\lib\\site-packages (from tensorboard<2.11,>=2.10->tensorflow) (3.4.1)\n",
      "Requirement already satisfied: google-auth<3,>=1.6.3 in c:\\users\\juanm\\anaconda3\\envs\\4iabd1_dl\\lib\\site-packages (from tensorboard<2.11,>=2.10->tensorflow) (2.13.0)\n",
      "Requirement already satisfied: tensorboard-plugin-wit>=1.6.0 in c:\\users\\juanm\\anaconda3\\envs\\4iabd1_dl\\lib\\site-packages (from tensorboard<2.11,>=2.10->tensorflow) (1.8.1)\n",
      "Requirement already satisfied: requests<3,>=2.21.0 in c:\\users\\juanm\\anaconda3\\envs\\4iabd1_dl\\lib\\site-packages (from tensorboard<2.11,>=2.10->tensorflow) (2.28.1)\n",
      "Requirement already satisfied: werkzeug>=1.0.1 in c:\\users\\juanm\\anaconda3\\envs\\4iabd1_dl\\lib\\site-packages (from tensorboard<2.11,>=2.10->tensorflow) (2.2.2)\n",
      "Requirement already satisfied: tensorboard-data-server<0.7.0,>=0.6.0 in c:\\users\\juanm\\anaconda3\\envs\\4iabd1_dl\\lib\\site-packages (from tensorboard<2.11,>=2.10->tensorflow) (0.6.1)\n",
      "Requirement already satisfied: google-auth-oauthlib<0.5,>=0.4.1 in c:\\users\\juanm\\anaconda3\\envs\\4iabd1_dl\\lib\\site-packages (from tensorboard<2.11,>=2.10->tensorflow) (0.4.6)\n",
      "Requirement already satisfied: pyparsing!=3.0.5,>=2.0.2 in c:\\users\\juanm\\anaconda3\\envs\\4iabd1_dl\\lib\\site-packages (from packaging->tensorflow) (3.0.9)\n",
      "Requirement already satisfied: cachetools<6.0,>=2.0.0 in c:\\users\\juanm\\anaconda3\\envs\\4iabd1_dl\\lib\\site-packages (from google-auth<3,>=1.6.3->tensorboard<2.11,>=2.10->tensorflow) (5.2.0)\n",
      "Requirement already satisfied: pyasn1-modules>=0.2.1 in c:\\users\\juanm\\anaconda3\\envs\\4iabd1_dl\\lib\\site-packages (from google-auth<3,>=1.6.3->tensorboard<2.11,>=2.10->tensorflow) (0.2.8)\n",
      "Requirement already satisfied: rsa<5,>=3.1.4 in c:\\users\\juanm\\anaconda3\\envs\\4iabd1_dl\\lib\\site-packages (from google-auth<3,>=1.6.3->tensorboard<2.11,>=2.10->tensorflow) (4.9)\n",
      "Requirement already satisfied: requests-oauthlib>=0.7.0 in c:\\users\\juanm\\anaconda3\\envs\\4iabd1_dl\\lib\\site-packages (from google-auth-oauthlib<0.5,>=0.4.1->tensorboard<2.11,>=2.10->tensorflow) (1.3.1)\n",
      "Requirement already satisfied: charset-normalizer<3,>=2 in c:\\users\\juanm\\anaconda3\\envs\\4iabd1_dl\\lib\\site-packages (from requests<3,>=2.21.0->tensorboard<2.11,>=2.10->tensorflow) (2.1.1)\n",
      "Requirement already satisfied: idna<4,>=2.5 in c:\\users\\juanm\\anaconda3\\envs\\4iabd1_dl\\lib\\site-packages (from requests<3,>=2.21.0->tensorboard<2.11,>=2.10->tensorflow) (3.4)\n",
      "Requirement already satisfied: urllib3<1.27,>=1.21.1 in c:\\users\\juanm\\anaconda3\\envs\\4iabd1_dl\\lib\\site-packages (from requests<3,>=2.21.0->tensorboard<2.11,>=2.10->tensorflow) (1.26.12)\n",
      "Requirement already satisfied: certifi>=2017.4.17 in c:\\users\\juanm\\anaconda3\\envs\\4iabd1_dl\\lib\\site-packages (from requests<3,>=2.21.0->tensorboard<2.11,>=2.10->tensorflow) (2022.9.24)\n",
      "Requirement already satisfied: MarkupSafe>=2.1.1 in c:\\users\\juanm\\anaconda3\\envs\\4iabd1_dl\\lib\\site-packages (from werkzeug>=1.0.1->tensorboard<2.11,>=2.10->tensorflow) (2.1.1)\n",
      "Requirement already satisfied: pyasn1<0.5.0,>=0.4.6 in c:\\users\\juanm\\anaconda3\\envs\\4iabd1_dl\\lib\\site-packages (from pyasn1-modules>=0.2.1->google-auth<3,>=1.6.3->tensorboard<2.11,>=2.10->tensorflow) (0.4.8)\n",
      "Requirement already satisfied: oauthlib>=3.0.0 in c:\\users\\juanm\\anaconda3\\envs\\4iabd1_dl\\lib\\site-packages (from requests-oauthlib>=0.7.0->google-auth-oauthlib<0.5,>=0.4.1->tensorboard<2.11,>=2.10->tensorflow) (3.2.2)\n"
     ]
    }
   ],
   "source": [
    "!pip install tensorflow numpy tqdm pandas"
   ],
   "metadata": {
    "collapsed": false
   }
  },
  {
   "cell_type": "markdown",
   "source": [
    "**Creating DataFrames**"
   ],
   "metadata": {
    "collapsed": false
   }
  },
  {
   "cell_type": "code",
   "execution_count": 61,
   "outputs": [],
   "source": [
    "goodreads_train = pd.read_csv('kaggle/input/goodreads_train.csv')\n",
    "goodreads_test = pd.read_csv('kaggle/input/goodreads_test.csv')"
   ],
   "metadata": {
    "collapsed": false
   }
  },
  {
   "cell_type": "code",
   "execution_count": 62,
   "outputs": [
    {
     "data": {
      "text/plain": "(900000, 11)"
     },
     "execution_count": 62,
     "metadata": {},
     "output_type": "execute_result"
    }
   ],
   "source": [
    "goodreads_train.shape"
   ],
   "metadata": {
    "collapsed": false
   }
  },
  {
   "cell_type": "code",
   "execution_count": 63,
   "outputs": [
    {
     "data": {
      "text/plain": "(478033, 10)"
     },
     "execution_count": 63,
     "metadata": {},
     "output_type": "execute_result"
    }
   ],
   "source": [
    "goodreads_test.shape"
   ],
   "metadata": {
    "collapsed": false
   }
  },
  {
   "cell_type": "code",
   "execution_count": 64,
   "outputs": [
    {
     "data": {
      "text/plain": "                                 user_id   book_id  \\\n383398  a3b55cc2b5218d73a529ca797884f443   1295102   \n899459  694e53b0b1a1b2fa52e661aec6092d02  25041504   \n376179  025f6535878e5bb486ac3869e3c6e35a   2429135   \n116073  f986c213af3348660c6143a42a77f0fc   7904453   \n127542  801ace581f75fa295064205aca31d326  22522808   \n\n                               review_id  rating  \\\n383398  49f658271e41c829b3f98f4c3b920d8f       5   \n899459  de5e75cec0eb2dc0853f43b839b53e0f       3   \n376179  83e9b0631349543bd5fc60b80352c5cc       3   \n116073  730bf1da17dcfe7c2f85955fc4a0130b       4   \n127542  cc6a566ebf0dfe46e6c10fa043ad9ccf       3   \n\n                                              review_text  \\\n383398  What an adorable book! Even if he is not the m...   \n899459  three and a half \\n not as good as the first b...   \n376179  Not as bad as I was expecting. And everyone ha...   \n116073  An excellent followup to one of the most amazi...   \n127542  2.5-3 stars \\n Out of 25 stories and poems, I ...   \n\n                            date_added                    date_updated  \\\n383398  Fri Feb 13 13:06:18 -0800 2015  Sat May 30 12:51:44 -0700 2015   \n899459  Thu Oct 06 19:09:55 -0700 2016  Mon Oct 10 19:42:32 -0700 2016   \n376179  Wed Feb 02 15:37:52 -0800 2011  Wed Feb 02 15:40:33 -0800 2011   \n116073  Mon Jan 06 12:49:09 -0800 2014  Fri Jan 17 14:28:32 -0800 2014   \n127542  Mon Mar 23 12:23:41 -0700 2015  Tue Mar 31 02:03:16 -0700 2015   \n\n                               read_at                      started_at  \\\n383398  Fri Apr 03 00:00:00 -0700 2015  Fri Feb 13 00:00:00 -0800 2015   \n899459  Mon Oct 10 00:00:00 -0700 2016  Thu Oct 06 00:00:00 -0700 2016   \n376179  Wed Jan 26 00:00:00 -0800 2011                             NaN   \n116073  Sat Jan 11 00:00:00 -0800 2014  Mon Jan 06 00:00:00 -0800 2014   \n127542  Fri Mar 27 00:00:00 -0700 2015  Mon Mar 23 00:00:00 -0700 2015   \n\n        n_votes  n_comments  \n383398        0           0  \n899459        0           0  \n376179        1           0  \n116073        0           1  \n127542        0           0  ",
      "text/html": "<div>\n<style scoped>\n    .dataframe tbody tr th:only-of-type {\n        vertical-align: middle;\n    }\n\n    .dataframe tbody tr th {\n        vertical-align: top;\n    }\n\n    .dataframe thead th {\n        text-align: right;\n    }\n</style>\n<table border=\"1\" class=\"dataframe\">\n  <thead>\n    <tr style=\"text-align: right;\">\n      <th></th>\n      <th>user_id</th>\n      <th>book_id</th>\n      <th>review_id</th>\n      <th>rating</th>\n      <th>review_text</th>\n      <th>date_added</th>\n      <th>date_updated</th>\n      <th>read_at</th>\n      <th>started_at</th>\n      <th>n_votes</th>\n      <th>n_comments</th>\n    </tr>\n  </thead>\n  <tbody>\n    <tr>\n      <th>383398</th>\n      <td>a3b55cc2b5218d73a529ca797884f443</td>\n      <td>1295102</td>\n      <td>49f658271e41c829b3f98f4c3b920d8f</td>\n      <td>5</td>\n      <td>What an adorable book! Even if he is not the m...</td>\n      <td>Fri Feb 13 13:06:18 -0800 2015</td>\n      <td>Sat May 30 12:51:44 -0700 2015</td>\n      <td>Fri Apr 03 00:00:00 -0700 2015</td>\n      <td>Fri Feb 13 00:00:00 -0800 2015</td>\n      <td>0</td>\n      <td>0</td>\n    </tr>\n    <tr>\n      <th>899459</th>\n      <td>694e53b0b1a1b2fa52e661aec6092d02</td>\n      <td>25041504</td>\n      <td>de5e75cec0eb2dc0853f43b839b53e0f</td>\n      <td>3</td>\n      <td>three and a half \\n not as good as the first b...</td>\n      <td>Thu Oct 06 19:09:55 -0700 2016</td>\n      <td>Mon Oct 10 19:42:32 -0700 2016</td>\n      <td>Mon Oct 10 00:00:00 -0700 2016</td>\n      <td>Thu Oct 06 00:00:00 -0700 2016</td>\n      <td>0</td>\n      <td>0</td>\n    </tr>\n    <tr>\n      <th>376179</th>\n      <td>025f6535878e5bb486ac3869e3c6e35a</td>\n      <td>2429135</td>\n      <td>83e9b0631349543bd5fc60b80352c5cc</td>\n      <td>3</td>\n      <td>Not as bad as I was expecting. And everyone ha...</td>\n      <td>Wed Feb 02 15:37:52 -0800 2011</td>\n      <td>Wed Feb 02 15:40:33 -0800 2011</td>\n      <td>Wed Jan 26 00:00:00 -0800 2011</td>\n      <td>NaN</td>\n      <td>1</td>\n      <td>0</td>\n    </tr>\n    <tr>\n      <th>116073</th>\n      <td>f986c213af3348660c6143a42a77f0fc</td>\n      <td>7904453</td>\n      <td>730bf1da17dcfe7c2f85955fc4a0130b</td>\n      <td>4</td>\n      <td>An excellent followup to one of the most amazi...</td>\n      <td>Mon Jan 06 12:49:09 -0800 2014</td>\n      <td>Fri Jan 17 14:28:32 -0800 2014</td>\n      <td>Sat Jan 11 00:00:00 -0800 2014</td>\n      <td>Mon Jan 06 00:00:00 -0800 2014</td>\n      <td>0</td>\n      <td>1</td>\n    </tr>\n    <tr>\n      <th>127542</th>\n      <td>801ace581f75fa295064205aca31d326</td>\n      <td>22522808</td>\n      <td>cc6a566ebf0dfe46e6c10fa043ad9ccf</td>\n      <td>3</td>\n      <td>2.5-3 stars \\n Out of 25 stories and poems, I ...</td>\n      <td>Mon Mar 23 12:23:41 -0700 2015</td>\n      <td>Tue Mar 31 02:03:16 -0700 2015</td>\n      <td>Fri Mar 27 00:00:00 -0700 2015</td>\n      <td>Mon Mar 23 00:00:00 -0700 2015</td>\n      <td>0</td>\n      <td>0</td>\n    </tr>\n  </tbody>\n</table>\n</div>"
     },
     "execution_count": 64,
     "metadata": {},
     "output_type": "execute_result"
    }
   ],
   "source": [
    "goodreads_train.sample(5)"
   ],
   "metadata": {
    "collapsed": false
   }
  },
  {
   "cell_type": "markdown",
   "source": [
    "**Cleaning DataFrames**"
   ],
   "metadata": {
    "collapsed": false
   }
  },
  {
   "cell_type": "code",
   "execution_count": 80,
   "outputs": [
    {
     "data": {
      "text/plain": "4    313688\n5    265007\n3    188972\n2     72627\n0     30988\n1     28718\nName: rating, dtype: int64"
     },
     "execution_count": 80,
     "metadata": {},
     "output_type": "execute_result"
    }
   ],
   "source": [
    "goodreads_train['rating'].value_counts()"
   ],
   "metadata": {
    "collapsed": false
   }
  },
  {
   "cell_type": "code",
   "execution_count": 66,
   "outputs": [],
   "source": [
    "goodreads_train.set_index(\"review_id\", inplace=True)\n",
    "goodreads_test.set_index(\"review_id\", inplace=True)"
   ],
   "metadata": {
    "collapsed": false
   }
  },
  {
   "cell_type": "code",
   "execution_count": 67,
   "outputs": [],
   "source": [
    "books = pd.concat([goodreads_train.drop('rating', axis=1), goodreads_test], axis=0)\n",
    "books_rates = goodreads_train['rating']"
   ],
   "metadata": {
    "collapsed": false
   }
  },
  {
   "cell_type": "code",
   "execution_count": 68,
   "outputs": [
    {
     "data": {
      "text/plain": "(1378033, 9)"
     },
     "execution_count": 68,
     "metadata": {},
     "output_type": "execute_result"
    }
   ],
   "source": [
    "books.shape"
   ],
   "metadata": {
    "collapsed": false
   }
  },
  {
   "cell_type": "code",
   "execution_count": 69,
   "outputs": [
    {
     "data": {
      "text/plain": "                                                           user_id   book_id  \\\nreview_id                                                                      \na5a58fd0d70aa55fe78292d1016d9f45  341e9338ee8427188e35ae9cdc5f0e91  26258306   \nd655d8584ff4016e86c6b5c47ffc8d86  a257bfb251a46d82ae1424d101984228  18126966   \nb43d4faa1052a370c93a67ae751572e0  0e21b3f5aaf75a386e5f2c6a6c38d206  13644052   \ne51e586878394383f13bd6cb539cb14a  1aa34c596c1835eece458de9638dd974    126609   \nb0b6d1737566ecc042a3a0d91840016c  1ceef4796fb36190e72714895806835b  25785993   \n\n                                                                        review_text  \\\nreview_id                                                                             \na5a58fd0d70aa55fe78292d1016d9f45  Tis the season for adorable Christmas stories!...   \nd655d8584ff4016e86c6b5c47ffc8d86      Not a boring moment to be found in the story.   \nb43d4faa1052a370c93a67ae751572e0  That ending, oh my!!! Can't wait for Oppositio...   \ne51e586878394383f13bd6cb539cb14a  Great book about a woman trying to make it on ...   \nb0b6d1737566ecc042a3a0d91840016c  I really liked this comic, but I also felt pre...   \n\n                                                      date_added  \\\nreview_id                                                          \na5a58fd0d70aa55fe78292d1016d9f45  Sat Sep 24 07:39:43 -0700 2016   \nd655d8584ff4016e86c6b5c47ffc8d86  Wed Mar 08 11:14:01 -0800 2017   \nb43d4faa1052a370c93a67ae751572e0  Mon Jul 08 09:18:22 -0700 2013   \ne51e586878394383f13bd6cb539cb14a  Mon Jul 07 21:28:13 -0700 2008   \nb0b6d1737566ecc042a3a0d91840016c  Sun Jan 17 19:31:03 -0800 2016   \n\n                                                    date_updated  \\\nreview_id                                                          \na5a58fd0d70aa55fe78292d1016d9f45  Wed Jan 18 12:56:05 -0800 2017   \nd655d8584ff4016e86c6b5c47ffc8d86  Thu Mar 09 21:48:35 -0800 2017   \nb43d4faa1052a370c93a67ae751572e0  Sat Aug 02 19:43:04 -0700 2014   \ne51e586878394383f13bd6cb539cb14a  Thu Jul 10 14:55:23 -0700 2008   \nb0b6d1737566ecc042a3a0d91840016c  Sun Jan 17 19:33:30 -0800 2016   \n\n                                                         read_at  \\\nreview_id                                                          \na5a58fd0d70aa55fe78292d1016d9f45  Mon Dec 05 00:00:00 -0800 2016   \nd655d8584ff4016e86c6b5c47ffc8d86  Thu Mar 09 21:47:39 -0800 2017   \nb43d4faa1052a370c93a67ae751572e0  Sat Aug 02 00:00:00 -0700 2014   \ne51e586878394383f13bd6cb539cb14a                             NaN   \nb0b6d1737566ecc042a3a0d91840016c  Fri Jan 15 00:00:00 -0800 2016   \n\n                                                      started_at  n_votes  \\\nreview_id                                                                   \na5a58fd0d70aa55fe78292d1016d9f45  Sun Dec 04 00:00:00 -0800 2016        0   \nd655d8584ff4016e86c6b5c47ffc8d86  Wed Mar 08 11:14:01 -0800 2017        2   \nb43d4faa1052a370c93a67ae751572e0  Fri Jul 18 00:00:00 -0700 2014        0   \ne51e586878394383f13bd6cb539cb14a                             NaN        0   \nb0b6d1737566ecc042a3a0d91840016c                             NaN        0   \n\n                                  n_comments  \nreview_id                                     \na5a58fd0d70aa55fe78292d1016d9f45           0  \nd655d8584ff4016e86c6b5c47ffc8d86           0  \nb43d4faa1052a370c93a67ae751572e0           2  \ne51e586878394383f13bd6cb539cb14a           0  \nb0b6d1737566ecc042a3a0d91840016c           0  ",
      "text/html": "<div>\n<style scoped>\n    .dataframe tbody tr th:only-of-type {\n        vertical-align: middle;\n    }\n\n    .dataframe tbody tr th {\n        vertical-align: top;\n    }\n\n    .dataframe thead th {\n        text-align: right;\n    }\n</style>\n<table border=\"1\" class=\"dataframe\">\n  <thead>\n    <tr style=\"text-align: right;\">\n      <th></th>\n      <th>user_id</th>\n      <th>book_id</th>\n      <th>review_text</th>\n      <th>date_added</th>\n      <th>date_updated</th>\n      <th>read_at</th>\n      <th>started_at</th>\n      <th>n_votes</th>\n      <th>n_comments</th>\n    </tr>\n    <tr>\n      <th>review_id</th>\n      <th></th>\n      <th></th>\n      <th></th>\n      <th></th>\n      <th></th>\n      <th></th>\n      <th></th>\n      <th></th>\n      <th></th>\n    </tr>\n  </thead>\n  <tbody>\n    <tr>\n      <th>a5a58fd0d70aa55fe78292d1016d9f45</th>\n      <td>341e9338ee8427188e35ae9cdc5f0e91</td>\n      <td>26258306</td>\n      <td>Tis the season for adorable Christmas stories!...</td>\n      <td>Sat Sep 24 07:39:43 -0700 2016</td>\n      <td>Wed Jan 18 12:56:05 -0800 2017</td>\n      <td>Mon Dec 05 00:00:00 -0800 2016</td>\n      <td>Sun Dec 04 00:00:00 -0800 2016</td>\n      <td>0</td>\n      <td>0</td>\n    </tr>\n    <tr>\n      <th>d655d8584ff4016e86c6b5c47ffc8d86</th>\n      <td>a257bfb251a46d82ae1424d101984228</td>\n      <td>18126966</td>\n      <td>Not a boring moment to be found in the story.</td>\n      <td>Wed Mar 08 11:14:01 -0800 2017</td>\n      <td>Thu Mar 09 21:48:35 -0800 2017</td>\n      <td>Thu Mar 09 21:47:39 -0800 2017</td>\n      <td>Wed Mar 08 11:14:01 -0800 2017</td>\n      <td>2</td>\n      <td>0</td>\n    </tr>\n    <tr>\n      <th>b43d4faa1052a370c93a67ae751572e0</th>\n      <td>0e21b3f5aaf75a386e5f2c6a6c38d206</td>\n      <td>13644052</td>\n      <td>That ending, oh my!!! Can't wait for Oppositio...</td>\n      <td>Mon Jul 08 09:18:22 -0700 2013</td>\n      <td>Sat Aug 02 19:43:04 -0700 2014</td>\n      <td>Sat Aug 02 00:00:00 -0700 2014</td>\n      <td>Fri Jul 18 00:00:00 -0700 2014</td>\n      <td>0</td>\n      <td>2</td>\n    </tr>\n    <tr>\n      <th>e51e586878394383f13bd6cb539cb14a</th>\n      <td>1aa34c596c1835eece458de9638dd974</td>\n      <td>126609</td>\n      <td>Great book about a woman trying to make it on ...</td>\n      <td>Mon Jul 07 21:28:13 -0700 2008</td>\n      <td>Thu Jul 10 14:55:23 -0700 2008</td>\n      <td>NaN</td>\n      <td>NaN</td>\n      <td>0</td>\n      <td>0</td>\n    </tr>\n    <tr>\n      <th>b0b6d1737566ecc042a3a0d91840016c</th>\n      <td>1ceef4796fb36190e72714895806835b</td>\n      <td>25785993</td>\n      <td>I really liked this comic, but I also felt pre...</td>\n      <td>Sun Jan 17 19:31:03 -0800 2016</td>\n      <td>Sun Jan 17 19:33:30 -0800 2016</td>\n      <td>Fri Jan 15 00:00:00 -0800 2016</td>\n      <td>NaN</td>\n      <td>0</td>\n      <td>0</td>\n    </tr>\n  </tbody>\n</table>\n</div>"
     },
     "execution_count": 69,
     "metadata": {},
     "output_type": "execute_result"
    }
   ],
   "source": [
    "books.sample(5)"
   ],
   "metadata": {
    "collapsed": false
   }
  },
  {
   "cell_type": "code",
   "execution_count": 70,
   "outputs": [],
   "source": [
    "books.drop(columns=['date_updated', 'read_at', 'started_at'], axis=1, inplace=True)"
   ],
   "metadata": {
    "collapsed": false
   }
  },
  {
   "cell_type": "code",
   "execution_count": 71,
   "outputs": [],
   "source": [
    "# Remove negative notes\n",
    "books = books[(books['n_votes'] >= 0) & (books['n_comments'] >= 0)]"
   ],
   "metadata": {
    "collapsed": false
   }
  },
  {
   "cell_type": "code",
   "execution_count": 72,
   "outputs": [
    {
     "data": {
      "text/plain": "0"
     },
     "execution_count": 72,
     "metadata": {},
     "output_type": "execute_result"
    }
   ],
   "source": [
    "# Checking duplicates\n",
    "sum(books.duplicated())"
   ],
   "metadata": {
    "collapsed": false
   }
  },
  {
   "cell_type": "code",
   "execution_count": 73,
   "outputs": [
    {
     "data": {
      "text/plain": "16130"
     },
     "execution_count": 73,
     "metadata": {},
     "output_type": "execute_result"
    }
   ],
   "source": [
    "sum(books.duplicated(subset=['review_text']))"
   ],
   "metadata": {
    "collapsed": false
   }
  },
  {
   "cell_type": "code",
   "execution_count": 74,
   "outputs": [],
   "source": [
    "books.drop_duplicates(subset=['review_text'], inplace=True)"
   ],
   "metadata": {
    "collapsed": false
   }
  },
  {
   "cell_type": "code",
   "execution_count": 75,
   "outputs": [
    {
     "data": {
      "text/plain": "(1361800,)"
     },
     "execution_count": 75,
     "metadata": {},
     "output_type": "execute_result"
    }
   ],
   "source": [
    "unapp_texts = books['review_text'].apply(lambda txt: np.mean(list(map(len, txt.split())))) > 25\n",
    "unapp_texts.shape"
   ],
   "metadata": {
    "collapsed": false
   }
  },
  {
   "cell_type": "code",
   "execution_count": 76,
   "outputs": [
    {
     "data": {
      "text/plain": "                                                           user_id   book_id  \\\nreview_id                                                                      \nba7e149d70cb858d87d4113dfe0e4091  8092e33e9c50d3e269a8164177d2abdc   6339664   \n90529a603506931b91502b3c65b0564c  308c545182f8b5d332ff71c667fd9b61  12127810   \n7105506d7aa373be892e6d7d29750741  302eb3debfc02e0bdd0fd617d34a2713  10644930   \nba4e577524730630bef88cb4c76c6dd7  de107a99cb0ed2ec5d90d744cc48c310  23723788   \nd9d104943954cc9d975a07d1a724be90  de107a99cb0ed2ec5d90d744cc48c310  23496782   \n\n                                                                        review_text  \\\nreview_id                                                                             \nba7e149d70cb858d87d4113dfe0e4091  IhavetoadmitihavefalleninlovewithPatcicannotwa...   \n90529a603506931b91502b3c65b0564c  the feels for NICO DI ANGELO.....................   \n7105506d7aa373be892e6d7d29750741  \"The past is obdurate.\" \\n rtcrtcrtcrtcrtcrtcr...   \nba4e577524730630bef88cb4c76c6dd7  2.5 it's-a-good-book-as-in-even-after-months-I...   \nd9d104943954cc9d975a07d1a724be90  2.5 It-Was-a-Very-Okay-Book-With-the-Mystery-a...   \n\n                                                      date_added  n_votes  \\\nreview_id                                                                   \nba7e149d70cb858d87d4113dfe0e4091  Sun Sep 30 12:29:48 -0700 2012        1   \n90529a603506931b91502b3c65b0564c  Thu May 16 23:11:00 -0700 2013        0   \n7105506d7aa373be892e6d7d29750741  Fri Mar 18 07:59:13 -0700 2016        0   \nba4e577524730630bef88cb4c76c6dd7  Sun Aug 30 18:18:44 -0700 2015        0   \nd9d104943954cc9d975a07d1a724be90  Thu Apr 09 04:41:42 -0700 2015        3   \n\n                                  n_comments  \nreview_id                                     \nba7e149d70cb858d87d4113dfe0e4091           1  \n90529a603506931b91502b3c65b0564c           0  \n7105506d7aa373be892e6d7d29750741           0  \nba4e577524730630bef88cb4c76c6dd7           0  \nd9d104943954cc9d975a07d1a724be90           0  ",
      "text/html": "<div>\n<style scoped>\n    .dataframe tbody tr th:only-of-type {\n        vertical-align: middle;\n    }\n\n    .dataframe tbody tr th {\n        vertical-align: top;\n    }\n\n    .dataframe thead th {\n        text-align: right;\n    }\n</style>\n<table border=\"1\" class=\"dataframe\">\n  <thead>\n    <tr style=\"text-align: right;\">\n      <th></th>\n      <th>user_id</th>\n      <th>book_id</th>\n      <th>review_text</th>\n      <th>date_added</th>\n      <th>n_votes</th>\n      <th>n_comments</th>\n    </tr>\n    <tr>\n      <th>review_id</th>\n      <th></th>\n      <th></th>\n      <th></th>\n      <th></th>\n      <th></th>\n      <th></th>\n    </tr>\n  </thead>\n  <tbody>\n    <tr>\n      <th>ba7e149d70cb858d87d4113dfe0e4091</th>\n      <td>8092e33e9c50d3e269a8164177d2abdc</td>\n      <td>6339664</td>\n      <td>IhavetoadmitihavefalleninlovewithPatcicannotwa...</td>\n      <td>Sun Sep 30 12:29:48 -0700 2012</td>\n      <td>1</td>\n      <td>1</td>\n    </tr>\n    <tr>\n      <th>90529a603506931b91502b3c65b0564c</th>\n      <td>308c545182f8b5d332ff71c667fd9b61</td>\n      <td>12127810</td>\n      <td>the feels for NICO DI ANGELO.....................</td>\n      <td>Thu May 16 23:11:00 -0700 2013</td>\n      <td>0</td>\n      <td>0</td>\n    </tr>\n    <tr>\n      <th>7105506d7aa373be892e6d7d29750741</th>\n      <td>302eb3debfc02e0bdd0fd617d34a2713</td>\n      <td>10644930</td>\n      <td>\"The past is obdurate.\" \\n rtcrtcrtcrtcrtcrtcr...</td>\n      <td>Fri Mar 18 07:59:13 -0700 2016</td>\n      <td>0</td>\n      <td>0</td>\n    </tr>\n    <tr>\n      <th>ba4e577524730630bef88cb4c76c6dd7</th>\n      <td>de107a99cb0ed2ec5d90d744cc48c310</td>\n      <td>23723788</td>\n      <td>2.5 it's-a-good-book-as-in-even-after-months-I...</td>\n      <td>Sun Aug 30 18:18:44 -0700 2015</td>\n      <td>0</td>\n      <td>0</td>\n    </tr>\n    <tr>\n      <th>d9d104943954cc9d975a07d1a724be90</th>\n      <td>de107a99cb0ed2ec5d90d744cc48c310</td>\n      <td>23496782</td>\n      <td>2.5 It-Was-a-Very-Okay-Book-With-the-Mystery-a...</td>\n      <td>Thu Apr 09 04:41:42 -0700 2015</td>\n      <td>3</td>\n      <td>0</td>\n    </tr>\n  </tbody>\n</table>\n</div>"
     },
     "execution_count": 76,
     "metadata": {},
     "output_type": "execute_result"
    }
   ],
   "source": [
    "books[unapp_texts].head()"
   ],
   "metadata": {
    "collapsed": false
   }
  },
  {
   "cell_type": "code",
   "execution_count": 77,
   "outputs": [],
   "source": [
    "books.drop(books[unapp_texts].index, axis=0, inplace=True)"
   ],
   "metadata": {
    "collapsed": false
   }
  },
  {
   "cell_type": "code",
   "execution_count": 78,
   "outputs": [],
   "source": [
    "spoil_statement = 'spoiler alert'\n",
    "books['spoil'] = [True if spoil_statement in txt else False for txt in books['review_text']]"
   ],
   "metadata": {
    "collapsed": false
   }
  },
  {
   "cell_type": "code",
   "execution_count": 79,
   "outputs": [
    {
     "data": {
      "text/plain": "                                                           user_id   book_id  \\\nreview_id                                                                      \ne23965adda7ce7e7e415a1339e169065  8842281e1d1347389f2ab93d60773d4d     62291   \n0258b3c9a85cecb95f240e43a7642f60  8842281e1d1347389f2ab93d60773d4d   7112495   \nd44b6d28f456dbcc5b1537b4c5572400  8842281e1d1347389f2ab93d60773d4d   6411961   \nd49eb786ef1d8557b9e6e86bcafd4570  8842281e1d1347389f2ab93d60773d4d     77432   \nb8e08587ce1592d69548d0f644cb9893  8842281e1d1347389f2ab93d60773d4d     14497   \n...                                                            ...       ...   \na989c818917a7463089454b356fb6671  5ff0927d425ab1a70d2b2d41fe6b96b5  13239950   \n3736d5ee5904b4b5651912dd28b7ce01  a16fd6b48c6e877042acbe2bda8a0007    115076   \na7777a1c18ab582586a61ad453d91949  692ce8eb4d5490980f6e74f6cb8671e2  12974372   \nb1e1134e7e1e90725ac4237b66657de9  692ce8eb4d5490980f6e74f6cb8671e2     29044   \n31793e9810955194feaed3cc169e52ce  e32792a55ef11527453a96a9df5a4fc2     18512   \n\n                                                                        review_text  \\\nreview_id                                                                             \ne23965adda7ce7e7e415a1339e169065  ** spoiler alert ** \\n Loved it. The epic saga...   \n0258b3c9a85cecb95f240e43a7642f60  ** spoiler alert ** \\n An interesting book in ...   \nd44b6d28f456dbcc5b1537b4c5572400  ** spoiler alert ** \\n Critics aside, Dan Brow...   \nd49eb786ef1d8557b9e6e86bcafd4570  ** spoiler alert ** \\n I equally loved book 2,...   \nb8e08587ce1592d69548d0f644cb9893  ** spoiler alert ** \\n Just finished this and ...   \n...                                                                             ...   \na989c818917a7463089454b356fb6671  ** spoiler alert ** \\n Hills like White Elepha...   \n3736d5ee5904b4b5651912dd28b7ce01  ** spoiler alert ** \\n I was completely engros...   \na7777a1c18ab582586a61ad453d91949  ** spoiler alert ** \\n Hmm...what to say about...   \nb1e1134e7e1e90725ac4237b66657de9  ** spoiler alert ** \\n The first two-thirds of...   \n31793e9810955194feaed3cc169e52ce  The middle was a bit slow for me (that could o...   \n\n                                                      date_added  n_votes  \\\nreview_id                                                                   \ne23965adda7ce7e7e415a1339e169065  Tue Jul 12 12:57:07 -0700 2011        5   \n0258b3c9a85cecb95f240e43a7642f60  Thu Jun 10 14:41:13 -0700 2010        7   \nd44b6d28f456dbcc5b1537b4c5572400  Wed Sep 16 11:09:03 -0700 2009        3   \nd49eb786ef1d8557b9e6e86bcafd4570  Tue May 05 18:08:22 -0700 2009        1   \nb8e08587ce1592d69548d0f644cb9893  Thu Mar 27 17:53:06 -0700 2008        6   \n...                                                          ...      ...   \na989c818917a7463089454b356fb6671  Wed Oct 31 18:22:50 -0700 2012       25   \n3736d5ee5904b4b5651912dd28b7ce01  Mon Jun 04 07:18:34 -0700 2012        0   \na7777a1c18ab582586a61ad453d91949  Wed Nov 04 12:33:22 -0800 2015        1   \nb1e1134e7e1e90725ac4237b66657de9  Mon Nov 24 16:03:39 -0800 2014        1   \n31793e9810955194feaed3cc169e52ce  Wed Jun 11 07:45:03 -0700 2008        0   \n\n                                  n_comments  spoil  \nreview_id                                            \ne23965adda7ce7e7e415a1339e169065           1   True  \n0258b3c9a85cecb95f240e43a7642f60           3   True  \nd44b6d28f456dbcc5b1537b4c5572400           3   True  \nd49eb786ef1d8557b9e6e86bcafd4570           0   True  \nb8e08587ce1592d69548d0f644cb9893           1   True  \n...                                      ...    ...  \na989c818917a7463089454b356fb6671           7   True  \n3736d5ee5904b4b5651912dd28b7ce01           0   True  \na7777a1c18ab582586a61ad453d91949           0   True  \nb1e1134e7e1e90725ac4237b66657de9           3   True  \n31793e9810955194feaed3cc169e52ce           0   True  \n\n[25902 rows x 7 columns]",
      "text/html": "<div>\n<style scoped>\n    .dataframe tbody tr th:only-of-type {\n        vertical-align: middle;\n    }\n\n    .dataframe tbody tr th {\n        vertical-align: top;\n    }\n\n    .dataframe thead th {\n        text-align: right;\n    }\n</style>\n<table border=\"1\" class=\"dataframe\">\n  <thead>\n    <tr style=\"text-align: right;\">\n      <th></th>\n      <th>user_id</th>\n      <th>book_id</th>\n      <th>review_text</th>\n      <th>date_added</th>\n      <th>n_votes</th>\n      <th>n_comments</th>\n      <th>spoil</th>\n    </tr>\n    <tr>\n      <th>review_id</th>\n      <th></th>\n      <th></th>\n      <th></th>\n      <th></th>\n      <th></th>\n      <th></th>\n      <th></th>\n    </tr>\n  </thead>\n  <tbody>\n    <tr>\n      <th>e23965adda7ce7e7e415a1339e169065</th>\n      <td>8842281e1d1347389f2ab93d60773d4d</td>\n      <td>62291</td>\n      <td>** spoiler alert ** \\n Loved it. The epic saga...</td>\n      <td>Tue Jul 12 12:57:07 -0700 2011</td>\n      <td>5</td>\n      <td>1</td>\n      <td>True</td>\n    </tr>\n    <tr>\n      <th>0258b3c9a85cecb95f240e43a7642f60</th>\n      <td>8842281e1d1347389f2ab93d60773d4d</td>\n      <td>7112495</td>\n      <td>** spoiler alert ** \\n An interesting book in ...</td>\n      <td>Thu Jun 10 14:41:13 -0700 2010</td>\n      <td>7</td>\n      <td>3</td>\n      <td>True</td>\n    </tr>\n    <tr>\n      <th>d44b6d28f456dbcc5b1537b4c5572400</th>\n      <td>8842281e1d1347389f2ab93d60773d4d</td>\n      <td>6411961</td>\n      <td>** spoiler alert ** \\n Critics aside, Dan Brow...</td>\n      <td>Wed Sep 16 11:09:03 -0700 2009</td>\n      <td>3</td>\n      <td>3</td>\n      <td>True</td>\n    </tr>\n    <tr>\n      <th>d49eb786ef1d8557b9e6e86bcafd4570</th>\n      <td>8842281e1d1347389f2ab93d60773d4d</td>\n      <td>77432</td>\n      <td>** spoiler alert ** \\n I equally loved book 2,...</td>\n      <td>Tue May 05 18:08:22 -0700 2009</td>\n      <td>1</td>\n      <td>0</td>\n      <td>True</td>\n    </tr>\n    <tr>\n      <th>b8e08587ce1592d69548d0f644cb9893</th>\n      <td>8842281e1d1347389f2ab93d60773d4d</td>\n      <td>14497</td>\n      <td>** spoiler alert ** \\n Just finished this and ...</td>\n      <td>Thu Mar 27 17:53:06 -0700 2008</td>\n      <td>6</td>\n      <td>1</td>\n      <td>True</td>\n    </tr>\n    <tr>\n      <th>...</th>\n      <td>...</td>\n      <td>...</td>\n      <td>...</td>\n      <td>...</td>\n      <td>...</td>\n      <td>...</td>\n      <td>...</td>\n    </tr>\n    <tr>\n      <th>a989c818917a7463089454b356fb6671</th>\n      <td>5ff0927d425ab1a70d2b2d41fe6b96b5</td>\n      <td>13239950</td>\n      <td>** spoiler alert ** \\n Hills like White Elepha...</td>\n      <td>Wed Oct 31 18:22:50 -0700 2012</td>\n      <td>25</td>\n      <td>7</td>\n      <td>True</td>\n    </tr>\n    <tr>\n      <th>3736d5ee5904b4b5651912dd28b7ce01</th>\n      <td>a16fd6b48c6e877042acbe2bda8a0007</td>\n      <td>115076</td>\n      <td>** spoiler alert ** \\n I was completely engros...</td>\n      <td>Mon Jun 04 07:18:34 -0700 2012</td>\n      <td>0</td>\n      <td>0</td>\n      <td>True</td>\n    </tr>\n    <tr>\n      <th>a7777a1c18ab582586a61ad453d91949</th>\n      <td>692ce8eb4d5490980f6e74f6cb8671e2</td>\n      <td>12974372</td>\n      <td>** spoiler alert ** \\n Hmm...what to say about...</td>\n      <td>Wed Nov 04 12:33:22 -0800 2015</td>\n      <td>1</td>\n      <td>0</td>\n      <td>True</td>\n    </tr>\n    <tr>\n      <th>b1e1134e7e1e90725ac4237b66657de9</th>\n      <td>692ce8eb4d5490980f6e74f6cb8671e2</td>\n      <td>29044</td>\n      <td>** spoiler alert ** \\n The first two-thirds of...</td>\n      <td>Mon Nov 24 16:03:39 -0800 2014</td>\n      <td>1</td>\n      <td>3</td>\n      <td>True</td>\n    </tr>\n    <tr>\n      <th>31793e9810955194feaed3cc169e52ce</th>\n      <td>e32792a55ef11527453a96a9df5a4fc2</td>\n      <td>18512</td>\n      <td>The middle was a bit slow for me (that could o...</td>\n      <td>Wed Jun 11 07:45:03 -0700 2008</td>\n      <td>0</td>\n      <td>0</td>\n      <td>True</td>\n    </tr>\n  </tbody>\n</table>\n<p>25902 rows × 7 columns</p>\n</div>"
     },
     "execution_count": 79,
     "metadata": {},
     "output_type": "execute_result"
    }
   ],
   "source": [
    "books[books['spoil'] == True]"
   ],
   "metadata": {
    "collapsed": false
   }
  }
 ],
 "metadata": {
  "kernelspec": {
   "display_name": "Python 3",
   "language": "python",
   "name": "python3"
  },
  "language_info": {
   "codemirror_mode": {
    "name": "ipython",
    "version": 2
   },
   "file_extension": ".py",
   "mimetype": "text/x-python",
   "name": "python",
   "nbconvert_exporter": "python",
   "pygments_lexer": "ipython2",
   "version": "2.7.6"
  }
 },
 "nbformat": 4,
 "nbformat_minor": 0
}
