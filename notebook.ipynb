{
 "metadata": {
  "kernelspec": {
   "language": "python",
   "display_name": "Python 3",
   "name": "python3"
  },
  "language_info": {
   "name": "python",
   "version": "3.7.12",
   "mimetype": "text/x-python",
   "codemirror_mode": {
    "name": "ipython",
    "version": 3
   },
   "pygments_lexer": "ipython3",
   "nbconvert_exporter": "python",
   "file_extension": ".py"
  }
 },
 "nbformat_minor": 4,
 "nbformat": 4,
 "cells": [
  {
   "cell_type": "markdown",
   "source": [
    "**Import libraries**"
   ],
   "metadata": {
    "collapsed": false
   }
  },
  {
   "cell_type": "code",
   "execution_count": 1,
   "outputs": [],
   "source": [
    "import math\n",
    "import os\n",
    "\n",
    "import numpy as np\n",
    "import pandas as pd\n",
    "import tensorflow as tf\n",
    "from keras.preprocessing.text import Tokenizer\n",
    "from keras_preprocessing.sequence import pad_sequences"
   ],
   "metadata": {
    "collapsed": false
   }
  },
  {
   "cell_type": "markdown",
   "source": [
    "**Default parameters**"
   ],
   "metadata": {
    "collapsed": false
   }
  },
  {
   "cell_type": "code",
   "execution_count": 2,
   "outputs": [],
   "source": [
    "MAX_SIZE = 783\n",
    "NUM_WORDS = 1000\n",
    "EMBEDDING_DIM = 16\n",
    "EPOCHS = 10\n",
    "BATCH_SIZE = 512\n",
    "OOV = 0\n",
    "SARCASM_TRAINING_SIZE = 20000"
   ],
   "metadata": {
    "collapsed": false
   }
  },
  {
   "cell_type": "markdown",
   "source": [
    "**Creating DataFrames**"
   ],
   "metadata": {
    "collapsed": false
   }
  },
  {
   "cell_type": "code",
   "execution_count": 3,
   "outputs": [],
   "source": [
    "goodreads_train = pd.read_csv(\"kaggle/input/goodreads-books-reviews-290312/goodreads_train.csv\")\n",
    "goodreads_test = pd.read_csv(\"kaggle/input/goodreads-books-reviews-290312/goodreads_test.csv\")"
   ],
   "metadata": {
    "collapsed": false
   }
  },
  {
   "cell_type": "code",
   "execution_count": 4,
   "outputs": [
    {
     "data": {
      "text/plain": "                                 user_id   book_id  \\\n256416  41c230906b7890253332054b5aaf88a4  24106033   \n663792  75f9d7bf667d882fe1e6ebb322643cd3   6402666   \n855602  422e76592e2717d5d59465d22d74d47c  18073891   \n766064  0be561029a4c4cbf72b42f4180bb359d  16151178   \n535387  d4c49a147321e322b1b05fdadd76fe08  20557510   \n\n                               review_id  rating  \\\n256416  7cbba2da70c392a46a24cbca6560b045       2   \n663792  8ed40cb6135a15e340ba5d1cb3f006d4       4   \n855602  b12463c01ba473e8e8a9417e5fd229ef       5   \n766064  7d201d9036461fceef650a715e55a318       5   \n535387  05faf1e9104326acd923331238bdcce9       5   \n\n                                              review_text  \\\n256416  Very slow paced, full with irrelevant informat...   \n663792  The ending...what the hell was that??!! \\n I r...   \n855602  Slick's review posted at Guilty Pleasures Book...   \n766064                      Gorgeous. Absolutely Gorgeous   \n535387  \"You don't need anyone to show you how to be g...   \n\n                            date_added                    date_updated  \\\n256416  Tue Nov 17 19:42:30 -0800 2015  Wed Sep 07 14:57:15 -0700 2016   \n663792  Fri Feb 19 19:20:34 -0800 2010  Wed Aug 31 08:29:25 -0700 2011   \n855602  Tue Nov 29 09:13:39 -0800 2016  Tue Nov 29 09:17:15 -0800 2016   \n766064  Wed Jan 07 14:21:35 -0800 2015  Mon May 16 15:51:29 -0700 2016   \n535387  Mon May 19 08:14:16 -0700 2014  Wed Jul 09 19:43:04 -0700 2014   \n\n                               read_at                      started_at  \\\n256416  Wed Sep 07 14:57:15 -0700 2016  Tue Nov 17 00:00:00 -0800 2015   \n663792  Wed Aug 31 00:00:00 -0700 2011  Sat Aug 27 00:00:00 -0700 2011   \n855602  Tue Nov 29 10:07:39 -0800 2016                             NaN   \n766064  Mon May 16 15:51:29 -0700 2016  Mon May 16 00:00:00 -0700 2016   \n535387  Wed Jul 09 00:00:00 -0700 2014  Mon Jul 07 00:00:00 -0700 2014   \n\n        n_votes  n_comments  \n256416        0           0  \n663792        0           6  \n855602        3           0  \n766064        0           0  \n535387       14          11  ",
      "text/html": "<div>\n<style scoped>\n    .dataframe tbody tr th:only-of-type {\n        vertical-align: middle;\n    }\n\n    .dataframe tbody tr th {\n        vertical-align: top;\n    }\n\n    .dataframe thead th {\n        text-align: right;\n    }\n</style>\n<table border=\"1\" class=\"dataframe\">\n  <thead>\n    <tr style=\"text-align: right;\">\n      <th></th>\n      <th>user_id</th>\n      <th>book_id</th>\n      <th>review_id</th>\n      <th>rating</th>\n      <th>review_text</th>\n      <th>date_added</th>\n      <th>date_updated</th>\n      <th>read_at</th>\n      <th>started_at</th>\n      <th>n_votes</th>\n      <th>n_comments</th>\n    </tr>\n  </thead>\n  <tbody>\n    <tr>\n      <th>256416</th>\n      <td>41c230906b7890253332054b5aaf88a4</td>\n      <td>24106033</td>\n      <td>7cbba2da70c392a46a24cbca6560b045</td>\n      <td>2</td>\n      <td>Very slow paced, full with irrelevant informat...</td>\n      <td>Tue Nov 17 19:42:30 -0800 2015</td>\n      <td>Wed Sep 07 14:57:15 -0700 2016</td>\n      <td>Wed Sep 07 14:57:15 -0700 2016</td>\n      <td>Tue Nov 17 00:00:00 -0800 2015</td>\n      <td>0</td>\n      <td>0</td>\n    </tr>\n    <tr>\n      <th>663792</th>\n      <td>75f9d7bf667d882fe1e6ebb322643cd3</td>\n      <td>6402666</td>\n      <td>8ed40cb6135a15e340ba5d1cb3f006d4</td>\n      <td>4</td>\n      <td>The ending...what the hell was that??!! \\n I r...</td>\n      <td>Fri Feb 19 19:20:34 -0800 2010</td>\n      <td>Wed Aug 31 08:29:25 -0700 2011</td>\n      <td>Wed Aug 31 00:00:00 -0700 2011</td>\n      <td>Sat Aug 27 00:00:00 -0700 2011</td>\n      <td>0</td>\n      <td>6</td>\n    </tr>\n    <tr>\n      <th>855602</th>\n      <td>422e76592e2717d5d59465d22d74d47c</td>\n      <td>18073891</td>\n      <td>b12463c01ba473e8e8a9417e5fd229ef</td>\n      <td>5</td>\n      <td>Slick's review posted at Guilty Pleasures Book...</td>\n      <td>Tue Nov 29 09:13:39 -0800 2016</td>\n      <td>Tue Nov 29 09:17:15 -0800 2016</td>\n      <td>Tue Nov 29 10:07:39 -0800 2016</td>\n      <td>NaN</td>\n      <td>3</td>\n      <td>0</td>\n    </tr>\n    <tr>\n      <th>766064</th>\n      <td>0be561029a4c4cbf72b42f4180bb359d</td>\n      <td>16151178</td>\n      <td>7d201d9036461fceef650a715e55a318</td>\n      <td>5</td>\n      <td>Gorgeous. Absolutely Gorgeous</td>\n      <td>Wed Jan 07 14:21:35 -0800 2015</td>\n      <td>Mon May 16 15:51:29 -0700 2016</td>\n      <td>Mon May 16 15:51:29 -0700 2016</td>\n      <td>Mon May 16 00:00:00 -0700 2016</td>\n      <td>0</td>\n      <td>0</td>\n    </tr>\n    <tr>\n      <th>535387</th>\n      <td>d4c49a147321e322b1b05fdadd76fe08</td>\n      <td>20557510</td>\n      <td>05faf1e9104326acd923331238bdcce9</td>\n      <td>5</td>\n      <td>\"You don't need anyone to show you how to be g...</td>\n      <td>Mon May 19 08:14:16 -0700 2014</td>\n      <td>Wed Jul 09 19:43:04 -0700 2014</td>\n      <td>Wed Jul 09 00:00:00 -0700 2014</td>\n      <td>Mon Jul 07 00:00:00 -0700 2014</td>\n      <td>14</td>\n      <td>11</td>\n    </tr>\n  </tbody>\n</table>\n</div>"
     },
     "execution_count": 4,
     "metadata": {},
     "output_type": "execute_result"
    }
   ],
   "source": [
    "goodreads_train.sample(5)"
   ],
   "metadata": {
    "collapsed": false
   }
  },
  {
   "cell_type": "code",
   "execution_count": 5,
   "outputs": [
    {
     "data": {
      "text/plain": "                                 user_id   book_id  \\\n305260  61d47f7eb4c29a1aea39ebe3451c80ec  33152795   \n78259   d174e7b353f97cc14ff7347b34b23164  28954137   \n357783  631e78d6f21d8a29addb05a1419f181d      5308   \n140363  e477d673db66fd4524ca65a88e6bcac2  23569787   \n463650  c60cc2ac07e6adc15bfafe1129db0d64  16096824   \n\n                               review_id  \\\n305260  a2a5b61b9d74dd618f683a75b4c37932   \n78259   db024eac169025fed3c6a34f2244587c   \n357783  9c87279e747c9dc934e880ec1b8163bf   \n140363  ca7dde88e3de4a09cb7fe0b3075dacc4   \n463650  c446e88ce683ae6449e5b8580ea2714b   \n\n                                              review_text  \\\n305260  4.5 stars \\n UM WOW \\n (changed to 5 stars oka...   \n78259   Welcome to the Shadowhunter Academy: 4/5 \\n Th...   \n357783  A retelling of an older Mexican folk tale and ...   \n140363  This is long and complicated and detailed and ...   \n463650  Update May 2017: After a re-read I don't think...   \n\n                            date_added                    date_updated  \\\n305260  Sun Sep 10 18:52:16 -0700 2017  Wed Sep 27 12:13:05 -0700 2017   \n78259   Sat Mar 05 07:31:30 -0800 2016  Wed Sep 27 00:14:03 -0700 2017   \n357783  Wed Feb 29 18:22:20 -0800 2012  Sat Jan 24 05:29:18 -0800 2015   \n140363  Wed Mar 30 22:43:57 -0700 2016  Fri Aug 18 18:50:35 -0700 2017   \n463650  Sat Mar 14 00:04:09 -0700 2015  Mon Jun 05 05:43:40 -0700 2017   \n\n                               read_at                      started_at  \\\n305260  Fri Sep 22 00:00:00 -0700 2017  Sat Sep 16 00:00:00 -0700 2017   \n78259   Sun Mar 27 05:55:52 -0700 2016  Sat Mar 05 00:00:00 -0800 2016   \n357783  Thu Mar 08 20:04:57 -0800 2012  Wed Feb 29 00:00:00 -0800 2012   \n140363  Sun Apr 03 00:07:18 -0700 2016  Wed Mar 30 00:00:00 -0700 2016   \n463650  Wed May 24 19:29:51 -0700 2017  Mon May 15 00:00:00 -0700 2017   \n\n        n_votes  n_comments  \n305260        1           0  \n78259         4           0  \n357783        0           0  \n140363        0           0  \n463650        4           0  ",
      "text/html": "<div>\n<style scoped>\n    .dataframe tbody tr th:only-of-type {\n        vertical-align: middle;\n    }\n\n    .dataframe tbody tr th {\n        vertical-align: top;\n    }\n\n    .dataframe thead th {\n        text-align: right;\n    }\n</style>\n<table border=\"1\" class=\"dataframe\">\n  <thead>\n    <tr style=\"text-align: right;\">\n      <th></th>\n      <th>user_id</th>\n      <th>book_id</th>\n      <th>review_id</th>\n      <th>review_text</th>\n      <th>date_added</th>\n      <th>date_updated</th>\n      <th>read_at</th>\n      <th>started_at</th>\n      <th>n_votes</th>\n      <th>n_comments</th>\n    </tr>\n  </thead>\n  <tbody>\n    <tr>\n      <th>305260</th>\n      <td>61d47f7eb4c29a1aea39ebe3451c80ec</td>\n      <td>33152795</td>\n      <td>a2a5b61b9d74dd618f683a75b4c37932</td>\n      <td>4.5 stars \\n UM WOW \\n (changed to 5 stars oka...</td>\n      <td>Sun Sep 10 18:52:16 -0700 2017</td>\n      <td>Wed Sep 27 12:13:05 -0700 2017</td>\n      <td>Fri Sep 22 00:00:00 -0700 2017</td>\n      <td>Sat Sep 16 00:00:00 -0700 2017</td>\n      <td>1</td>\n      <td>0</td>\n    </tr>\n    <tr>\n      <th>78259</th>\n      <td>d174e7b353f97cc14ff7347b34b23164</td>\n      <td>28954137</td>\n      <td>db024eac169025fed3c6a34f2244587c</td>\n      <td>Welcome to the Shadowhunter Academy: 4/5 \\n Th...</td>\n      <td>Sat Mar 05 07:31:30 -0800 2016</td>\n      <td>Wed Sep 27 00:14:03 -0700 2017</td>\n      <td>Sun Mar 27 05:55:52 -0700 2016</td>\n      <td>Sat Mar 05 00:00:00 -0800 2016</td>\n      <td>4</td>\n      <td>0</td>\n    </tr>\n    <tr>\n      <th>357783</th>\n      <td>631e78d6f21d8a29addb05a1419f181d</td>\n      <td>5308</td>\n      <td>9c87279e747c9dc934e880ec1b8163bf</td>\n      <td>A retelling of an older Mexican folk tale and ...</td>\n      <td>Wed Feb 29 18:22:20 -0800 2012</td>\n      <td>Sat Jan 24 05:29:18 -0800 2015</td>\n      <td>Thu Mar 08 20:04:57 -0800 2012</td>\n      <td>Wed Feb 29 00:00:00 -0800 2012</td>\n      <td>0</td>\n      <td>0</td>\n    </tr>\n    <tr>\n      <th>140363</th>\n      <td>e477d673db66fd4524ca65a88e6bcac2</td>\n      <td>23569787</td>\n      <td>ca7dde88e3de4a09cb7fe0b3075dacc4</td>\n      <td>This is long and complicated and detailed and ...</td>\n      <td>Wed Mar 30 22:43:57 -0700 2016</td>\n      <td>Fri Aug 18 18:50:35 -0700 2017</td>\n      <td>Sun Apr 03 00:07:18 -0700 2016</td>\n      <td>Wed Mar 30 00:00:00 -0700 2016</td>\n      <td>0</td>\n      <td>0</td>\n    </tr>\n    <tr>\n      <th>463650</th>\n      <td>c60cc2ac07e6adc15bfafe1129db0d64</td>\n      <td>16096824</td>\n      <td>c446e88ce683ae6449e5b8580ea2714b</td>\n      <td>Update May 2017: After a re-read I don't think...</td>\n      <td>Sat Mar 14 00:04:09 -0700 2015</td>\n      <td>Mon Jun 05 05:43:40 -0700 2017</td>\n      <td>Wed May 24 19:29:51 -0700 2017</td>\n      <td>Mon May 15 00:00:00 -0700 2017</td>\n      <td>4</td>\n      <td>0</td>\n    </tr>\n  </tbody>\n</table>\n</div>"
     },
     "execution_count": 5,
     "metadata": {},
     "output_type": "execute_result"
    }
   ],
   "source": [
    "goodreads_test.sample(5)"
   ],
   "metadata": {
    "collapsed": false
   }
  },
  {
   "cell_type": "markdown",
   "source": [
    "**Cleaning Data**"
   ],
   "metadata": {
    "collapsed": false
   }
  },
  {
   "cell_type": "code",
   "execution_count": 6,
   "outputs": [
    {
     "data": {
      "text/plain": "                          review_id  rating  \\\n0  dfdbb7b0eb5a7e4c26d59a937e2e5feb       5   \n1  a5d2c3628987712d0e05c4f90798eb67       3   \n2  2ede853b14dc4583f96cf5d120af636f       3   \n3  ced5675e55cd9d38a524743f5c40996e       0   \n4  332732725863131279a8e345b63ac33e       4   \n\n                                         review_text  n_votes  n_comments  \n0  This is a special book. It started slow for ab...       28           1  \n1  Recommended by Don Katz. Avail for free in Dec...        1           0  \n2  A fun, fast paced science fiction thriller. I ...       22           0  \n3  Recommended reading to understand what is goin...        5           1  \n4  I really enjoyed this book, and there is a lot...        9           1  ",
      "text/html": "<div>\n<style scoped>\n    .dataframe tbody tr th:only-of-type {\n        vertical-align: middle;\n    }\n\n    .dataframe tbody tr th {\n        vertical-align: top;\n    }\n\n    .dataframe thead th {\n        text-align: right;\n    }\n</style>\n<table border=\"1\" class=\"dataframe\">\n  <thead>\n    <tr style=\"text-align: right;\">\n      <th></th>\n      <th>review_id</th>\n      <th>rating</th>\n      <th>review_text</th>\n      <th>n_votes</th>\n      <th>n_comments</th>\n    </tr>\n  </thead>\n  <tbody>\n    <tr>\n      <th>0</th>\n      <td>dfdbb7b0eb5a7e4c26d59a937e2e5feb</td>\n      <td>5</td>\n      <td>This is a special book. It started slow for ab...</td>\n      <td>28</td>\n      <td>1</td>\n    </tr>\n    <tr>\n      <th>1</th>\n      <td>a5d2c3628987712d0e05c4f90798eb67</td>\n      <td>3</td>\n      <td>Recommended by Don Katz. Avail for free in Dec...</td>\n      <td>1</td>\n      <td>0</td>\n    </tr>\n    <tr>\n      <th>2</th>\n      <td>2ede853b14dc4583f96cf5d120af636f</td>\n      <td>3</td>\n      <td>A fun, fast paced science fiction thriller. I ...</td>\n      <td>22</td>\n      <td>0</td>\n    </tr>\n    <tr>\n      <th>3</th>\n      <td>ced5675e55cd9d38a524743f5c40996e</td>\n      <td>0</td>\n      <td>Recommended reading to understand what is goin...</td>\n      <td>5</td>\n      <td>1</td>\n    </tr>\n    <tr>\n      <th>4</th>\n      <td>332732725863131279a8e345b63ac33e</td>\n      <td>4</td>\n      <td>I really enjoyed this book, and there is a lot...</td>\n      <td>9</td>\n      <td>1</td>\n    </tr>\n  </tbody>\n</table>\n</div>"
     },
     "execution_count": 6,
     "metadata": {},
     "output_type": "execute_result"
    }
   ],
   "source": [
    "train_df = goodreads_train.drop(columns=['user_id', 'book_id', 'date_added', 'date_updated', 'read_at', 'started_at'],\n",
    "                                axis=0)\n",
    "train_df.head()"
   ],
   "metadata": {
    "collapsed": false
   }
  },
  {
   "cell_type": "code",
   "execution_count": 7,
   "outputs": [
    {
     "data": {
      "text/plain": "review_id      object\nrating          int64\nreview_text    object\nn_votes         int64\nn_comments      int64\ndtype: object"
     },
     "execution_count": 7,
     "metadata": {},
     "output_type": "execute_result"
    }
   ],
   "source": [
    "train_df.dtypes"
   ],
   "metadata": {
    "collapsed": false
   }
  },
  {
   "cell_type": "code",
   "execution_count": 8,
   "outputs": [],
   "source": [
    "y_train = train_df['rating']\n",
    "x_train = train_df.drop('rating', axis=1)"
   ],
   "metadata": {
    "collapsed": false
   }
  },
  {
   "cell_type": "code",
   "execution_count": 9,
   "outputs": [
    {
     "data": {
      "text/plain": "                          review_id  \\\n0  dfdbb7b0eb5a7e4c26d59a937e2e5feb   \n1  a5d2c3628987712d0e05c4f90798eb67   \n2  2ede853b14dc4583f96cf5d120af636f   \n3  ced5675e55cd9d38a524743f5c40996e   \n4  332732725863131279a8e345b63ac33e   \n\n                                         review_text  n_votes  n_comments  \n0  This is a special book. It started slow for ab...       28           1  \n1  Recommended by Don Katz. Avail for free in Dec...        1           0  \n2  A fun, fast paced science fiction thriller. I ...       22           0  \n3  Recommended reading to understand what is goin...        5           1  \n4  I really enjoyed this book, and there is a lot...        9           1  ",
      "text/html": "<div>\n<style scoped>\n    .dataframe tbody tr th:only-of-type {\n        vertical-align: middle;\n    }\n\n    .dataframe tbody tr th {\n        vertical-align: top;\n    }\n\n    .dataframe thead th {\n        text-align: right;\n    }\n</style>\n<table border=\"1\" class=\"dataframe\">\n  <thead>\n    <tr style=\"text-align: right;\">\n      <th></th>\n      <th>review_id</th>\n      <th>review_text</th>\n      <th>n_votes</th>\n      <th>n_comments</th>\n    </tr>\n  </thead>\n  <tbody>\n    <tr>\n      <th>0</th>\n      <td>dfdbb7b0eb5a7e4c26d59a937e2e5feb</td>\n      <td>This is a special book. It started slow for ab...</td>\n      <td>28</td>\n      <td>1</td>\n    </tr>\n    <tr>\n      <th>1</th>\n      <td>a5d2c3628987712d0e05c4f90798eb67</td>\n      <td>Recommended by Don Katz. Avail for free in Dec...</td>\n      <td>1</td>\n      <td>0</td>\n    </tr>\n    <tr>\n      <th>2</th>\n      <td>2ede853b14dc4583f96cf5d120af636f</td>\n      <td>A fun, fast paced science fiction thriller. I ...</td>\n      <td>22</td>\n      <td>0</td>\n    </tr>\n    <tr>\n      <th>3</th>\n      <td>ced5675e55cd9d38a524743f5c40996e</td>\n      <td>Recommended reading to understand what is goin...</td>\n      <td>5</td>\n      <td>1</td>\n    </tr>\n    <tr>\n      <th>4</th>\n      <td>332732725863131279a8e345b63ac33e</td>\n      <td>I really enjoyed this book, and there is a lot...</td>\n      <td>9</td>\n      <td>1</td>\n    </tr>\n  </tbody>\n</table>\n</div>"
     },
     "execution_count": 9,
     "metadata": {},
     "output_type": "execute_result"
    }
   ],
   "source": [
    "x_train.head()"
   ],
   "metadata": {
    "collapsed": false
   }
  },
  {
   "cell_type": "code",
   "execution_count": 10,
   "outputs": [
    {
     "data": {
      "text/plain": "0    5\n1    3\n2    3\n3    0\n4    4\nName: rating, dtype: int64"
     },
     "execution_count": 10,
     "metadata": {},
     "output_type": "execute_result"
    }
   ],
   "source": [
    "y_train.head()"
   ],
   "metadata": {
    "collapsed": false
   }
  },
  {
   "cell_type": "code",
   "execution_count": 11,
   "outputs": [],
   "source": [
    "from sklearn.preprocessing import LabelEncoder\n",
    "\n",
    "le = LabelEncoder()"
   ],
   "metadata": {
    "collapsed": false
   }
  },
  {
   "cell_type": "code",
   "execution_count": 12,
   "outputs": [],
   "source": [
    "x_train['review_id'] = le.fit_transform(x_train['review_id'])"
   ],
   "metadata": {
    "collapsed": false
   }
  },
  {
   "cell_type": "code",
   "execution_count": 13,
   "outputs": [
    {
     "data": {
      "text/plain": "   review_id                                        review_text  n_votes  \\\n0     786842  This is a special book. It started slow for ab...       28   \n1     583423  Recommended by Don Katz. Avail for free in Dec...        1   \n2     165147  A fun, fast paced science fiction thriller. I ...       22   \n3     727692  Recommended reading to understand what is goin...        5   \n4     179941  I really enjoyed this book, and there is a lot...        9   \n\n   n_comments  \n0           1  \n1           0  \n2           0  \n3           1  \n4           1  ",
      "text/html": "<div>\n<style scoped>\n    .dataframe tbody tr th:only-of-type {\n        vertical-align: middle;\n    }\n\n    .dataframe tbody tr th {\n        vertical-align: top;\n    }\n\n    .dataframe thead th {\n        text-align: right;\n    }\n</style>\n<table border=\"1\" class=\"dataframe\">\n  <thead>\n    <tr style=\"text-align: right;\">\n      <th></th>\n      <th>review_id</th>\n      <th>review_text</th>\n      <th>n_votes</th>\n      <th>n_comments</th>\n    </tr>\n  </thead>\n  <tbody>\n    <tr>\n      <th>0</th>\n      <td>786842</td>\n      <td>This is a special book. It started slow for ab...</td>\n      <td>28</td>\n      <td>1</td>\n    </tr>\n    <tr>\n      <th>1</th>\n      <td>583423</td>\n      <td>Recommended by Don Katz. Avail for free in Dec...</td>\n      <td>1</td>\n      <td>0</td>\n    </tr>\n    <tr>\n      <th>2</th>\n      <td>165147</td>\n      <td>A fun, fast paced science fiction thriller. I ...</td>\n      <td>22</td>\n      <td>0</td>\n    </tr>\n    <tr>\n      <th>3</th>\n      <td>727692</td>\n      <td>Recommended reading to understand what is goin...</td>\n      <td>5</td>\n      <td>1</td>\n    </tr>\n    <tr>\n      <th>4</th>\n      <td>179941</td>\n      <td>I really enjoyed this book, and there is a lot...</td>\n      <td>9</td>\n      <td>1</td>\n    </tr>\n  </tbody>\n</table>\n</div>"
     },
     "execution_count": 13,
     "metadata": {},
     "output_type": "execute_result"
    }
   ],
   "source": [
    "x_train.head()"
   ],
   "metadata": {
    "collapsed": false
   }
  },
  {
   "cell_type": "markdown",
   "source": [
    "**NLP**"
   ],
   "metadata": {
    "collapsed": false
   }
  },
  {
   "cell_type": "code",
   "execution_count": 14,
   "outputs": [],
   "source": [
    "tokenizer = Tokenizer(num_words=NUM_WORDS, oov_token=OOV)"
   ],
   "metadata": {
    "collapsed": false
   }
  },
  {
   "cell_type": "code",
   "execution_count": 15,
   "outputs": [],
   "source": [
    "def get_sequences(tokenizer, review):\n",
    "    sequences = tokenizer.texts_to_sequences(review)\n",
    "    padded_sequences = pad_sequences(sequences, truncating='post', maxlen=MAX_SIZE, padding='post')\n",
    "    return padded_sequences"
   ],
   "metadata": {
    "collapsed": false
   }
  },
  {
   "cell_type": "code",
   "execution_count": 16,
   "outputs": [],
   "source": [
    "def tokenizer_func(data_rating, data_review):\n",
    "    tokenizer.fit_on_texts(data_review)\n",
    "\n",
    "    train_labels = data_rating.iloc[math.floor(int(len(data_rating) / 8)):]\n",
    "    train_examples = data_review.iloc[math.floor(int(len(data_review) / 8)):]\n",
    "    test_examples = data_review.iloc[:math.floor(int(len(data_review) / 8))]\n",
    "    test_labels = data_rating.iloc[:math.floor(int(len(data_rating) / 8))]\n",
    "\n",
    "    padded_train = get_sequences(tokenizer, train_examples)\n",
    "    padded_test = get_sequences(tokenizer, test_examples)\n",
    "\n",
    "    return np.array(padded_train), np.array(padded_test), np.array(train_labels), np.array(test_labels)"
   ],
   "metadata": {
    "collapsed": false
   }
  },
  {
   "cell_type": "code",
   "execution_count": 17,
   "outputs": [],
   "source": [
    "padded_train, padded_test, train_labels, test_labels = tokenizer_func(y_train, x_train['review_text'])"
   ],
   "metadata": {
    "collapsed": false
   }
  },
  {
   "cell_type": "code",
   "execution_count": 18,
   "outputs": [
    {
     "data": {
      "text/plain": "array([  4,  12, 294,  16,   6,   1, 566,  31,   3,   9,  10, 456,  42,\n         4, 151,  88, 597,   1,  59,  10,   6,   1,   7,   6,   1,   1,\n        21,  10, 635,  16,   2,   1,   1, 459,  45,  34, 185,   1,  27,\n         6, 428,   5,   1,   2, 223,   7,   2, 888,   1,   1, 388,  42,\n        80,   4, 134,  47,   1, 362,   3, 566,  32,  42,   4,  12, 294,\n        16,   4,  91,  37, 291,  13,  14,  15,   9, 167, 209, 124, 207,\n        25, 132,  48, 156, 290,   3,  84,   1, 255, 111, 383, 242, 124,\n         3,  42, 180,   7, 460,  10,   1,   1,  24,   2, 434,  70, 914,\n         0,   0,   0,   0,   0,   0,   0,   0,   0,   0,   0,   0,   0,\n         0,   0,   0,   0,   0,   0,   0,   0,   0,   0,   0,   0,   0,\n         0,   0,   0,   0,   0,   0,   0,   0,   0,   0,   0,   0,   0,\n         0,   0,   0,   0,   0,   0,   0,   0,   0,   0,   0,   0,   0,\n         0,   0,   0,   0,   0,   0,   0,   0,   0,   0,   0,   0,   0,\n         0,   0,   0,   0,   0,   0,   0,   0,   0,   0,   0,   0,   0,\n         0,   0,   0,   0,   0,   0,   0,   0,   0,   0,   0,   0,   0,\n         0,   0,   0,   0,   0,   0,   0,   0,   0,   0,   0,   0,   0,\n         0,   0,   0,   0,   0,   0,   0,   0,   0,   0,   0,   0,   0,\n         0,   0,   0,   0,   0,   0,   0,   0,   0,   0,   0,   0,   0,\n         0,   0,   0,   0,   0,   0,   0,   0,   0,   0,   0,   0,   0,\n         0,   0,   0,   0,   0,   0,   0,   0,   0,   0,   0,   0,   0,\n         0,   0,   0,   0,   0,   0,   0,   0,   0,   0,   0,   0,   0,\n         0,   0,   0,   0,   0,   0,   0,   0,   0,   0,   0,   0,   0,\n         0,   0,   0,   0,   0,   0,   0,   0,   0,   0,   0,   0,   0,\n         0,   0,   0,   0,   0,   0,   0,   0,   0,   0,   0,   0,   0,\n         0,   0,   0,   0,   0,   0,   0,   0,   0,   0,   0,   0,   0,\n         0,   0,   0,   0,   0,   0,   0,   0,   0,   0,   0,   0,   0,\n         0,   0,   0,   0,   0,   0,   0,   0,   0,   0,   0,   0,   0,\n         0,   0,   0,   0,   0,   0,   0,   0,   0,   0,   0,   0,   0,\n         0,   0,   0,   0,   0,   0,   0,   0,   0,   0,   0,   0,   0,\n         0,   0,   0,   0,   0,   0,   0,   0,   0,   0,   0,   0,   0,\n         0,   0,   0,   0,   0,   0,   0,   0,   0,   0,   0,   0,   0,\n         0,   0,   0,   0,   0,   0,   0,   0,   0,   0,   0,   0,   0,\n         0,   0,   0,   0,   0,   0,   0,   0,   0,   0,   0,   0,   0,\n         0,   0,   0,   0,   0,   0,   0,   0,   0,   0,   0,   0,   0,\n         0,   0,   0,   0,   0,   0,   0,   0,   0,   0,   0,   0,   0,\n         0,   0,   0,   0,   0,   0,   0,   0,   0,   0,   0,   0,   0,\n         0,   0,   0,   0,   0,   0,   0,   0,   0,   0,   0,   0,   0,\n         0,   0,   0,   0,   0,   0,   0,   0,   0,   0,   0,   0,   0,\n         0,   0,   0,   0,   0,   0,   0,   0,   0,   0,   0,   0,   0,\n         0,   0,   0,   0,   0,   0,   0,   0,   0,   0,   0,   0,   0,\n         0,   0,   0,   0,   0,   0,   0,   0,   0,   0,   0,   0,   0,\n         0,   0,   0,   0,   0,   0,   0,   0,   0,   0,   0,   0,   0,\n         0,   0,   0,   0,   0,   0,   0,   0,   0,   0,   0,   0,   0,\n         0,   0,   0,   0,   0,   0,   0,   0,   0,   0,   0,   0,   0,\n         0,   0,   0,   0,   0,   0,   0,   0,   0,   0,   0,   0,   0,\n         0,   0,   0,   0,   0,   0,   0,   0,   0,   0,   0,   0,   0,\n         0,   0,   0,   0,   0,   0,   0,   0,   0,   0,   0,   0,   0,\n         0,   0,   0,   0,   0,   0,   0,   0,   0,   0,   0,   0,   0,\n         0,   0,   0,   0,   0,   0,   0,   0,   0,   0,   0,   0,   0,\n         0,   0,   0,   0,   0,   0,   0,   0,   0,   0,   0,   0,   0,\n         0,   0,   0,   0,   0,   0,   0,   0,   0,   0,   0,   0,   0,\n         0,   0,   0,   0,   0,   0,   0,   0,   0,   0,   0,   0,   0,\n         0,   0,   0,   0,   0,   0,   0,   0,   0,   0,   0,   0,   0,\n         0,   0,   0,   0,   0,   0,   0,   0,   0,   0,   0,   0,   0,\n         0,   0,   0,   0,   0,   0,   0,   0,   0,   0,   0,   0,   0,\n         0,   0,   0,   0,   0,   0,   0,   0,   0,   0,   0,   0,   0,\n         0,   0,   0,   0,   0,   0,   0,   0,   0,   0,   0,   0,   0,\n         0,   0,   0,   0,   0,   0,   0,   0,   0,   0,   0,   0,   0,\n         0,   0,   0,   0,   0,   0,   0,   0,   0,   0,   0,   0,   0,\n         0,   0,   0,   0,   0,   0,   0,   0,   0,   0,   0,   0,   0,\n         0,   0,   0])"
     },
     "execution_count": 18,
     "metadata": {},
     "output_type": "execute_result"
    }
   ],
   "source": [
    "padded_train[0]"
   ],
   "metadata": {
    "collapsed": false
   }
  },
  {
   "cell_type": "markdown",
   "source": [
    "**Sarcasm detection**"
   ],
   "metadata": {
    "collapsed": false
   }
  },
  {
   "cell_type": "code",
   "execution_count": 19,
   "outputs": [],
   "source": [
    "data = pd.read_json('kaggle/input/sarcasmjson/sarcasm.json', lines=True)"
   ],
   "metadata": {
    "collapsed": false
   }
  },
  {
   "cell_type": "code",
   "execution_count": 20,
   "outputs": [],
   "source": [
    "# Iterating through the json data and loading the requisite values into our python lists\n",
    "sentences = data['headline']\n",
    "labels = data['is_sarcastic']"
   ],
   "metadata": {
    "collapsed": false
   }
  },
  {
   "cell_type": "code",
   "execution_count": 21,
   "outputs": [],
   "source": [
    "training_sentences = sentences[0:SARCASM_TRAINING_SIZE]\n",
    "testing_sentences = sentences[SARCASM_TRAINING_SIZE:]"
   ],
   "metadata": {
    "collapsed": false
   }
  },
  {
   "cell_type": "code",
   "execution_count": 22,
   "outputs": [],
   "source": [
    "training_labels = labels[0:SARCASM_TRAINING_SIZE]\n",
    "testing_labels = labels[SARCASM_TRAINING_SIZE:]"
   ],
   "metadata": {
    "collapsed": false
   }
  },
  {
   "cell_type": "code",
   "execution_count": 23,
   "outputs": [],
   "source": [
    "tokenizer.fit_on_texts(training_sentences)"
   ],
   "metadata": {
    "collapsed": false
   }
  },
  {
   "cell_type": "code",
   "execution_count": 24,
   "outputs": [],
   "source": [
    "# Creating training sequences and padding them\n",
    "training_padded = get_sequences(tokenizer, training_sentences)\n",
    "testing_padded = get_sequences(tokenizer, testing_sentences)"
   ],
   "metadata": {
    "collapsed": false
   }
  },
  {
   "cell_type": "code",
   "execution_count": 25,
   "outputs": [],
   "source": [
    "# Converting all variables to numpy arrays, to be able to work with tf version 2\n",
    "training_padded = np.array(training_padded)\n",
    "training_labels = np.array(training_labels)\n",
    "testing_padded = np.array(testing_padded)\n",
    "testing_labels = np.array(testing_labels)"
   ],
   "metadata": {
    "collapsed": false
   }
  },
  {
   "cell_type": "code",
   "execution_count": 26,
   "outputs": [],
   "source": [
    "# Creating a model for sentiment analysis\n",
    "sarcasm_model = tf.keras.Sequential([\n",
    "    # Adding an Embedding layer for Neural Network to learn the vectors\n",
    "    tf.keras.layers.Embedding(NUM_WORDS, EMBEDDING_DIM, input_length=MAX_SIZE),\n",
    "    # Global Average pooling is similar to adding up vectors in this case\n",
    "    tf.keras.layers.GlobalAveragePooling1D(),\n",
    "    tf.keras.layers.Dense(24, activation='relu'),\n",
    "    tf.keras.layers.Dense(1, activation='sigmoid')\n",
    "])"
   ],
   "metadata": {
    "collapsed": false
   }
  },
  {
   "cell_type": "code",
   "execution_count": 27,
   "outputs": [],
   "source": [
    "sarcasm_model.compile(loss='binary_crossentropy',\n",
    "                      optimizer='adam',\n",
    "                      metrics=['accuracy'])"
   ],
   "metadata": {
    "collapsed": false
   }
  },
  {
   "cell_type": "code",
   "execution_count": 28,
   "outputs": [
    {
     "name": "stdout",
     "output_type": "stream",
     "text": [
      "Epoch 1/10\n",
      "625/625 [==============================] - 6s 6ms/step - loss: 0.6864 - accuracy: 0.5585 - val_loss: 0.6847 - val_accuracy: 0.5633\n",
      "Epoch 2/10\n",
      "625/625 [==============================] - 4s 6ms/step - loss: 0.6847 - accuracy: 0.5603 - val_loss: 0.6835 - val_accuracy: 0.5633\n",
      "Epoch 3/10\n",
      "625/625 [==============================] - 4s 6ms/step - loss: 0.6807 - accuracy: 0.5603 - val_loss: 0.6742 - val_accuracy: 0.5633\n",
      "Epoch 4/10\n",
      "625/625 [==============================] - 3s 5ms/step - loss: 0.6571 - accuracy: 0.5738 - val_loss: 0.6328 - val_accuracy: 0.5840\n",
      "Epoch 5/10\n",
      "625/625 [==============================] - 3s 5ms/step - loss: 0.5999 - accuracy: 0.6775 - val_loss: 0.5869 - val_accuracy: 0.6369\n",
      "Epoch 6/10\n",
      "625/625 [==============================] - 3s 5ms/step - loss: 0.5433 - accuracy: 0.7300 - val_loss: 0.5192 - val_accuracy: 0.7450\n",
      "Epoch 7/10\n",
      "625/625 [==============================] - 3s 5ms/step - loss: 0.5016 - accuracy: 0.7557 - val_loss: 0.4986 - val_accuracy: 0.7511\n",
      "Epoch 8/10\n",
      "625/625 [==============================] - 3s 5ms/step - loss: 0.4865 - accuracy: 0.7621 - val_loss: 0.4948 - val_accuracy: 0.7547\n",
      "Epoch 9/10\n",
      "625/625 [==============================] - 3s 5ms/step - loss: 0.4769 - accuracy: 0.7656 - val_loss: 0.4837 - val_accuracy: 0.7620\n",
      "Epoch 10/10\n",
      "625/625 [==============================] - 3s 5ms/step - loss: 0.4718 - accuracy: 0.7718 - val_loss: 0.4845 - val_accuracy: 0.7581\n"
     ]
    },
    {
     "data": {
      "text/plain": "<keras.callbacks.History at 0x1ce9e90ff10>"
     },
     "execution_count": 28,
     "metadata": {},
     "output_type": "execute_result"
    }
   ],
   "source": [
    "sarcasm_model.fit(training_padded, training_labels, epochs=EPOCHS,\n",
    "                    validation_data=(testing_padded, testing_labels))"
   ],
   "metadata": {
    "collapsed": false
   }
  },
  {
   "cell_type": "code",
   "execution_count": 29,
   "outputs": [
    {
     "name": "stdout",
     "output_type": "stream",
     "text": [
      "24610/24610 [==============================] - 30s 1ms/step\n",
      "3516/3516 [==============================] - 4s 1ms/step\n"
     ]
    }
   ],
   "source": [
    "sarcasm_prediction_train = sarcasm_model.predict(padded_train)\n",
    "sarcasm_prediction_test = sarcasm_model.predict(padded_test)"
   ],
   "metadata": {
    "collapsed": false
   }
  },
  {
   "cell_type": "markdown",
   "source": [
    "**Reshaping data**\n"
   ],
   "metadata": {
    "collapsed": false
   }
  },
  {
   "cell_type": "code",
   "execution_count": 30,
   "outputs": [
    {
     "data": {
      "text/plain": "(787500, 1)"
     },
     "execution_count": 30,
     "metadata": {},
     "output_type": "execute_result"
    }
   ],
   "source": [
    "sarcasm_prediction_train.shape"
   ],
   "metadata": {
    "collapsed": false
   }
  },
  {
   "cell_type": "code",
   "execution_count": 31,
   "outputs": [
    {
     "data": {
      "text/plain": "(787500, 783)"
     },
     "execution_count": 31,
     "metadata": {},
     "output_type": "execute_result"
    }
   ],
   "source": [
    "padded_train.shape"
   ],
   "metadata": {
    "collapsed": false
   }
  },
  {
   "cell_type": "code",
   "execution_count": 32,
   "outputs": [],
   "source": [
    "padded_train = np.concatenate((padded_train, np.array(sarcasm_prediction_train.flatten())[:, None]), axis=1)\n",
    "padded_test = np.concatenate((padded_test, np.array(sarcasm_prediction_test.flatten())[:, None]), axis=1)"
   ],
   "metadata": {
    "collapsed": false
   }
  },
  {
   "cell_type": "code",
   "execution_count": 33,
   "outputs": [
    {
     "data": {
      "text/plain": "(787500, 784)"
     },
     "execution_count": 33,
     "metadata": {},
     "output_type": "execute_result"
    }
   ],
   "source": [
    "padded_train.shape"
   ],
   "metadata": {
    "collapsed": false
   }
  },
  {
   "cell_type": "code",
   "execution_count": 34,
   "outputs": [],
   "source": [
    "padded_train = np.reshape(padded_train, (1 - math.floor(len(y_train) / 8), 28, 28))\n",
    "padded_test = np.reshape(padded_test, (math.floor(int(len(x_train['review_text']) / 8)), 28, 28))"
   ],
   "metadata": {
    "collapsed": false
   }
  },
  {
   "cell_type": "code",
   "execution_count": 35,
   "outputs": [
    {
     "data": {
      "text/plain": "array([[4.0000000e+00, 1.2000000e+01, 2.9400000e+02, 1.6000000e+01,\n        6.0000000e+00, 1.0000000e+00, 5.6600000e+02, 3.1000000e+01,\n        3.0000000e+00, 9.0000000e+00, 1.0000000e+01, 4.5600000e+02,\n        4.2000000e+01, 4.0000000e+00, 1.5100000e+02, 8.8000000e+01,\n        5.9700000e+02, 1.0000000e+00, 5.9000000e+01, 1.0000000e+01,\n        6.0000000e+00, 1.0000000e+00, 7.0000000e+00, 6.0000000e+00,\n        1.0000000e+00, 1.0000000e+00, 2.1000000e+01, 1.0000000e+01],\n       [6.3500000e+02, 1.6000000e+01, 2.0000000e+00, 1.0000000e+00,\n        1.0000000e+00, 4.5900000e+02, 4.5000000e+01, 3.4000000e+01,\n        1.8500000e+02, 1.0000000e+00, 2.7000000e+01, 6.0000000e+00,\n        4.2800000e+02, 5.0000000e+00, 1.0000000e+00, 2.0000000e+00,\n        2.2300000e+02, 7.0000000e+00, 2.0000000e+00, 8.8800000e+02,\n        1.0000000e+00, 1.0000000e+00, 3.8800000e+02, 4.2000000e+01,\n        8.0000000e+01, 4.0000000e+00, 1.3400000e+02, 4.7000000e+01],\n       [1.0000000e+00, 3.6200000e+02, 3.0000000e+00, 5.6600000e+02,\n        3.2000000e+01, 4.2000000e+01, 4.0000000e+00, 1.2000000e+01,\n        2.9400000e+02, 1.6000000e+01, 4.0000000e+00, 9.1000000e+01,\n        3.7000000e+01, 2.9100000e+02, 1.3000000e+01, 1.4000000e+01,\n        1.5000000e+01, 9.0000000e+00, 1.6700000e+02, 2.0900000e+02,\n        1.2400000e+02, 2.0700000e+02, 2.5000000e+01, 1.3200000e+02,\n        4.8000000e+01, 1.5600000e+02, 2.9000000e+02, 3.0000000e+00],\n       [8.4000000e+01, 1.0000000e+00, 2.5500000e+02, 1.1100000e+02,\n        3.8300000e+02, 2.4200000e+02, 1.2400000e+02, 3.0000000e+00,\n        4.2000000e+01, 1.8000000e+02, 7.0000000e+00, 4.6000000e+02,\n        1.0000000e+01, 1.0000000e+00, 1.0000000e+00, 2.4000000e+01,\n        2.0000000e+00, 4.3400000e+02, 7.0000000e+01, 9.1400000e+02,\n        0.0000000e+00, 0.0000000e+00, 0.0000000e+00, 0.0000000e+00,\n        0.0000000e+00, 0.0000000e+00, 0.0000000e+00, 0.0000000e+00],\n       [0.0000000e+00, 0.0000000e+00, 0.0000000e+00, 0.0000000e+00,\n        0.0000000e+00, 0.0000000e+00, 0.0000000e+00, 0.0000000e+00,\n        0.0000000e+00, 0.0000000e+00, 0.0000000e+00, 0.0000000e+00,\n        0.0000000e+00, 0.0000000e+00, 0.0000000e+00, 0.0000000e+00,\n        0.0000000e+00, 0.0000000e+00, 0.0000000e+00, 0.0000000e+00,\n        0.0000000e+00, 0.0000000e+00, 0.0000000e+00, 0.0000000e+00,\n        0.0000000e+00, 0.0000000e+00, 0.0000000e+00, 0.0000000e+00],\n       [0.0000000e+00, 0.0000000e+00, 0.0000000e+00, 0.0000000e+00,\n        0.0000000e+00, 0.0000000e+00, 0.0000000e+00, 0.0000000e+00,\n        0.0000000e+00, 0.0000000e+00, 0.0000000e+00, 0.0000000e+00,\n        0.0000000e+00, 0.0000000e+00, 0.0000000e+00, 0.0000000e+00,\n        0.0000000e+00, 0.0000000e+00, 0.0000000e+00, 0.0000000e+00,\n        0.0000000e+00, 0.0000000e+00, 0.0000000e+00, 0.0000000e+00,\n        0.0000000e+00, 0.0000000e+00, 0.0000000e+00, 0.0000000e+00],\n       [0.0000000e+00, 0.0000000e+00, 0.0000000e+00, 0.0000000e+00,\n        0.0000000e+00, 0.0000000e+00, 0.0000000e+00, 0.0000000e+00,\n        0.0000000e+00, 0.0000000e+00, 0.0000000e+00, 0.0000000e+00,\n        0.0000000e+00, 0.0000000e+00, 0.0000000e+00, 0.0000000e+00,\n        0.0000000e+00, 0.0000000e+00, 0.0000000e+00, 0.0000000e+00,\n        0.0000000e+00, 0.0000000e+00, 0.0000000e+00, 0.0000000e+00,\n        0.0000000e+00, 0.0000000e+00, 0.0000000e+00, 0.0000000e+00],\n       [0.0000000e+00, 0.0000000e+00, 0.0000000e+00, 0.0000000e+00,\n        0.0000000e+00, 0.0000000e+00, 0.0000000e+00, 0.0000000e+00,\n        0.0000000e+00, 0.0000000e+00, 0.0000000e+00, 0.0000000e+00,\n        0.0000000e+00, 0.0000000e+00, 0.0000000e+00, 0.0000000e+00,\n        0.0000000e+00, 0.0000000e+00, 0.0000000e+00, 0.0000000e+00,\n        0.0000000e+00, 0.0000000e+00, 0.0000000e+00, 0.0000000e+00,\n        0.0000000e+00, 0.0000000e+00, 0.0000000e+00, 0.0000000e+00],\n       [0.0000000e+00, 0.0000000e+00, 0.0000000e+00, 0.0000000e+00,\n        0.0000000e+00, 0.0000000e+00, 0.0000000e+00, 0.0000000e+00,\n        0.0000000e+00, 0.0000000e+00, 0.0000000e+00, 0.0000000e+00,\n        0.0000000e+00, 0.0000000e+00, 0.0000000e+00, 0.0000000e+00,\n        0.0000000e+00, 0.0000000e+00, 0.0000000e+00, 0.0000000e+00,\n        0.0000000e+00, 0.0000000e+00, 0.0000000e+00, 0.0000000e+00,\n        0.0000000e+00, 0.0000000e+00, 0.0000000e+00, 0.0000000e+00],\n       [0.0000000e+00, 0.0000000e+00, 0.0000000e+00, 0.0000000e+00,\n        0.0000000e+00, 0.0000000e+00, 0.0000000e+00, 0.0000000e+00,\n        0.0000000e+00, 0.0000000e+00, 0.0000000e+00, 0.0000000e+00,\n        0.0000000e+00, 0.0000000e+00, 0.0000000e+00, 0.0000000e+00,\n        0.0000000e+00, 0.0000000e+00, 0.0000000e+00, 0.0000000e+00,\n        0.0000000e+00, 0.0000000e+00, 0.0000000e+00, 0.0000000e+00,\n        0.0000000e+00, 0.0000000e+00, 0.0000000e+00, 0.0000000e+00],\n       [0.0000000e+00, 0.0000000e+00, 0.0000000e+00, 0.0000000e+00,\n        0.0000000e+00, 0.0000000e+00, 0.0000000e+00, 0.0000000e+00,\n        0.0000000e+00, 0.0000000e+00, 0.0000000e+00, 0.0000000e+00,\n        0.0000000e+00, 0.0000000e+00, 0.0000000e+00, 0.0000000e+00,\n        0.0000000e+00, 0.0000000e+00, 0.0000000e+00, 0.0000000e+00,\n        0.0000000e+00, 0.0000000e+00, 0.0000000e+00, 0.0000000e+00,\n        0.0000000e+00, 0.0000000e+00, 0.0000000e+00, 0.0000000e+00],\n       [0.0000000e+00, 0.0000000e+00, 0.0000000e+00, 0.0000000e+00,\n        0.0000000e+00, 0.0000000e+00, 0.0000000e+00, 0.0000000e+00,\n        0.0000000e+00, 0.0000000e+00, 0.0000000e+00, 0.0000000e+00,\n        0.0000000e+00, 0.0000000e+00, 0.0000000e+00, 0.0000000e+00,\n        0.0000000e+00, 0.0000000e+00, 0.0000000e+00, 0.0000000e+00,\n        0.0000000e+00, 0.0000000e+00, 0.0000000e+00, 0.0000000e+00,\n        0.0000000e+00, 0.0000000e+00, 0.0000000e+00, 0.0000000e+00],\n       [0.0000000e+00, 0.0000000e+00, 0.0000000e+00, 0.0000000e+00,\n        0.0000000e+00, 0.0000000e+00, 0.0000000e+00, 0.0000000e+00,\n        0.0000000e+00, 0.0000000e+00, 0.0000000e+00, 0.0000000e+00,\n        0.0000000e+00, 0.0000000e+00, 0.0000000e+00, 0.0000000e+00,\n        0.0000000e+00, 0.0000000e+00, 0.0000000e+00, 0.0000000e+00,\n        0.0000000e+00, 0.0000000e+00, 0.0000000e+00, 0.0000000e+00,\n        0.0000000e+00, 0.0000000e+00, 0.0000000e+00, 0.0000000e+00],\n       [0.0000000e+00, 0.0000000e+00, 0.0000000e+00, 0.0000000e+00,\n        0.0000000e+00, 0.0000000e+00, 0.0000000e+00, 0.0000000e+00,\n        0.0000000e+00, 0.0000000e+00, 0.0000000e+00, 0.0000000e+00,\n        0.0000000e+00, 0.0000000e+00, 0.0000000e+00, 0.0000000e+00,\n        0.0000000e+00, 0.0000000e+00, 0.0000000e+00, 0.0000000e+00,\n        0.0000000e+00, 0.0000000e+00, 0.0000000e+00, 0.0000000e+00,\n        0.0000000e+00, 0.0000000e+00, 0.0000000e+00, 0.0000000e+00],\n       [0.0000000e+00, 0.0000000e+00, 0.0000000e+00, 0.0000000e+00,\n        0.0000000e+00, 0.0000000e+00, 0.0000000e+00, 0.0000000e+00,\n        0.0000000e+00, 0.0000000e+00, 0.0000000e+00, 0.0000000e+00,\n        0.0000000e+00, 0.0000000e+00, 0.0000000e+00, 0.0000000e+00,\n        0.0000000e+00, 0.0000000e+00, 0.0000000e+00, 0.0000000e+00,\n        0.0000000e+00, 0.0000000e+00, 0.0000000e+00, 0.0000000e+00,\n        0.0000000e+00, 0.0000000e+00, 0.0000000e+00, 0.0000000e+00],\n       [0.0000000e+00, 0.0000000e+00, 0.0000000e+00, 0.0000000e+00,\n        0.0000000e+00, 0.0000000e+00, 0.0000000e+00, 0.0000000e+00,\n        0.0000000e+00, 0.0000000e+00, 0.0000000e+00, 0.0000000e+00,\n        0.0000000e+00, 0.0000000e+00, 0.0000000e+00, 0.0000000e+00,\n        0.0000000e+00, 0.0000000e+00, 0.0000000e+00, 0.0000000e+00,\n        0.0000000e+00, 0.0000000e+00, 0.0000000e+00, 0.0000000e+00,\n        0.0000000e+00, 0.0000000e+00, 0.0000000e+00, 0.0000000e+00],\n       [0.0000000e+00, 0.0000000e+00, 0.0000000e+00, 0.0000000e+00,\n        0.0000000e+00, 0.0000000e+00, 0.0000000e+00, 0.0000000e+00,\n        0.0000000e+00, 0.0000000e+00, 0.0000000e+00, 0.0000000e+00,\n        0.0000000e+00, 0.0000000e+00, 0.0000000e+00, 0.0000000e+00,\n        0.0000000e+00, 0.0000000e+00, 0.0000000e+00, 0.0000000e+00,\n        0.0000000e+00, 0.0000000e+00, 0.0000000e+00, 0.0000000e+00,\n        0.0000000e+00, 0.0000000e+00, 0.0000000e+00, 0.0000000e+00],\n       [0.0000000e+00, 0.0000000e+00, 0.0000000e+00, 0.0000000e+00,\n        0.0000000e+00, 0.0000000e+00, 0.0000000e+00, 0.0000000e+00,\n        0.0000000e+00, 0.0000000e+00, 0.0000000e+00, 0.0000000e+00,\n        0.0000000e+00, 0.0000000e+00, 0.0000000e+00, 0.0000000e+00,\n        0.0000000e+00, 0.0000000e+00, 0.0000000e+00, 0.0000000e+00,\n        0.0000000e+00, 0.0000000e+00, 0.0000000e+00, 0.0000000e+00,\n        0.0000000e+00, 0.0000000e+00, 0.0000000e+00, 0.0000000e+00],\n       [0.0000000e+00, 0.0000000e+00, 0.0000000e+00, 0.0000000e+00,\n        0.0000000e+00, 0.0000000e+00, 0.0000000e+00, 0.0000000e+00,\n        0.0000000e+00, 0.0000000e+00, 0.0000000e+00, 0.0000000e+00,\n        0.0000000e+00, 0.0000000e+00, 0.0000000e+00, 0.0000000e+00,\n        0.0000000e+00, 0.0000000e+00, 0.0000000e+00, 0.0000000e+00,\n        0.0000000e+00, 0.0000000e+00, 0.0000000e+00, 0.0000000e+00,\n        0.0000000e+00, 0.0000000e+00, 0.0000000e+00, 0.0000000e+00],\n       [0.0000000e+00, 0.0000000e+00, 0.0000000e+00, 0.0000000e+00,\n        0.0000000e+00, 0.0000000e+00, 0.0000000e+00, 0.0000000e+00,\n        0.0000000e+00, 0.0000000e+00, 0.0000000e+00, 0.0000000e+00,\n        0.0000000e+00, 0.0000000e+00, 0.0000000e+00, 0.0000000e+00,\n        0.0000000e+00, 0.0000000e+00, 0.0000000e+00, 0.0000000e+00,\n        0.0000000e+00, 0.0000000e+00, 0.0000000e+00, 0.0000000e+00,\n        0.0000000e+00, 0.0000000e+00, 0.0000000e+00, 0.0000000e+00],\n       [0.0000000e+00, 0.0000000e+00, 0.0000000e+00, 0.0000000e+00,\n        0.0000000e+00, 0.0000000e+00, 0.0000000e+00, 0.0000000e+00,\n        0.0000000e+00, 0.0000000e+00, 0.0000000e+00, 0.0000000e+00,\n        0.0000000e+00, 0.0000000e+00, 0.0000000e+00, 0.0000000e+00,\n        0.0000000e+00, 0.0000000e+00, 0.0000000e+00, 0.0000000e+00,\n        0.0000000e+00, 0.0000000e+00, 0.0000000e+00, 0.0000000e+00,\n        0.0000000e+00, 0.0000000e+00, 0.0000000e+00, 0.0000000e+00],\n       [0.0000000e+00, 0.0000000e+00, 0.0000000e+00, 0.0000000e+00,\n        0.0000000e+00, 0.0000000e+00, 0.0000000e+00, 0.0000000e+00,\n        0.0000000e+00, 0.0000000e+00, 0.0000000e+00, 0.0000000e+00,\n        0.0000000e+00, 0.0000000e+00, 0.0000000e+00, 0.0000000e+00,\n        0.0000000e+00, 0.0000000e+00, 0.0000000e+00, 0.0000000e+00,\n        0.0000000e+00, 0.0000000e+00, 0.0000000e+00, 0.0000000e+00,\n        0.0000000e+00, 0.0000000e+00, 0.0000000e+00, 0.0000000e+00],\n       [0.0000000e+00, 0.0000000e+00, 0.0000000e+00, 0.0000000e+00,\n        0.0000000e+00, 0.0000000e+00, 0.0000000e+00, 0.0000000e+00,\n        0.0000000e+00, 0.0000000e+00, 0.0000000e+00, 0.0000000e+00,\n        0.0000000e+00, 0.0000000e+00, 0.0000000e+00, 0.0000000e+00,\n        0.0000000e+00, 0.0000000e+00, 0.0000000e+00, 0.0000000e+00,\n        0.0000000e+00, 0.0000000e+00, 0.0000000e+00, 0.0000000e+00,\n        0.0000000e+00, 0.0000000e+00, 0.0000000e+00, 0.0000000e+00],\n       [0.0000000e+00, 0.0000000e+00, 0.0000000e+00, 0.0000000e+00,\n        0.0000000e+00, 0.0000000e+00, 0.0000000e+00, 0.0000000e+00,\n        0.0000000e+00, 0.0000000e+00, 0.0000000e+00, 0.0000000e+00,\n        0.0000000e+00, 0.0000000e+00, 0.0000000e+00, 0.0000000e+00,\n        0.0000000e+00, 0.0000000e+00, 0.0000000e+00, 0.0000000e+00,\n        0.0000000e+00, 0.0000000e+00, 0.0000000e+00, 0.0000000e+00,\n        0.0000000e+00, 0.0000000e+00, 0.0000000e+00, 0.0000000e+00],\n       [0.0000000e+00, 0.0000000e+00, 0.0000000e+00, 0.0000000e+00,\n        0.0000000e+00, 0.0000000e+00, 0.0000000e+00, 0.0000000e+00,\n        0.0000000e+00, 0.0000000e+00, 0.0000000e+00, 0.0000000e+00,\n        0.0000000e+00, 0.0000000e+00, 0.0000000e+00, 0.0000000e+00,\n        0.0000000e+00, 0.0000000e+00, 0.0000000e+00, 0.0000000e+00,\n        0.0000000e+00, 0.0000000e+00, 0.0000000e+00, 0.0000000e+00,\n        0.0000000e+00, 0.0000000e+00, 0.0000000e+00, 0.0000000e+00],\n       [0.0000000e+00, 0.0000000e+00, 0.0000000e+00, 0.0000000e+00,\n        0.0000000e+00, 0.0000000e+00, 0.0000000e+00, 0.0000000e+00,\n        0.0000000e+00, 0.0000000e+00, 0.0000000e+00, 0.0000000e+00,\n        0.0000000e+00, 0.0000000e+00, 0.0000000e+00, 0.0000000e+00,\n        0.0000000e+00, 0.0000000e+00, 0.0000000e+00, 0.0000000e+00,\n        0.0000000e+00, 0.0000000e+00, 0.0000000e+00, 0.0000000e+00,\n        0.0000000e+00, 0.0000000e+00, 0.0000000e+00, 0.0000000e+00],\n       [0.0000000e+00, 0.0000000e+00, 0.0000000e+00, 0.0000000e+00,\n        0.0000000e+00, 0.0000000e+00, 0.0000000e+00, 0.0000000e+00,\n        0.0000000e+00, 0.0000000e+00, 0.0000000e+00, 0.0000000e+00,\n        0.0000000e+00, 0.0000000e+00, 0.0000000e+00, 0.0000000e+00,\n        0.0000000e+00, 0.0000000e+00, 0.0000000e+00, 0.0000000e+00,\n        0.0000000e+00, 0.0000000e+00, 0.0000000e+00, 0.0000000e+00,\n        0.0000000e+00, 0.0000000e+00, 0.0000000e+00, 0.0000000e+00],\n       [0.0000000e+00, 0.0000000e+00, 0.0000000e+00, 0.0000000e+00,\n        0.0000000e+00, 0.0000000e+00, 0.0000000e+00, 0.0000000e+00,\n        0.0000000e+00, 0.0000000e+00, 0.0000000e+00, 0.0000000e+00,\n        0.0000000e+00, 0.0000000e+00, 0.0000000e+00, 0.0000000e+00,\n        0.0000000e+00, 0.0000000e+00, 0.0000000e+00, 0.0000000e+00,\n        0.0000000e+00, 0.0000000e+00, 0.0000000e+00, 0.0000000e+00,\n        0.0000000e+00, 0.0000000e+00, 0.0000000e+00, 9.1626995e-16]])"
     },
     "execution_count": 35,
     "metadata": {},
     "output_type": "execute_result"
    }
   ],
   "source": [
    "padded_train[0]"
   ],
   "metadata": {
    "collapsed": false
   }
  },
  {
   "cell_type": "markdown",
   "source": [
    "**CNN Training**"
   ],
   "metadata": {
    "collapsed": false
   }
  },
  {
   "cell_type": "code",
   "execution_count": 36,
   "outputs": [],
   "source": [
    "cnn_model = tf.keras.models.Sequential()"
   ],
   "metadata": {
    "collapsed": false
   }
  },
  {
   "cell_type": "code",
   "execution_count": 37,
   "outputs": [],
   "source": [
    "cnn_model.add(tf.keras.layers.Conv2D(8, (3, 3), activation=tf.keras.activations.tanh, padding='same'))\n",
    "cnn_model.add(tf.keras.layers.Conv2D(8, (3, 3), activation=tf.keras.activations.tanh, padding='same'))\n",
    "cnn_model.add(tf.keras.layers.MaxPool2D())\n",
    "\n",
    "cnn_model.add(tf.keras.layers.Conv2D(16, (3, 3), activation=tf.keras.activations.tanh, padding='same'))\n",
    "cnn_model.add(tf.keras.layers.Conv2D(16, (3, 3), activation=tf.keras.activations.tanh, padding='same'))\n",
    "cnn_model.add(tf.keras.layers.MaxPool2D())\n",
    "\n",
    "cnn_model.add(tf.keras.layers.Conv2D(32, (3, 3), activation=tf.keras.activations.tanh, padding='same'))\n",
    "cnn_model.add(tf.keras.layers.Conv2D(32, (3, 3), activation=tf.keras.activations.tanh, padding='same'))\n",
    "cnn_model.add(tf.keras.layers.MaxPool2D())\n",
    "\n",
    "cnn_model.add(tf.keras.layers.Flatten())\n",
    "cnn_model.add(tf.keras.layers.Dense(32, activation=tf.keras.activations.relu))  # tf.keras.activations.tanh\n",
    "cnn_model.add(tf.keras.layers.Dense(16, activation=tf.keras.activations.relu))  # tf.keras.activations.tanh\n",
    "cnn_model.add(tf.keras.layers.Dense(6,\n",
    "                                    activation=tf.keras.activations.softmax))  # model.add(tf.keras.layers.Dense(1, activation=tf.keras.activations.softmax))"
   ],
   "metadata": {
    "collapsed": false
   }
  },
  {
   "cell_type": "code",
   "execution_count": 38,
   "outputs": [],
   "source": [
    "cnn_model.compile(optimizer=tf.keras.optimizers.SGD(0.1, momentum=0.9),\n",
    "                  loss=tf.keras.losses.categorical_crossentropy,\n",
    "                  metrics=[tf.keras.metrics.categorical_accuracy])"
   ],
   "metadata": {
    "collapsed": false
   }
  },
  {
   "cell_type": "code",
   "execution_count": 39,
   "outputs": [
    {
     "ename": "InternalError",
     "evalue": "Failed copying input tensor from /job:localhost/replica:0/task:0/device:CPU:0 to /job:localhost/replica:0/task:0/device:GPU:0 in order to run _EagerConst: Dst tensor is not initialized.",
     "output_type": "error",
     "traceback": [
      "\u001B[1;31m---------------------------------------------------------------------------\u001B[0m",
      "\u001B[1;31mInternalError\u001B[0m                             Traceback (most recent call last)",
      "Input \u001B[1;32mIn [39]\u001B[0m, in \u001B[0;36m<cell line: 1>\u001B[1;34m()\u001B[0m\n\u001B[1;32m----> 1\u001B[0m \u001B[43mcnn_model\u001B[49m\u001B[38;5;241;43m.\u001B[39;49m\u001B[43mfit\u001B[49m\u001B[43m(\u001B[49m\u001B[43mpadded_train\u001B[49m\u001B[43m,\u001B[49m\n\u001B[0;32m      2\u001B[0m \u001B[43m              \u001B[49m\u001B[43mtrain_labels\u001B[49m\u001B[43m,\u001B[49m\n\u001B[0;32m      3\u001B[0m \u001B[43m              \u001B[49m\u001B[43mbatch_size\u001B[49m\u001B[38;5;241;43m=\u001B[39;49m\u001B[43mBATCH_SIZE\u001B[49m\u001B[43m,\u001B[49m\n\u001B[0;32m      4\u001B[0m \u001B[43m              \u001B[49m\u001B[43mepochs\u001B[49m\u001B[38;5;241;43m=\u001B[39;49m\u001B[43mEPOCHS\u001B[49m\n\u001B[0;32m      5\u001B[0m \u001B[43m              \u001B[49m\u001B[43m)\u001B[49m\n",
      "File \u001B[1;32m~\\anaconda3\\envs\\4IABD1_DL\\lib\\site-packages\\keras\\utils\\traceback_utils.py:70\u001B[0m, in \u001B[0;36mfilter_traceback.<locals>.error_handler\u001B[1;34m(*args, **kwargs)\u001B[0m\n\u001B[0;32m     67\u001B[0m     filtered_tb \u001B[38;5;241m=\u001B[39m _process_traceback_frames(e\u001B[38;5;241m.\u001B[39m__traceback__)\n\u001B[0;32m     68\u001B[0m     \u001B[38;5;66;03m# To get the full stack trace, call:\u001B[39;00m\n\u001B[0;32m     69\u001B[0m     \u001B[38;5;66;03m# `tf.debugging.disable_traceback_filtering()`\u001B[39;00m\n\u001B[1;32m---> 70\u001B[0m     \u001B[38;5;28;01mraise\u001B[39;00m e\u001B[38;5;241m.\u001B[39mwith_traceback(filtered_tb) \u001B[38;5;28;01mfrom\u001B[39;00m \u001B[38;5;28mNone\u001B[39m\n\u001B[0;32m     71\u001B[0m \u001B[38;5;28;01mfinally\u001B[39;00m:\n\u001B[0;32m     72\u001B[0m     \u001B[38;5;28;01mdel\u001B[39;00m filtered_tb\n",
      "File \u001B[1;32m~\\anaconda3\\envs\\4IABD1_DL\\lib\\site-packages\\tensorflow\\python\\framework\\constant_op.py:102\u001B[0m, in \u001B[0;36mconvert_to_eager_tensor\u001B[1;34m(value, ctx, dtype)\u001B[0m\n\u001B[0;32m    100\u001B[0m     dtype \u001B[38;5;241m=\u001B[39m dtypes\u001B[38;5;241m.\u001B[39mas_dtype(dtype)\u001B[38;5;241m.\u001B[39mas_datatype_enum\n\u001B[0;32m    101\u001B[0m ctx\u001B[38;5;241m.\u001B[39mensure_initialized()\n\u001B[1;32m--> 102\u001B[0m \u001B[38;5;28;01mreturn\u001B[39;00m \u001B[43mops\u001B[49m\u001B[38;5;241;43m.\u001B[39;49m\u001B[43mEagerTensor\u001B[49m\u001B[43m(\u001B[49m\u001B[43mvalue\u001B[49m\u001B[43m,\u001B[49m\u001B[43m \u001B[49m\u001B[43mctx\u001B[49m\u001B[38;5;241;43m.\u001B[39;49m\u001B[43mdevice_name\u001B[49m\u001B[43m,\u001B[49m\u001B[43m \u001B[49m\u001B[43mdtype\u001B[49m\u001B[43m)\u001B[49m\n",
      "\u001B[1;31mInternalError\u001B[0m: Failed copying input tensor from /job:localhost/replica:0/task:0/device:CPU:0 to /job:localhost/replica:0/task:0/device:GPU:0 in order to run _EagerConst: Dst tensor is not initialized."
     ]
    }
   ],
   "source": [
    "cnn_model.fit(padded_train,\n",
    "              train_labels,\n",
    "              batch_size=BATCH_SIZE,\n",
    "              epochs=EPOCHS\n",
    "              )"
   ],
   "metadata": {
    "collapsed": false
   }
  },
  {
   "cell_type": "markdown",
   "source": [
    "**Testing model**"
   ],
   "metadata": {
    "collapsed": false
   }
  },
  {
   "cell_type": "code",
   "execution_count": null,
   "outputs": [],
   "source": [
    "padded_train = padded_train / MAX_SIZE\n",
    "padded_test = padded_test / MAX_SIZE\n",
    "\n",
    "train_labels = tf.keras.utils.to_categorical(train_labels, 6)\n",
    "test_labels = tf.keras.utils.to_categorical(test_labels, 6)\n",
    "\n",
    "padded_train = np.expand_dims(padded_train, -1)\n",
    "padded_test = np.expand_dims(padded_test, -1)\n",
    "\n",
    "cnn_predict = cnn_model.predict(padded_train)"
   ],
   "metadata": {
    "collapsed": false
   }
  },
  {
   "cell_type": "code",
   "execution_count": null,
   "outputs": [],
   "source": [
    "cnn_model.summary()"
   ],
   "metadata": {
    "collapsed": false
   }
  },
  {
   "cell_type": "markdown",
   "source": [
    "**Submission**"
   ],
   "metadata": {
    "collapsed": false
   }
  },
  {
   "cell_type": "code",
   "execution_count": null,
   "outputs": [],
   "source": [
    "sample_submission = pd.read_csv(\"kaggle/input/goodreads-books-reviews-290312/goodreads_sample_submission.csv\")\n",
    "predictions = np.argmax(cnn_predict, axis=1)\n",
    "sample_submission.rating = predictions\n",
    "sample_submission.to_csv(\"kaggle/working/submission.csv\", index=False)"
   ],
   "metadata": {
    "collapsed": false
   }
  }
 ]
}
