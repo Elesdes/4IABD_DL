{
 "cells": [
  {
   "cell_type": "markdown",
   "source": [
    "**Init**"
   ],
   "metadata": {
    "collapsed": false
   }
  },
  {
   "cell_type": "code",
   "execution_count": 261,
   "outputs": [],
   "source": [
    "# Native python libs\n",
    "import os"
   ],
   "metadata": {
    "collapsed": false
   }
  },
  {
   "cell_type": "code",
   "execution_count": 262,
   "metadata": {
    "collapsed": true
   },
   "outputs": [],
   "source": [
    "# pip installed libs\n",
    "import numpy as np\n",
    "import pandas as pd\n",
    "import tensorflow as tf"
   ]
  },
  {
   "cell_type": "code",
   "execution_count": 263,
   "outputs": [],
   "source": [
    "BASE_PATH = os.path.abspath('') + \"\\\\..\"\n",
    "TENSORBOARD_LOGS_PATH = BASE_PATH + \"\\\\tensorboard_logs\"\n",
    "KAGGLE_PATH = BASE_PATH + \"\\\\kaggle\"\n",
    "INPUT_PATH = KAGGLE_PATH + \"\\\\input\\\\goodreads-books-reviews-290312\"\n",
    "OUTPUT_PATH = KAGGLE_PATH + \"\\\\working\\\\submission.csv\""
   ],
   "metadata": {
    "collapsed": false
   }
  },
  {
   "cell_type": "code",
   "execution_count": 264,
   "outputs": [
    {
     "data": {
      "text/plain": "'C:\\\\Users\\\\juanm\\\\OneDrive\\\\Bureau\\\\ESGI - Projets\\\\4IABD\\\\Projet Deep Learning\\\\tensorboard_logs'"
     },
     "execution_count": 264,
     "metadata": {},
     "output_type": "execute_result"
    }
   ],
   "source": [
    "# Test if path is good\n",
    "os.path.abspath(TENSORBOARD_LOGS_PATH)"
   ],
   "metadata": {
    "collapsed": false
   }
  },
  {
   "cell_type": "code",
   "execution_count": 265,
   "outputs": [],
   "source": [
    "#!tensorboard --logdir PATH"
   ],
   "metadata": {
    "collapsed": false
   }
  },
  {
   "cell_type": "markdown",
   "source": [
    "**Pre-Treatment For Machine Learning Algorithms**"
   ],
   "metadata": {
    "collapsed": false
   }
  },
  {
   "cell_type": "code",
   "execution_count": 266,
   "outputs": [],
   "source": [
    "# Load the data\n",
    "train_dataset = tf.data.experimental.make_csv_dataset(\n",
    "    '../kaggle/input/goodreads-books-reviews-290312/goodreads_train.csv',\n",
    "    batch_size=256,\n",
    "    field_delim=',',\n",
    "    select_columns=['review_id', 'review_text', 'rating']\n",
    ")\n",
    "\n",
    "test_dataset = tf.data.experimental.make_csv_dataset(\n",
    "    '../kaggle/input/goodreads-books-reviews-290312/goodreads_test.csv',\n",
    "    batch_size=256,\n",
    "    field_delim=',',\n",
    "    select_columns=['review_id', 'review_text']\n",
    ")"
   ],
   "metadata": {
    "collapsed": false
   }
  },
  {
   "cell_type": "code",
   "execution_count": 267,
   "outputs": [],
   "source": [
    "# Get an iterator over the train_dataset\n",
    "iterator_train = train_dataset.as_numpy_iterator()\n",
    "train_dataset = next(iterator_train)"
   ],
   "metadata": {
    "collapsed": false
   }
  },
  {
   "cell_type": "code",
   "execution_count": 268,
   "outputs": [],
   "source": [
    "# Get an iterator over the test_dataset\n",
    "iterator_test = test_dataset.as_numpy_iterator()\n",
    "test_dataset = next(iterator_test)"
   ],
   "metadata": {
    "collapsed": false
   }
  },
  {
   "cell_type": "code",
   "execution_count": 269,
   "outputs": [],
   "source": [
    "# Init every ds\n",
    "train_review_ids, test_review_ids = train_dataset['review_id'], test_dataset['review_id']\n",
    "train_reviews, test_reviews = train_dataset['review_text'], test_dataset['review_text']\n",
    "train_ratings = train_dataset['rating']"
   ],
   "metadata": {
    "collapsed": false
   }
  },
  {
   "cell_type": "code",
   "execution_count": 270,
   "outputs": [
    {
     "data": {
      "text/plain": "array([b'df83f7aa82d9a4a8a17fba8b5a0b907f',\n       b'f81bcee7ca0207d6458f360cff6f372a',\n       b'b2ad786016834b37c577990095a89275',\n       b'a98604ae885a4974f10ac0bd647660fd',\n       b'edb9579fa816010ce2bd03b9b7a4d52c',\n       b'0c38c5f2078e7879c018800c468b4f3d',\n       b'e7a95dab5140bd44ca68020f8f7b3b42',\n       b'a6bbbacb5e884c6e634db1a6fb34f1cf',\n       b'86bb1cab4ab4a5c67e48fc60811a5fe2',\n       b'4382640e779d9def7e1b6de22c6b2e1c',\n       b'e6971763c16496ba9168df958e05841f',\n       b'6cdc81fbf7bd131fb8e0a27f711415a2',\n       b'ec885df7c9c55400d57bcf2cbf2a7c91',\n       b'9c9d247c0d9f6658c2d725df427cf4d0',\n       b'35d6ca41a695abf6cdebefd63a815de4',\n       b'752960831b6394390a7885b9fcb885b3',\n       b'0ba18556d6c6f6da3fa83cb573234aed',\n       b'3d6f5d2d0cd69cbb1c73dc43668dcce5',\n       b'c96e91481368a5dabfba6c21fe365e16',\n       b'7cd11679e4120e3e0afe1ff496adce18',\n       b'd1db52053ae48eccc56beba2b2a5f84a',\n       b'fe8afe5d82e32980e7bb9f4939e9bc8f',\n       b'a3725dea76f04d06fe18bb287c5eea4e',\n       b'3a8c441418bfdda14d5343dda3e66051',\n       b'2ded7437dca91716ca6c8b21e342d2bc',\n       b'b1c0eb8ba113f787502875c83853aeb1',\n       b'9b595680af2a9bc85d3965e0a930860c',\n       b'5f507173b8befec9b71beeff95c20900',\n       b'3a211f7570320e8847ef72ce68546765',\n       b'ccd967b6d26ba444dd2909aafac8574b',\n       b'e3de52a9b791e761957fb18fc88abd21',\n       b'e38c9bfe156f0fce51a9b921f791050c',\n       b'49b720899c2f5059aca663becf15576f',\n       b'7e92ec322c47f8c73b445ad779f80e80',\n       b'7a9575b68f18829540baa58d670ddc2b',\n       b'84cb7943f8959a4ac324dfa1b71b24f9',\n       b'52c8e468fbff4d15bd964f07c79447b6',\n       b'4e9302e4c8e7aed20f13bb3755ebf2e6',\n       b'eaa0594d7995d660c45df11514d3963d',\n       b'a6badfce38ed522bf0004573040b7d72',\n       b'84f4fd6619238a6a354a24146009c4ba',\n       b'db457250401575731fa51a91314150a2',\n       b'79b29f45e31da9fe1d1d861da1525a4c',\n       b'7b07bc4a25795ac8c1b2ef132e9e546b',\n       b'113e4b6d691619ef37fba5ed887c8c9b',\n       b'f12e82778b0c80e700e18551c2f4f51e',\n       b'6d450767a9ff6f8bc2ba692e4dcc4928',\n       b'dca84a1ff344456c89a414e1a5fa31ba',\n       b'2e5988611a0444c3bd7759105ee40dd5',\n       b'f7dcbea7293b8f655a66393dccea7b7c',\n       b'6ca031b8e6dd0fdb38b8ea28168755d6',\n       b'5289ec6dc03609ef70153e1ccf1fb11d',\n       b'9bc88bf5b327c1253e31f2469fd0eb58',\n       b'7077cdb35344aadef6e26a1874fea76d',\n       b'452e88eb24acd8edff0b14846fbc4fdb',\n       b'db3ecee2f5a6adb8cf980827083f9a96',\n       b'f23331c1af3e46e0d82d40200b9b9304',\n       b'55f2ab0033ea85fa3122355d596de301',\n       b'3cc37b9437afa2a876933cab2a8c64a4',\n       b'c3bfa5ac89e064b6d925b9f8c1e16b4e',\n       b'fa975f80ff08523fa93b0ff3620da653',\n       b'a79f8fc38b63d4acac6c1e865c109993',\n       b'1e034387313cd847666d9892212c19cc',\n       b'b20756380525f44836bf51ec05ed9ed3',\n       b'fb946fc2c9bfb322e731588a4d01c4c6',\n       b'eaa6a1a6e9a686f35f4c73600227d015',\n       b'098c913cc7e757d8a2b70238c2967b05',\n       b'14be1556e221b53572d609d6e33f6321',\n       b'36c3df4a2afc46a4a38cb15599631d20',\n       b'f207f8b36d93d0de56879921d0a9bbbe',\n       b'36fd4cd6c7d599bb47ae0b6463dd7747',\n       b'30be8fde3eafaaece68a4bf603978a6a',\n       b'3374fe665c4723824037b4c8dca391c8',\n       b'13ec32b9dbcc618e103cf5c2efc8beed',\n       b'dc1698083eda6d204170f8265ef249eb',\n       b'd69d40fa9a905e5f659ef9d612edf8cf',\n       b'5c1c9717d3880bbf0b59b391424d323a',\n       b'23619c32d59920df3ba772f2ce34b75a',\n       b'10b75bf03b15d2b02eec0235c608f3fc',\n       b'9125f5e150087c3fc2f3f0e6c11b74f4',\n       b'd6b3ede0cde5ffccbd8484d6d655b27d',\n       b'd3bf5be142872ca8c14d02268b13a4cf',\n       b'814b808ca02ce07c06fab3a564b11504',\n       b'8573a448b9bee22b5b74e4489c51c618',\n       b'e91bd7445166379eaacf7cf262e93718',\n       b'7cec21e412bff306f27a187c0f04d327',\n       b'521b9258fe7c7adc446c1ddfbed60310',\n       b'ff317f39fd34bf0c7472231a527abb6a',\n       b'4874f18a74d8802f757a0a78f9dd2bd6',\n       b'9d7babea5a0e19ed578d45d0959f59f7',\n       b'05dac4725ea5ad771c4f48b06a224158',\n       b'651d6289bad2d6c497e349edf5b0cdd6',\n       b'92d1aac02025bf770ea7f8e26e6fbdf3',\n       b'9539934a01229c05e3b42c16786ae7bb',\n       b'95d6d9a3edbb6e913e6fc935d8427299',\n       b'0387e61ccd421373745845e21c7ffc08',\n       b'7c5ad00e5c013fd40246c913f4ed0814',\n       b'c8e3d1342dbaf84494bfe58832ec6f38',\n       b'f741bf7531dc0439a119c13352de595d',\n       b'311e97b6f19de41dba2fd18aebbe1026',\n       b'09fb81868ea378f4851f90c8f84abb5a',\n       b'80b826e547d275c9a315a5adb250a9a1',\n       b'34f2cab658343e7f000135e19024ef2e',\n       b'be45e604f7e5cadb454c32200918f7f5',\n       b'0b435b4f37584ce346f7f349b9ed5518',\n       b'4423addda39194d41465b4657c1c6a91',\n       b'9fcb1f08a1fb4362f7d9e526ce3abd8d',\n       b'7ec3bcd40e08fd27143c1515a56c9b49',\n       b'd357099c48249e691fb0f0f9cc89cce0',\n       b'572a8f12bf527fa6fa67305ad9941b77',\n       b'c25abf77fd1d887d9c4e2c450af1b5db',\n       b'5b9f47365e01622d6ae780d1a1a39501',\n       b'bb1fd7c2b578a3df3ea23cc449c10f15',\n       b'7b58ecd995e9fe5013d8609a4db6fa0c',\n       b'2cdce59a4471c32f9a92e682409874cb',\n       b'3903479b7654727f819189d44c40cec6',\n       b'62cc17bdda50819f514a4e41995a23a1',\n       b'8dff5283c366cd05722623bc2a9e6412',\n       b'7267f22a52c3d533ab9614661be94a4f',\n       b'02aa105e2bbfab567c1e521e96f09a2b',\n       b'0e599591580bb87891691a7eb2167eb8',\n       b'd2ab3bef3cf335516673e23c94642ba8',\n       b'54f0eceb056871e896c974330f41d47e',\n       b'e21cca8fa9d83e9956b0d92626869be9',\n       b'a417a394aefc16457e57bae2a61bed85',\n       b'a7ebe5d04cd3e694567c7c3f6a09cedf',\n       b'9dc773b0f121e672b591a78af08b6016',\n       b'ad9827a0f730c8b6dbd3eb3619123b03',\n       b'392572c0e230dffd621b3287a9588914',\n       b'df2211c48e9c55a3a33df0ac35b13b7b',\n       b'a40c19401cb1da4055ba02891c24496a',\n       b'e33f8a4f25eec13de56df8adcffd6db8',\n       b'd8cbf4cf47f08a3c5083963cf9e63116',\n       b'cc9e59212db2a27f6b5fb81c7c3013b6',\n       b'a88880d6309dcad82ceeabf6b21593c0',\n       b'5c2c07c4e9613617b32861ad44e06a92',\n       b'd9959512afaacb3477ef2e745987ff00',\n       b'dd37958e4448f5c3b612807135c4b986',\n       b'827bc353f8853af80439561551d02b10',\n       b'7eee7ec643fe4b7557fe46b32a413343',\n       b'0cd3c4f9160553b0eed33e92f657c1a5',\n       b'f27c81358a528ef108e0e294c37fd10b',\n       b'baa453057f5fe1ed9de15ddc7480c785',\n       b'4edce2556b4fb4b0b1630c71962c16ec',\n       b'956e56ee8e21667951ab33f9031024d9',\n       b'c890fefd2ef5930293741f08837e3879',\n       b'19736e3151c23cc839709add7b109640',\n       b'b888015f1c9d391115502268baa0246c',\n       b'd5d9079e0b3d824d8af47dc3356a5904',\n       b'd75a7f7062a8713561912b9f05b62f0e',\n       b'f8e89f8c2382d7601745c6820c78a9fb',\n       b'8bd2e6f7734711868f43ba798261785a',\n       b'2cfb681c601d8cb39c96a43a9e7069ca',\n       b'745278d4d17fae03edc997e81c06f2e0',\n       b'644ee994000d379a5ea6d97a992763e9',\n       b'e4eef6a22f91630150a76b3fd1cd29de',\n       b'0d117686df9bf231fdc4de50aa1a5559',\n       b'7bb4b3f44c48cbac5cea3d0117b19c5a',\n       b'01c716481d53b92070b6c16ea04ac75f',\n       b'1deedd17d829f922486ac767a6e9e064',\n       b'800a2098f51244eafc6b6b15f0298a4e',\n       b'765315e58217f0d8ee5c5f2fea1e0172',\n       b'0da6d89254b40b94226914ecef468919',\n       b'0c0532d8ebc8c990ed58632649601831',\n       b'80e0d5b5668b95954fa400e8ee8d2730',\n       b'1012aa7b81f9e15ad9ed4fd8f972b024',\n       b'd1b1b4395c3d1825bf7cb1ed1b1be6d5',\n       b'532f85fde67a64231491e2cf1c271fca',\n       b'4f078d270a9e30724a12822e7a9c0355',\n       b'def3a58021d4b816928b479176313634',\n       b'2ae2bfd16bd4b9837ba15893007e9d12',\n       b'8d4ef659cab23e81667704459bf6627f',\n       b'd149bf066a3cff88b3cff4aad28c5b9c',\n       b'af0fa3418248fb51a382a5a245927144',\n       b'08bde2a3475eae78dd3e0c462b6e2c33',\n       b'ece170fa1f7399a7779d22026f0145de',\n       b'b9119cadebf5e344353585030d53858b',\n       b'ec2a2a52700d91fb6924155c57101995',\n       b'53d0c75a5171574ec74bfb2046045b06',\n       b'18000ba6bd83cd967ec94a6a04234cba',\n       b'1a2554ede9eeddfa9d96af432f77c4ad',\n       b'dfc2e3a7505e297567871f4b76cdb27c',\n       b'5bed0805ab706a4826acef4801c0521b',\n       b'4a5dee73450d886a2013cd351387b23f',\n       b'1f892634a53041930769e16de5b52a53',\n       b'938bcf1e3a538bdaddf959c3bf389995',\n       b'ea62a52a0751b8928cfe03091d3e5860',\n       b'd436ddc814d3312aa905a74d6afc5d1a',\n       b'3eb281283b919371082381a451661041',\n       b'cc50bd8d05bc04c84baf7a911f9d2597',\n       b'2aa72baddb589f1f55c0ca347ae32fd3',\n       b'0ef1bf34c999605d6e7e1f652cb85291',\n       b'6de11ebee4761174f4015e6e539134ff',\n       b'9271e7d71b452e2d1e4286aedc0139d9',\n       b'cd0f91549b86790562a451ad9e6939c7',\n       b'f27903cdc6b0519158c19b41405a52e7',\n       b'ededc5eadc7546ece8ebfd8b1d063954',\n       b'60de1e0dfcc16618ccc0786f887897a3',\n       b'63b005eec88f3110cf4e48493aa4de82',\n       b'd4365c1458ef0d21f998f0ac69493284',\n       b'e602304f0e81530a37df5e1b4a3637f3',\n       b'c2aec4dcd44b372baa10581201ae6fd2',\n       b'dd15c1689f04898eab820e5fbb9b42c3',\n       b'9e9e4528465f6edfd039afc3cfbe3ba8',\n       b'157e089ea9ff29d36ae516d692bf639e',\n       b'a6ad381d1f9b125991bceb3fb85fb4ed',\n       b'c3bdb3f6d14bcf771fd736d40d838f9d',\n       b'250f185260a9a56d9b729d749442ca28',\n       b'a514953625f9e6cd385cb47302167540',\n       b'a5fcbb6993850c80a7d9d6b0089eec3c',\n       b'c3d1109600b7c2ae571c67d552b626a0',\n       b'c3bf217802b64ae900d12c4ff1436571',\n       b'249dbc19118f3edddbd00f7023593c66',\n       b'068f6f03cc9aee7ce61d7c059bb8f6aa',\n       b'984b88f4172e5d596518547a8054ae85',\n       b'204332c75382cc1fb7541c3ad48810d2',\n       b'9fe330207ea3aff5905bd72c43e66631',\n       b'3a942bd66677096aabd8f4f8d77ced71',\n       b'd39568ad325ccfb7c10575ae9880df0b',\n       b'694caf2fcdbcc9a98634881dfc71f8ca',\n       b'6293a3001f3174d251efeac4e8ec931e',\n       b'0dc909fd112dfbfd071b2459aa6495de',\n       b'55fa4dba476a57c1cde1e867f38d750a',\n       b'692a6669cdd90809280e568875c82282',\n       b'e2511c3e7d9393d58f68ae27c4e6cace',\n       b'e87a85fe0fcdb5f30b5c9b094378fa26',\n       b'79bc778a384833188309f255d4240c37',\n       b'42d0aa5460a6255f6806001234156e2f',\n       b'8cdd0fb3f7134413de947c600dd393e7',\n       b'ede363885fb612618d9fb6fb60395b1f',\n       b'251124cab1b0790b22006a70f4a0aa0a',\n       b'95840452f23221d863ed42a5c0f82da2',\n       b'8b98b3f552fe807aa43c021c6f4d9642',\n       b'852b1c15e63949f50a8d4bf88dc41923',\n       b'c1e6e3d40f015eff6cd1f99a5f4587f8',\n       b'b3dd5ce0c83d120094f58a992ed60014',\n       b'85675025d96fc60f95eb268e893890a3',\n       b'983b69654f983ea22f13040e0d84e63b',\n       b'ac09e1a8fd12165b6d7e6874e907acb3',\n       b'a7dcd394d8bea1874ab499c7dac7e5bd',\n       b'2bfd56baa1216e59fa88db167e109dc9',\n       b'd7f4ab2afdb23d72c0b8880d2c14736c',\n       b'58d67cbe2ff66b122ddeed9480af6def',\n       b'a2e248e16eab729ce4318c13acf8cb50',\n       b'7416eba5682d19e1744b30ab9456c0d4',\n       b'2792b03204c0f4134380ecbcc93278e5',\n       b'52a98749f656fce8ae1c6f845a992223',\n       b'80b8c48056ff175ccc2c7352503a60fc',\n       b'a73a479a9bd39210d473f07aa1df8371',\n       b'f19967a0c5b620e0fee58167055425ac',\n       b'48b46658edc05aef61ce46b867cb70ba',\n       b'a5122794d988d89f89d749f08285dc79',\n       b'f77cd9b55354531fe1d4d2d884694562',\n       b'd7895bd821223e5e6cc51222c640bc4c',\n       b'6f4bcc9798fcb6f866ef3ccd84f9869c',\n       b'59024c85d05e0cbd74b3da051d4ad901'], dtype=object)"
     },
     "execution_count": 270,
     "metadata": {},
     "output_type": "execute_result"
    }
   ],
   "source": [
    "test_review_ids"
   ],
   "metadata": {
    "collapsed": false
   }
  },
  {
   "cell_type": "markdown",
   "source": [
    "**NLP**"
   ],
   "metadata": {
    "collapsed": false
   }
  },
  {
   "cell_type": "code",
   "execution_count": 271,
   "outputs": [],
   "source": [
    "from typing import Any\n",
    "\n",
    "\n",
    "def convert_to_nlp(dataset: Any):\n",
    "    # Create a TextVectorization layer\n",
    "    vectorizer = tf.keras.layers.TextVectorization(output_sequence_length=100, output_mode='tf_idf') # Ou int avec couche d'embedding\n",
    "    # Fit the layer to the input text data\n",
    "    vectorizer.adapt(dataset)\n",
    "    # Transform the text data into integer sequences\n",
    "    return vectorizer(dataset)"
   ],
   "metadata": {
    "collapsed": false
   }
  },
  {
   "cell_type": "markdown",
   "source": [
    "**Transforming Data**"
   ],
   "metadata": {
    "collapsed": false
   }
  },
  {
   "cell_type": "code",
   "execution_count": 272,
   "outputs": [],
   "source": [
    "# Labelling review ids\n",
    "from sklearn.preprocessing import LabelEncoder\n",
    "\n",
    "le = LabelEncoder()\n",
    "test_review_ids = le.fit_transform(test_review_ids)"
   ],
   "metadata": {
    "collapsed": false
   }
  },
  {
   "cell_type": "code",
   "execution_count": 273,
   "outputs": [],
   "source": [
    "# Vectorize text\n",
    "train_reviews = convert_to_nlp(train_reviews)\n",
    "test_reviews = convert_to_nlp(train_reviews)"
   ],
   "metadata": {
    "collapsed": false
   }
  },
  {
   "cell_type": "markdown",
   "source": [
    "**Training**"
   ],
   "metadata": {
    "collapsed": false
   }
  },
  {
   "cell_type": "code",
   "execution_count": 274,
   "outputs": [],
   "source": [
    "# Convert the target labels to one-hot encoded arrays\n",
    "train_ratings_one_hot = tf.keras.utils.to_categorical(train_ratings)"
   ],
   "metadata": {
    "collapsed": false
   }
  },
  {
   "cell_type": "code",
   "execution_count": 275,
   "outputs": [],
   "source": [
    "# Getting in desired shape\n",
    "train_reviews = [[i] for i in train_reviews]\n",
    "train_ratings_one_hot = [[i] for i in train_ratings_one_hot]"
   ],
   "metadata": {
    "collapsed": false
   }
  },
  {
   "cell_type": "code",
   "execution_count": 276,
   "outputs": [
    {
     "name": "stdout",
     "output_type": "stream",
     "text": [
      "[[[35 7 33 ... 0 0 0]],\n",
      " [[48 204 5 ... 5846 10 213]],\n",
      " [[11 18 2452 ... 1491 1245 143]],\n",
      " [[4 296 542 ... 176 1828 11]],\n",
      " [[15 12 122 ... 24 27 6]],\n",
      " [[2882 14 30 ... 13 2 492]],\n",
      " [[2513 27 201 ... 0 0 0]],\n",
      " [[12 14 13 ... 3192 1787 3]],\n",
      " [[371 138 3657 ... 3634 3 5312]],\n",
      " [[6435 515 12 ... 0 0 0]],\n",
      " [[818 816 230 ... 67 68 9]],\n",
      " [[3851 1247 41 ... 0 0 0]],\n",
      " [[109 2 71 ... 0 0 0]],\n",
      " [[4 37 38 ... 35 200 116]],\n",
      " [[4 651 6 ... 1477 377 1137]],\n",
      " [[12 14 50 ... 57 56 20]],\n",
      " [[4357 4 121 ... 4 79 74]],\n",
      " [[371 138 2 ... 3 436 7]],\n",
      " [[2079 4 37 ... 83 24 259]],\n",
      " [[4 161 12 ... 15 2 155]],\n",
      " [[6 354 241 ... 63 17 12]],\n",
      " [[6452 138 2201 ... 0 0 0]],\n",
      " [[87 980 5 ... 0 0 0]],\n",
      " [[20 176 30 ... 70 95 10]],\n",
      " [[4775 12 14 ... 0 0 0]],\n",
      " [[2203 8 6 ... 1781 25 54]],\n",
      " [[117 2 534 ... 0 0 0]],\n",
      " [[156 100 6 ... 0 0 0]],\n",
      " [[6 887 5917 ... 0 0 0]],\n",
      " [[4668 12 84 ... 0 0 0]],\n",
      " [[122 331 846 ... 0 0 0]],\n",
      " [[6 985 1843 ... 0 0 0]],\n",
      " [[75 105 23 ... 0 0 0]],\n",
      " [[20 1944 4 ... 0 0 0]],\n",
      " [[118 5 803 ... 6408 15 86]],\n",
      " [[12 6071 4 ... 0 0 0]],\n",
      " [[33 201 310 ... 0 0 0]],\n",
      " [[1115 15 203 ... 8 41 2]],\n",
      " [[166 35 7 ... 4 227 30]],\n",
      " [[23 2 1175 ... 0 0 0]],\n",
      " [[76 56 1695 ... 46 6217 145]],\n",
      " [[4 67 74 ... 0 0 0]],\n",
      " [[87 2221 3 ... 198 4 37]],\n",
      " [[413 138 122 ... 0 0 0]],\n",
      " [[12 8 6 ... 2 66 2459]],\n",
      " [[81 36 85 ... 0 0 0]],\n",
      " [[1683 8 376 ... 5 577 2]],\n",
      " [[12 14 306 ... 42 4594 11]],\n",
      " [[6450 138 75 ... 0 0 0]],\n",
      " [[169 6 1019 ... 80 2 36]],\n",
      " [[2940 138 797 ... 0 0 0]],\n",
      " [[20 129 4 ... 19 15 2]],\n",
      " [[20 2236 4 ... 0 0 0]],\n",
      " [[6448 818 4 ... 24 2145 26]],\n",
      " [[157 143 13 ... 5623 3 51]],\n",
      " [[4022 14 44 ... 0 0 0]],\n",
      " [[12 2 566 ... 0 0 0]],\n",
      " [[2 6321 153 ... 584 4 72]],\n",
      " [[2 258 1662 ... 4829 470 2]],\n",
      " [[814 652 371 ... 123 9 58]],\n",
      " [[4 592 5 ... 0 0 0]],\n",
      " [[4 58 6 ... 171 376 11]],\n",
      " [[53 4 910 ... 0 0 0]],\n",
      " [[413 138 15 ... 5 109 123]],\n",
      " [[414 138 35 ... 347 109 275]],\n",
      " [[4 486 2 ... 0 0 0]],\n",
      " [[4 13 3803 ... 2 2655 516]],\n",
      " [[4 25 90 ... 0 0 0]],\n",
      " [[369 6 2571 ... 292 78 1095]],\n",
      " [[4 651 12 ... 2 144 8]],\n",
      " [[371 138 12 ... 0 0 0]],\n",
      " [[33 310 7 ... 0 0 0]],\n",
      " [[3700 30 12 ... 0 0 0]],\n",
      " [[12 8 6 ... 5 30 3]],\n",
      " [[818 12 14 ... 14 35 96]],\n",
      " [[45 271 120 ... 34 51 7]],\n",
      " [[71 951 24 ... 907 53 46]],\n",
      " [[6 375 16 ... 0 0 0]],\n",
      " [[12 13 20 ... 0 0 0]],\n",
      " [[4 259 12 ... 0 0 0]],\n",
      " [[578 338 965 ... 0 0 0]],\n",
      " [[4 98 12 ... 6061 0 0]],\n",
      " [[371 138 4 ... 0 0 0]],\n",
      " [[166 46 1958 ... 0 0 0]],\n",
      " [[340 26 191 ... 6 131 2233]],\n",
      " [[3020 13 10 ... 0 0 0]],\n",
      " [[4 486 374 ... 0 0 0]],\n",
      " [[4 98 12 ... 0 0 0]],\n",
      " [[2999 8 35 ... 3 11 199]],\n",
      " [[15 12 122 ... 10 1896 8]],\n",
      " [[66 122 1449 ... 76 124 5]],\n",
      " [[4 403 12 ... 279 656 21]],\n",
      " [[20 81 4 ... 0 0 0]],\n",
      " [[253 558 10 ... 27 2 5840]],\n",
      " [[12 8 33 ... 0 0 0]],\n",
      " [[1006 62 2 ... 216 194 2869]],\n",
      " [[6 468 256 ... 0 0 0]],\n",
      " [[12 14 13 ... 0 0 0]],\n",
      " [[20 113 102 ... 0 0 0]],\n",
      " [[52 1172 34 ... 0 0 0]],\n",
      " [[71 291 7 ... 168 33 310]],\n",
      " [[6 366 30 ... 0 0 0]],\n",
      " [[371 76 111 ... 69 83 18]],\n",
      " [[355 3 2066 ... 0 0 0]],\n",
      " [[4 98 12 ... 0 0 0]],\n",
      " [[117 4 105 ... 8 20 971]],\n",
      " [[4 37 107 ... 7 18 2862]],\n",
      " [[43 2 408 ... 31 8 6]],\n",
      " [[369 1056 3 ... 328 17 54]],\n",
      " [[81 36 16 ... 0 0 0]],\n",
      " [[12 36 58 ... 143 1602 1051]],\n",
      " [[4 37 161 ... 0 0 0]],\n",
      " [[75 254 6 ... 0 0 0]],\n",
      " [[6454 138 51 ... 0 0 0]],\n",
      " [[6368 52 26 ... 4737 2781 28]],\n",
      " [[818 141 751 ... 80 54 97]],\n",
      " [[47 56 55 ... 6 99 7]],\n",
      " [[45 2 5559 ... 0 0 0]],\n",
      " [[4 37 192 ... 260 225 22]],\n",
      " [[12 8 2 ... 2742 19 153]],\n",
      " [[413 2 71 ... 0 0 0]],\n",
      " [[197 1953 4 ... 129 4 313]],\n",
      " [[2931 1640 1783 ... 173 7 18]],\n",
      " [[12 8 6 ... 987 4417 29]],\n",
      " [[141 366 1408 ... 0 0 0]],\n",
      " [[111 735 5 ... 0 0 0]],\n",
      " [[375 122 8 ... 0 0 0]],\n",
      " [[371 138 11 ... 2103 5453 2485]],\n",
      " [[4 403 12 ... 10 5 18]],\n",
      " [[20 4 193 ... 6 99 3181]],\n",
      " [[4 25 6 ... 0 0 0]],\n",
      " [[41 92 4732 ... 0 0 0]],\n",
      " [[2 3594 3 ... 2214 88 42]],\n",
      " [[122 7 2 ... 11 144 57]],\n",
      " [[12 14 13 ... 43 13 5211]],\n",
      " [[197 1953 2 ... 3 65 22]],\n",
      " [[12 35 13 ... 584 7 12]],\n",
      " [[559 138 15 ... 2 1711 306]],\n",
      " [[227 149 296 ... 0 0 0]],\n",
      " [[12 14 58 ... 185 5 109]],\n",
      " [[9 259 49 ... 0 0 0]],\n",
      " [[457 20 4 ... 27 632 9]],\n",
      " [[413 138 12 ... 60 52 9]],\n",
      " [[814 652 413 ... 157 70 16]],\n",
      " [[105 37 396 ... 16 9 84]],\n",
      " [[52 26 58 ... 92 269 179]],\n",
      " [[413 138 15 ... 2674 3995 837]],\n",
      " [[731 686 48 ... 0 0 0]],\n",
      " [[12 14 8 ... 0 0 0]],\n",
      " [[12 8 6 ... 49 3 31]],\n",
      " [[4 58 90 ... 3759 12 8]],\n",
      " [[2 863 8 ... 4918 18 1114]],\n",
      " [[414 299 38 ... 261 1606 26]],\n",
      " [[12 13 6 ... 211 529 17]],\n",
      " [[87 206 3 ... 0 0 0]],\n",
      " [[12 14 3 ... 0 0 0]],\n",
      " [[6439 294 75 ... 0 0 0]],\n",
      " [[6141 8 3462 ... 0 0 0]],\n",
      " [[6468 253 25 ... 0 0 0]],\n",
      " [[6311 8 2157 ... 134 1658 1079]],\n",
      " [[23 174 181 ... 0 0 0]],\n",
      " [[197 1953 2020 ... 58 223 455]],\n",
      " [[122 3139 6444 ... 185 5238 3]],\n",
      " [[962 2620 15 ... 2 173 2418]],\n",
      " [[35 7 2 ... 0 0 0]],\n",
      " [[4724 4 129 ... 0 0 0]],\n",
      " [[3364 5094 2081 ... 11 18 1912]],\n",
      " [[413 138 4 ... 0 0 0]],\n",
      " [[93 415 3 ... 0 0 0]],\n",
      " [[79 30 11 ... 0 0 0]],\n",
      " [[12 566 14 ... 0 0 0]],\n",
      " [[45 6 3474 ... 4 172 184]],\n",
      " [[371 138 4 ... 31 1678 754]],\n",
      " [[69 981 3 ... 0 0 0]],\n",
      " [[1055 5 6215 ... 0 0 0]],\n",
      " [[2934 371 138 ... 0 0 0]],\n",
      " [[371 414 138 ... 142 450 3314]],\n",
      " [[413 248 60 ... 4060 5 495]],\n",
      " [[413 90 2458 ... 83 3999 17]],\n",
      " [[371 138 2 ... 643 17 18]],\n",
      " [[12 8 37 ... 36 16 117]],\n",
      " [[6214 6461 1961 ... 0 0 0]],\n",
      " [[4 583 12 ... 83 5 30]],\n",
      " [[2 832 132 ... 45 4 38]],\n",
      " [[46 915 1411 ... 0 0 0]],\n",
      " [[46 312 264 ... 0 0 0]],\n",
      " [[1331 642 12 ... 0 0 0]],\n",
      " [[19 301 19 ... 60 22 2764]],\n",
      " [[12 8 35 ... 8 999 6211]],\n",
      " [[48 296 1074 ... 688 217 242]],\n",
      " [[371 138 4 ... 49 47 13]],\n",
      " [[4 13 11 ... 78 128 10]],\n",
      " [[12 14 13 ... 943 785 120]],\n",
      " [[1107 30 29 ... 0 0 0]],\n",
      " [[71 7 40 ... 1892 8 44]],\n",
      " [[2334 4138 27 ... 1319 514 2711]],\n",
      " [[2461 1441 8 ... 54 57 3]],\n",
      " [[252 8 6 ... 15 2425 149]],\n",
      " [[6 37 102 ... 0 0 0]],\n",
      " [[4 37 98 ... 0 0 0]],\n",
      " [[337 138 6 ... 0 0 0]],\n",
      " [[102 14 124 ... 0 0 0]],\n",
      " [[2931 818 4 ... 0 0 0]],\n",
      " [[567 5 425 ... 4 67 266]],\n",
      " [[4 192 12 ... 0 0 0]],\n",
      " [[122 5 191 ... 0 0 0]],\n",
      " [[559 3300 4 ... 640 2863 3]],\n",
      " [[6463 2017 149 ... 9 13 154]],\n",
      " [[4 651 12 ... 29 2 14]],\n",
      " [[75 34 127 ... 6 2704 11]],\n",
      " [[85 694 141 ... 0 0 0]],\n",
      " [[71 4384 5167 ... 0 0 0]],\n",
      " [[4 13 20 ... 22 58 5]],\n",
      " [[247 3 751 ... 5 68 29]],\n",
      " [[413 138 15 ... 984 11 47]],\n",
      " [[4 129 37 ... 5 2 4818]],\n",
      " [[4 136 9 ... 184 125 93]],\n",
      " [[12 14 110 ... 11 2 1041]],\n",
      " [[413 2724 247 ... 2 1095 7]],\n",
      " [[371 4 192 ... 0 0 0]],\n",
      " [[12 14 37 ... 19 64 7]],\n",
      " [[2 645 5 ... 0 0 0]],\n",
      " [[4 651 6 ... 944 323 78]],\n",
      " [[737 366 12 ... 0 0 0]],\n",
      " [[2830 8 6 ... 4638 9 82]],\n",
      " [[40 4 25 ... 0 0 0]],\n",
      " [[4 1516 1486 ... 41 115 7]],\n",
      " [[34 6 102 ... 0 0 0]],\n",
      " [[12 13 20 ... 0 0 0]],\n",
      " [[4 111 409 ... 0 0 0]],\n",
      " [[4765 2312 8 ... 8 349 3]],\n",
      " [[2934 12 837 ... 0 0 0]],\n",
      " [[6 319 30 ... 0 0 0]],\n",
      " [[149 92 1416 ... 0 0 0]],\n",
      " [[413 138 43 ... 969 2050 17]],\n",
      " [[20 4 129 ... 3 13 20]],\n",
      " [[413 138 2816 ... 1311 10 47]],\n",
      " [[4 37 161 ... 0 0 0]],\n",
      " [[393 758 50 ... 3 26 82]],\n",
      " [[290 8 85 ... 0 0 0]],\n",
      " [[12 14 50 ... 0 0 0]],\n",
      " [[52 2 1622 ... 359 17 704]],\n",
      " [[12 13 189 ... 282 197 611]],\n",
      " [[371 138 588 ... 9 3479 16]],\n",
      " [[754 3 1616 ... 8 62 301]],\n",
      " [[1680 2 930 ... 111 130 223]],\n",
      " [[55 1696 8 ... 0 0 0]],\n",
      " [[12 329 481 ... 123 368 13]],\n",
      " [[562 14 433 ... 0 0 0]],\n",
      " [[371 138 147 ... 135 119 64]],\n",
      " [[120 4 486 ... 1905 1891 7]],\n",
      " [[2357 100 6 ... 34 274 31]],\n",
      " [[1465 185 8 ... 0 0 0]],\n",
      " [[15 2 244 ... 243 176 295]],\n",
      " [[298 33 778 ... 3605 81 4]],\n",
      " [[747 82 76 ... 938 63 17]]]\r\n"
     ]
    }
   ],
   "source": [
    "tf.print(train_reviews)"
   ],
   "metadata": {
    "collapsed": false
   }
  },
  {
   "cell_type": "code",
   "execution_count": 277,
   "outputs": [],
   "source": [
    "# Create a dataset from the sequences\n",
    "train_dataset = tf.data.Dataset.from_tensor_slices((train_reviews, train_ratings_one_hot))"
   ],
   "metadata": {
    "collapsed": false
   }
  },
  {
   "cell_type": "code",
   "execution_count": 278,
   "outputs": [
    {
     "name": "stdout",
     "output_type": "stream",
     "text": [
      "<TensorSliceDataset element_spec=(TensorSpec(shape=(1, 100), dtype=tf.int64, name=None), TensorSpec(shape=(1, 6), dtype=tf.float32, name=None))>\r\n"
     ]
    }
   ],
   "source": [
    "tf.print(train_dataset)"
   ],
   "metadata": {
    "collapsed": false
   }
  },
  {
   "cell_type": "markdown",
   "source": [
    "**MLP**"
   ],
   "metadata": {
    "collapsed": false
   }
  },
  {
   "cell_type": "code",
   "execution_count": 279,
   "outputs": [],
   "source": [
    "# Define the model\n",
    "model = tf.keras.Sequential([\n",
    "    tf.keras.layers.Dense(32, activation='relu'),\n",
    "    tf.keras.layers.Dense(32, activation='relu'),\n",
    "    tf.keras.layers.Dense(6, activation='sigmoid')\n",
    "])"
   ],
   "metadata": {
    "collapsed": false
   }
  },
  {
   "cell_type": "code",
   "execution_count": 280,
   "outputs": [],
   "source": [
    "# Compile the model\n",
    "model.compile(optimizer=tf.keras.optimizers.Adam(learning_rate=0.01),\n",
    "              loss=\"binary_crossentropy\",\n",
    "              metrics=['accuracy'])"
   ],
   "metadata": {
    "collapsed": false
   }
  },
  {
   "cell_type": "code",
   "execution_count": 281,
   "outputs": [
    {
     "name": "stdout",
     "output_type": "stream",
     "text": [
      "Epoch 1/10\n",
      "256/256 [==============================] - 2s 5ms/step - loss: 0.5612 - accuracy: 0.3047\n",
      "Epoch 2/10\n",
      "256/256 [==============================] - 1s 5ms/step - loss: 0.5354 - accuracy: 0.3398\n",
      "Epoch 3/10\n",
      "256/256 [==============================] - 1s 5ms/step - loss: 0.5284 - accuracy: 0.3750\n",
      "Epoch 4/10\n",
      "256/256 [==============================] - 1s 5ms/step - loss: 0.5203 - accuracy: 0.3789\n",
      "Epoch 5/10\n",
      "256/256 [==============================] - 1s 5ms/step - loss: 0.5158 - accuracy: 0.4102\n",
      "Epoch 6/10\n",
      "256/256 [==============================] - 1s 5ms/step - loss: 0.5146 - accuracy: 0.3984\n",
      "Epoch 7/10\n",
      "256/256 [==============================] - 1s 5ms/step - loss: 0.5120 - accuracy: 0.4141\n",
      "Epoch 8/10\n",
      "256/256 [==============================] - 2s 6ms/step - loss: 0.5121 - accuracy: 0.4219\n",
      "Epoch 9/10\n",
      "256/256 [==============================] - 1s 5ms/step - loss: 0.5082 - accuracy: 0.4648\n",
      "Epoch 10/10\n",
      "256/256 [==============================] - 1s 5ms/step - loss: 0.5095 - accuracy: 0.4609\n"
     ]
    },
    {
     "data": {
      "text/plain": "<keras.callbacks.History at 0x1df9926f850>"
     },
     "execution_count": 281,
     "metadata": {},
     "output_type": "execute_result"
    }
   ],
   "source": [
    "# Train the model\n",
    "model.fit(train_dataset,\n",
    "          epochs=10,\n",
    "          callbacks=[tf.keras.callbacks.TensorBoard(TENSORBOARD_LOGS_PATH)])"
   ],
   "metadata": {
    "collapsed": false
   }
  },
  {
   "cell_type": "markdown",
   "source": [
    "**Testing**"
   ],
   "metadata": {
    "collapsed": false
   }
  },
  {
   "cell_type": "code",
   "execution_count": 282,
   "outputs": [
    {
     "name": "stdout",
     "output_type": "stream",
     "text": [
      "<TensorSliceDataset element_spec=TensorSpec(shape=(100,), dtype=tf.int64, name=None)>\r\n"
     ]
    }
   ],
   "source": [
    "# Create a dataset from the sequences\n",
    "test_dataset = tf.data.Dataset.from_tensor_slices(test_reviews)\n",
    "tf.print(test_dataset)"
   ],
   "metadata": {
    "collapsed": false
   }
  },
  {
   "cell_type": "code",
   "execution_count": 283,
   "outputs": [
    {
     "name": "stdout",
     "output_type": "stream",
     "text": [
      "8/8 [==============================] - 0s 2ms/step\n"
     ]
    }
   ],
   "source": [
    "model_predict = model.predict(test_reviews)"
   ],
   "metadata": {
    "collapsed": false
   }
  },
  {
   "cell_type": "code",
   "execution_count": 284,
   "outputs": [
    {
     "data": {
      "text/plain": "array([[-0.33717933, -0.4791053 , -0.36599943,  0.30232665,  0.39007258,\n         0.31291068],\n       [-0.27274454, -0.4502117 , -0.3560969 ,  0.22734278,  0.45071563,\n         0.18510158],\n       [-0.31516358, -0.47748885, -0.6254769 ,  0.08597627,  0.37846076,\n         0.34188947],\n       ...,\n       [-0.25502488, -0.4990398 , -0.534453  ,  0.15738311,  0.44957456,\n         0.37385756],\n       [-0.23866393, -0.44232222, -0.3837485 ,  0.18750687,  0.36443415,\n         0.33929458],\n       [-0.32992333, -0.530186  , -0.5629255 ,  0.17183001,  0.5568629 ,\n         0.36359507]], dtype=float32)"
     },
     "execution_count": 284,
     "metadata": {},
     "output_type": "execute_result"
    }
   ],
   "source": [
    "model_predict"
   ],
   "metadata": {
    "collapsed": false
   }
  },
  {
   "cell_type": "markdown",
   "source": [
    "**Submission**"
   ],
   "metadata": {
    "collapsed": false
   }
  },
  {
   "cell_type": "code",
   "execution_count": 285,
   "outputs": [
    {
     "name": "stdout",
     "output_type": "stream",
     "text": [
      "(478033,)\n"
     ]
    },
    {
     "ename": "ValueError",
     "evalue": "Length of values (256) does not match length of index (478033)",
     "output_type": "error",
     "traceback": [
      "\u001B[1;31m---------------------------------------------------------------------------\u001B[0m",
      "\u001B[1;31mValueError\u001B[0m                                Traceback (most recent call last)",
      "Cell \u001B[1;32mIn[285], line 4\u001B[0m\n\u001B[0;32m      2\u001B[0m sample_submission \u001B[38;5;241m=\u001B[39m pd\u001B[38;5;241m.\u001B[39mread_csv(INPUT_PATH \u001B[38;5;241m+\u001B[39m \u001B[38;5;124m\"\u001B[39m\u001B[38;5;130;01m\\\\\u001B[39;00m\u001B[38;5;124mgoodreads_sample_submission.csv\u001B[39m\u001B[38;5;124m\"\u001B[39m)\n\u001B[0;32m      3\u001B[0m \u001B[38;5;28mprint\u001B[39m(np\u001B[38;5;241m.\u001B[39masarray(sample_submission[\u001B[38;5;124m'\u001B[39m\u001B[38;5;124mrating\u001B[39m\u001B[38;5;124m'\u001B[39m])\u001B[38;5;241m.\u001B[39mshape)\n\u001B[1;32m----> 4\u001B[0m sample_submission\u001B[38;5;241m.\u001B[39mrating \u001B[38;5;241m=\u001B[39m np\u001B[38;5;241m.\u001B[39margmax(model_predict, axis\u001B[38;5;241m=\u001B[39m\u001B[38;5;241m1\u001B[39m)\n\u001B[0;32m      5\u001B[0m sample_submission\u001B[38;5;241m.\u001B[39mto_csv(OUTPUT_PATH, index\u001B[38;5;241m=\u001B[39mtest_review_ids)\n",
      "File \u001B[1;32m~\\anaconda3\\envs\\4IABD_DL\\lib\\site-packages\\pandas\\core\\generic.py:5931\u001B[0m, in \u001B[0;36mNDFrame.__setattr__\u001B[1;34m(self, name, value)\u001B[0m\n\u001B[0;32m   5929\u001B[0m     \u001B[38;5;28mobject\u001B[39m\u001B[38;5;241m.\u001B[39m\u001B[38;5;21m__setattr__\u001B[39m(\u001B[38;5;28mself\u001B[39m, name, value)\n\u001B[0;32m   5930\u001B[0m \u001B[38;5;28;01melif\u001B[39;00m name \u001B[38;5;129;01min\u001B[39;00m \u001B[38;5;28mself\u001B[39m\u001B[38;5;241m.\u001B[39m_info_axis:\n\u001B[1;32m-> 5931\u001B[0m     \u001B[38;5;28mself\u001B[39m[name] \u001B[38;5;241m=\u001B[39m value\n\u001B[0;32m   5932\u001B[0m \u001B[38;5;28;01melse\u001B[39;00m:\n\u001B[0;32m   5933\u001B[0m     \u001B[38;5;28mobject\u001B[39m\u001B[38;5;241m.\u001B[39m\u001B[38;5;21m__setattr__\u001B[39m(\u001B[38;5;28mself\u001B[39m, name, value)\n",
      "File \u001B[1;32m~\\anaconda3\\envs\\4IABD_DL\\lib\\site-packages\\pandas\\core\\frame.py:3978\u001B[0m, in \u001B[0;36mDataFrame.__setitem__\u001B[1;34m(self, key, value)\u001B[0m\n\u001B[0;32m   3975\u001B[0m     \u001B[38;5;28mself\u001B[39m\u001B[38;5;241m.\u001B[39m_setitem_array([key], value)\n\u001B[0;32m   3976\u001B[0m \u001B[38;5;28;01melse\u001B[39;00m:\n\u001B[0;32m   3977\u001B[0m     \u001B[38;5;66;03m# set column\u001B[39;00m\n\u001B[1;32m-> 3978\u001B[0m     \u001B[38;5;28;43mself\u001B[39;49m\u001B[38;5;241;43m.\u001B[39;49m\u001B[43m_set_item\u001B[49m\u001B[43m(\u001B[49m\u001B[43mkey\u001B[49m\u001B[43m,\u001B[49m\u001B[43m \u001B[49m\u001B[43mvalue\u001B[49m\u001B[43m)\u001B[49m\n",
      "File \u001B[1;32m~\\anaconda3\\envs\\4IABD_DL\\lib\\site-packages\\pandas\\core\\frame.py:4172\u001B[0m, in \u001B[0;36mDataFrame._set_item\u001B[1;34m(self, key, value)\u001B[0m\n\u001B[0;32m   4162\u001B[0m \u001B[38;5;28;01mdef\u001B[39;00m \u001B[38;5;21m_set_item\u001B[39m(\u001B[38;5;28mself\u001B[39m, key, value) \u001B[38;5;241m-\u001B[39m\u001B[38;5;241m>\u001B[39m \u001B[38;5;28;01mNone\u001B[39;00m:\n\u001B[0;32m   4163\u001B[0m     \u001B[38;5;124;03m\"\"\"\u001B[39;00m\n\u001B[0;32m   4164\u001B[0m \u001B[38;5;124;03m    Add series to DataFrame in specified column.\u001B[39;00m\n\u001B[0;32m   4165\u001B[0m \n\u001B[1;32m   (...)\u001B[0m\n\u001B[0;32m   4170\u001B[0m \u001B[38;5;124;03m    ensure homogeneity.\u001B[39;00m\n\u001B[0;32m   4171\u001B[0m \u001B[38;5;124;03m    \"\"\"\u001B[39;00m\n\u001B[1;32m-> 4172\u001B[0m     value \u001B[38;5;241m=\u001B[39m \u001B[38;5;28;43mself\u001B[39;49m\u001B[38;5;241;43m.\u001B[39;49m\u001B[43m_sanitize_column\u001B[49m\u001B[43m(\u001B[49m\u001B[43mvalue\u001B[49m\u001B[43m)\u001B[49m\n\u001B[0;32m   4174\u001B[0m     \u001B[38;5;28;01mif\u001B[39;00m (\n\u001B[0;32m   4175\u001B[0m         key \u001B[38;5;129;01min\u001B[39;00m \u001B[38;5;28mself\u001B[39m\u001B[38;5;241m.\u001B[39mcolumns\n\u001B[0;32m   4176\u001B[0m         \u001B[38;5;129;01mand\u001B[39;00m value\u001B[38;5;241m.\u001B[39mndim \u001B[38;5;241m==\u001B[39m \u001B[38;5;241m1\u001B[39m\n\u001B[0;32m   4177\u001B[0m         \u001B[38;5;129;01mand\u001B[39;00m \u001B[38;5;129;01mnot\u001B[39;00m is_extension_array_dtype(value)\n\u001B[0;32m   4178\u001B[0m     ):\n\u001B[0;32m   4179\u001B[0m         \u001B[38;5;66;03m# broadcast across multiple columns if necessary\u001B[39;00m\n\u001B[0;32m   4180\u001B[0m         \u001B[38;5;28;01mif\u001B[39;00m \u001B[38;5;129;01mnot\u001B[39;00m \u001B[38;5;28mself\u001B[39m\u001B[38;5;241m.\u001B[39mcolumns\u001B[38;5;241m.\u001B[39mis_unique \u001B[38;5;129;01mor\u001B[39;00m \u001B[38;5;28misinstance\u001B[39m(\u001B[38;5;28mself\u001B[39m\u001B[38;5;241m.\u001B[39mcolumns, MultiIndex):\n",
      "File \u001B[1;32m~\\anaconda3\\envs\\4IABD_DL\\lib\\site-packages\\pandas\\core\\frame.py:4912\u001B[0m, in \u001B[0;36mDataFrame._sanitize_column\u001B[1;34m(self, value)\u001B[0m\n\u001B[0;32m   4909\u001B[0m     \u001B[38;5;28;01mreturn\u001B[39;00m _reindex_for_setitem(Series(value), \u001B[38;5;28mself\u001B[39m\u001B[38;5;241m.\u001B[39mindex)\n\u001B[0;32m   4911\u001B[0m \u001B[38;5;28;01mif\u001B[39;00m is_list_like(value):\n\u001B[1;32m-> 4912\u001B[0m     \u001B[43mcom\u001B[49m\u001B[38;5;241;43m.\u001B[39;49m\u001B[43mrequire_length_match\u001B[49m\u001B[43m(\u001B[49m\u001B[43mvalue\u001B[49m\u001B[43m,\u001B[49m\u001B[43m \u001B[49m\u001B[38;5;28;43mself\u001B[39;49m\u001B[38;5;241;43m.\u001B[39;49m\u001B[43mindex\u001B[49m\u001B[43m)\u001B[49m\n\u001B[0;32m   4913\u001B[0m \u001B[38;5;28;01mreturn\u001B[39;00m sanitize_array(value, \u001B[38;5;28mself\u001B[39m\u001B[38;5;241m.\u001B[39mindex, copy\u001B[38;5;241m=\u001B[39m\u001B[38;5;28;01mTrue\u001B[39;00m, allow_2d\u001B[38;5;241m=\u001B[39m\u001B[38;5;28;01mTrue\u001B[39;00m)\n",
      "File \u001B[1;32m~\\anaconda3\\envs\\4IABD_DL\\lib\\site-packages\\pandas\\core\\common.py:561\u001B[0m, in \u001B[0;36mrequire_length_match\u001B[1;34m(data, index)\u001B[0m\n\u001B[0;32m    557\u001B[0m \u001B[38;5;124;03m\"\"\"\u001B[39;00m\n\u001B[0;32m    558\u001B[0m \u001B[38;5;124;03mCheck the length of data matches the length of the index.\u001B[39;00m\n\u001B[0;32m    559\u001B[0m \u001B[38;5;124;03m\"\"\"\u001B[39;00m\n\u001B[0;32m    560\u001B[0m \u001B[38;5;28;01mif\u001B[39;00m \u001B[38;5;28mlen\u001B[39m(data) \u001B[38;5;241m!=\u001B[39m \u001B[38;5;28mlen\u001B[39m(index):\n\u001B[1;32m--> 561\u001B[0m     \u001B[38;5;28;01mraise\u001B[39;00m \u001B[38;5;167;01mValueError\u001B[39;00m(\n\u001B[0;32m    562\u001B[0m         \u001B[38;5;124m\"\u001B[39m\u001B[38;5;124mLength of values \u001B[39m\u001B[38;5;124m\"\u001B[39m\n\u001B[0;32m    563\u001B[0m         \u001B[38;5;124mf\u001B[39m\u001B[38;5;124m\"\u001B[39m\u001B[38;5;124m(\u001B[39m\u001B[38;5;132;01m{\u001B[39;00m\u001B[38;5;28mlen\u001B[39m(data)\u001B[38;5;132;01m}\u001B[39;00m\u001B[38;5;124m) \u001B[39m\u001B[38;5;124m\"\u001B[39m\n\u001B[0;32m    564\u001B[0m         \u001B[38;5;124m\"\u001B[39m\u001B[38;5;124mdoes not match length of index \u001B[39m\u001B[38;5;124m\"\u001B[39m\n\u001B[0;32m    565\u001B[0m         \u001B[38;5;124mf\u001B[39m\u001B[38;5;124m\"\u001B[39m\u001B[38;5;124m(\u001B[39m\u001B[38;5;132;01m{\u001B[39;00m\u001B[38;5;28mlen\u001B[39m(index)\u001B[38;5;132;01m}\u001B[39;00m\u001B[38;5;124m)\u001B[39m\u001B[38;5;124m\"\u001B[39m\n\u001B[0;32m    566\u001B[0m     )\n",
      "\u001B[1;31mValueError\u001B[0m: Length of values (256) does not match length of index (478033)"
     ]
    }
   ],
   "source": [
    "# Submission code\n",
    "sample_submission = pd.read_csv(INPUT_PATH + \"\\\\goodreads_sample_submission.csv\")\n",
    "print(np.asarray(sample_submission['rating']).shape)\n",
    "sample_submission.rating = np.argmax(model_predict, axis=1)\n",
    "sample_submission.to_csv(OUTPUT_PATH, index=test_review_ids)"
   ],
   "metadata": {
    "collapsed": false
   }
  }
 ],
 "metadata": {
  "kernelspec": {
   "display_name": "Python 3",
   "language": "python",
   "name": "python3"
  },
  "language_info": {
   "codemirror_mode": {
    "name": "ipython",
    "version": 2
   },
   "file_extension": ".py",
   "mimetype": "text/x-python",
   "name": "python",
   "nbconvert_exporter": "python",
   "pygments_lexer": "ipython2",
   "version": "2.7.6"
  }
 },
 "nbformat": 4,
 "nbformat_minor": 0
}
